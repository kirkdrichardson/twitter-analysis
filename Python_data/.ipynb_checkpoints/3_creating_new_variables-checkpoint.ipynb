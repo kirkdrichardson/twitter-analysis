{
 "cells": [
  {
   "cell_type": "markdown",
   "metadata": {},
   "source": [
    "# <h1 style=\"text-align: center; text-decoration: underline\">Creating & Identifying Variables</h1>\n",
    "<br>\n",
    "<br>\n",
    "><p style='font-size: large'>We'll take a look at the hashtags represented in the HT-full dataset. We'll split original tweets and retweets into two separate dataframes, so that we can compare them side by side in the paper</p>\n"
   ]
  },
  {
   "cell_type": "code",
   "execution_count": 1,
   "metadata": {
    "collapsed": true
   },
   "outputs": [],
   "source": [
    "import pandas as pd\n",
    "import numpy as np\n",
    "from pandas import DataFrame\n",
    "from pandas import Series "
   ]
  },
  {
   "cell_type": "code",
   "execution_count": 2,
   "metadata": {
    "collapsed": true
   },
   "outputs": [],
   "source": [
    "pd.set_option('display.max_columns', None)"
   ]
  },
  {
   "cell_type": "code",
   "execution_count": 3,
   "metadata": {
    "collapsed": false
   },
   "outputs": [
    {
     "data": {
      "text/html": [
       "<div>\n",
       "<table border=\"1\" class=\"dataframe\">\n",
       "  <thead>\n",
       "    <tr style=\"text-align: right;\">\n",
       "      <th></th>\n",
       "      <th>id</th>\n",
       "      <th>hash_select</th>\n",
       "      <th>tweet_id</th>\n",
       "      <th>inserted_date</th>\n",
       "      <th>truncated</th>\n",
       "      <th>language</th>\n",
       "      <th>possibly_sensitive</th>\n",
       "      <th>coordinates</th>\n",
       "      <th>retweeted_status</th>\n",
       "      <th>created_at_text</th>\n",
       "      <th>created_at</th>\n",
       "      <th>content</th>\n",
       "      <th>from_user_screen_name</th>\n",
       "      <th>from_user_id</th>\n",
       "      <th>from_user_followers_count</th>\n",
       "      <th>from_user_friends_count</th>\n",
       "      <th>from_user_listed_count</th>\n",
       "      <th>from_user_statuses_count</th>\n",
       "      <th>from_user_description</th>\n",
       "      <th>from_user_location</th>\n",
       "      <th>from_user_created_at</th>\n",
       "      <th>retweet_count</th>\n",
       "      <th>entities_urls</th>\n",
       "      <th>entities_urls_count</th>\n",
       "      <th>entities_hashtags</th>\n",
       "      <th>entities_hashtags_count</th>\n",
       "      <th>entities_mentions</th>\n",
       "      <th>entities_mentions_count</th>\n",
       "      <th>in_reply_to_screen_name</th>\n",
       "      <th>in_reply_to_status_id</th>\n",
       "      <th>source</th>\n",
       "      <th>entities_expanded_urls</th>\n",
       "      <th>json_output</th>\n",
       "      <th>entities_media_count</th>\n",
       "      <th>media_expanded_url</th>\n",
       "      <th>media_url</th>\n",
       "      <th>media_type</th>\n",
       "      <th>video_link</th>\n",
       "      <th>photo_link</th>\n",
       "      <th>twitpic</th>\n",
       "    </tr>\n",
       "  </thead>\n",
       "  <tbody>\n",
       "    <tr>\n",
       "      <th>9</th>\n",
       "      <td>2555</td>\n",
       "      <td>%2523montanamoment</td>\n",
       "      <td>8.550000e+17</td>\n",
       "      <td>35:57.3</td>\n",
       "      <td>0</td>\n",
       "      <td>en</td>\n",
       "      <td>0.0</td>\n",
       "      <td>NaN</td>\n",
       "      <td>NaN</td>\n",
       "      <td>Fri Apr 21 04:21:17 +0000 2017</td>\n",
       "      <td>21:17.0</td>\n",
       "      <td>The night sky is a fascinating place especiall...</td>\n",
       "      <td>LeonKauffman</td>\n",
       "      <td>425125748.0</td>\n",
       "      <td>673</td>\n",
       "      <td>152</td>\n",
       "      <td>39</td>\n",
       "      <td>1616</td>\n",
       "      <td>Hydrologist, photographer, fan of Drexel baske...</td>\n",
       "      <td>Condon, Montana, USA</td>\n",
       "      <td>Wed Nov 30 15:58:25 +0000 2011</td>\n",
       "      <td>4</td>\n",
       "      <td>NaN</td>\n",
       "      <td>0</td>\n",
       "      <td>MontanaMoment</td>\n",
       "      <td>1</td>\n",
       "      <td>NaN</td>\n",
       "      <td>0</td>\n",
       "      <td>NaN</td>\n",
       "      <td>NaN</td>\n",
       "      <td>&lt;a href=\"https://about.twitter.com/products/tw...</td>\n",
       "      <td>NaN</td>\n",
       "      <td>{u'contributors': None, u'truncated': False, u...</td>\n",
       "      <td>1.0</td>\n",
       "      <td>https://twitter.com/LeonKauffman/status/855275...</td>\n",
       "      <td>http://pbs.twimg.com/media/C96LaxcUQAEMOQl.jpg</td>\n",
       "      <td>photo</td>\n",
       "      <td>0</td>\n",
       "      <td>0</td>\n",
       "      <td>0</td>\n",
       "    </tr>\n",
       "  </tbody>\n",
       "</table>\n",
       "</div>"
      ],
      "text/plain": [
       "     id         hash_select      tweet_id inserted_date  truncated language  \\\n",
       "9  2555  %2523montanamoment  8.550000e+17       35:57.3          0       en   \n",
       "\n",
       "   possibly_sensitive coordinates retweeted_status  \\\n",
       "9                 0.0         NaN              NaN   \n",
       "\n",
       "                  created_at_text created_at  \\\n",
       "9  Fri Apr 21 04:21:17 +0000 2017    21:17.0   \n",
       "\n",
       "                                             content from_user_screen_name  \\\n",
       "9  The night sky is a fascinating place especiall...          LeonKauffman   \n",
       "\n",
       "   from_user_id  from_user_followers_count  from_user_friends_count  \\\n",
       "9   425125748.0                        673                      152   \n",
       "\n",
       "   from_user_listed_count  from_user_statuses_count  \\\n",
       "9                      39                      1616   \n",
       "\n",
       "                               from_user_description    from_user_location  \\\n",
       "9  Hydrologist, photographer, fan of Drexel baske...  Condon, Montana, USA   \n",
       "\n",
       "             from_user_created_at  retweet_count entities_urls  \\\n",
       "9  Wed Nov 30 15:58:25 +0000 2011              4           NaN   \n",
       "\n",
       "   entities_urls_count entities_hashtags  entities_hashtags_count  \\\n",
       "9                    0     MontanaMoment                        1   \n",
       "\n",
       "  entities_mentions  entities_mentions_count in_reply_to_screen_name  \\\n",
       "9               NaN                        0                     NaN   \n",
       "\n",
       "   in_reply_to_status_id                                             source  \\\n",
       "9                    NaN  <a href=\"https://about.twitter.com/products/tw...   \n",
       "\n",
       "  entities_expanded_urls                                        json_output  \\\n",
       "9                    NaN  {u'contributors': None, u'truncated': False, u...   \n",
       "\n",
       "   entities_media_count                                 media_expanded_url  \\\n",
       "9                   1.0  https://twitter.com/LeonKauffman/status/855275...   \n",
       "\n",
       "                                        media_url media_type  video_link  \\\n",
       "9  http://pbs.twimg.com/media/C96LaxcUQAEMOQl.jpg      photo           0   \n",
       "\n",
       "   photo_link  twitpic  \n",
       "9           0        0  "
      ]
     },
     "execution_count": 3,
     "metadata": {},
     "output_type": "execute_result"
    }
   ],
   "source": [
    "df = pd.read_pickle('./data/a_HT_no_retweets.pkl')\n",
    "df.head(1)"
   ]
  },
  {
   "cell_type": "code",
   "execution_count": 4,
   "metadata": {
    "collapsed": false
   },
   "outputs": [
    {
     "name": "stdout",
     "output_type": "stream",
     "text": [
      "2187 original tweets\n",
      "40 variables\n"
     ]
    }
   ],
   "source": [
    "print len(df), \"original tweets\"\n",
    "print len(df.columns), \"variables\""
   ]
  },
  {
   "cell_type": "markdown",
   "metadata": {},
   "source": [
    "<h2> Export # of Followers Averaged by account before standardizing variables below</h2><br>\n",
    "><p>  We'll create a new df using only those variables we're interested in, group by user and average their followers. Since each of the user-objects are relative to when a tweet was inserted into the dataset, there will be small changes in the number of followers an account has in association with its tweets in the dataset. This way, we'll be able to refer to accounts as having a single value for `followers_count` (which is really the average number of followers over the collection period).<br><br> We'll also export a .csv file, since it will be nice to have a non-standardized record that can be used to compare accounts based on number of followers.</p>"
   ]
  },
  {
   "cell_type": "code",
   "execution_count": 5,
   "metadata": {
    "collapsed": false
   },
   "outputs": [
    {
     "data": {
      "text/html": [
       "<div>\n",
       "<table border=\"1\" class=\"dataframe\">\n",
       "  <thead>\n",
       "    <tr style=\"text-align: right;\">\n",
       "      <th></th>\n",
       "      <th>from_user_followers_count</th>\n",
       "    </tr>\n",
       "    <tr>\n",
       "      <th>from_user_screen_name</th>\n",
       "      <th></th>\n",
       "    </tr>\n",
       "  </thead>\n",
       "  <tbody>\n",
       "    <tr>\n",
       "      <th>earthXplorer</th>\n",
       "      <td>183102.812500</td>\n",
       "    </tr>\n",
       "    <tr>\n",
       "      <th>GlacierNPS</th>\n",
       "      <td>181839.833333</td>\n",
       "    </tr>\n",
       "    <tr>\n",
       "      <th>MalloryOnTravel</th>\n",
       "      <td>101157.000000</td>\n",
       "    </tr>\n",
       "    <tr>\n",
       "      <th>StephanieQuayle</th>\n",
       "      <td>81327.000000</td>\n",
       "    </tr>\n",
       "    <tr>\n",
       "      <th>LuxuryTravel77</th>\n",
       "      <td>71775.500000</td>\n",
       "    </tr>\n",
       "    <tr>\n",
       "      <th>visitmontana</th>\n",
       "      <td>57882.324074</td>\n",
       "    </tr>\n",
       "    <tr>\n",
       "      <th>ManTripping</th>\n",
       "      <td>57165.500000</td>\n",
       "    </tr>\n",
       "    <tr>\n",
       "      <th>robertserian</th>\n",
       "      <td>54845.500000</td>\n",
       "    </tr>\n",
       "    <tr>\n",
       "      <th>ECAatState</th>\n",
       "      <td>54770.000000</td>\n",
       "    </tr>\n",
       "    <tr>\n",
       "      <th>StormHour</th>\n",
       "      <td>47673.000000</td>\n",
       "    </tr>\n",
       "  </tbody>\n",
       "</table>\n",
       "</div>"
      ],
      "text/plain": [
       "                       from_user_followers_count\n",
       "from_user_screen_name                           \n",
       "earthXplorer                       183102.812500\n",
       "GlacierNPS                         181839.833333\n",
       "MalloryOnTravel                    101157.000000\n",
       "StephanieQuayle                     81327.000000\n",
       "LuxuryTravel77                      71775.500000\n",
       "visitmontana                        57882.324074\n",
       "ManTripping                         57165.500000\n",
       "robertserian                        54845.500000\n",
       "ECAatState                          54770.000000\n",
       "StormHour                           47673.000000"
      ]
     },
     "execution_count": 5,
     "metadata": {},
     "output_type": "execute_result"
    }
   ],
   "source": [
    "# This could also be done in a more 'Pythonic' way using the apply method\n",
    "df_followers = df[['from_user_screen_name', 'from_user_followers_count']].groupby('from_user_screen_name')\n",
    "df_followers = df_followers.mean()\n",
    "df_followers = df_followers.sort_values('from_user_followers_count', ascending=False)\n",
    "df_followers.head(10)"
   ]
  },
  {
   "cell_type": "code",
   "execution_count": 6,
   "metadata": {
    "collapsed": false
   },
   "outputs": [
    {
     "data": {
      "text/html": [
       "<div>\n",
       "<table border=\"1\" class=\"dataframe\">\n",
       "  <thead>\n",
       "    <tr style=\"text-align: right;\">\n",
       "      <th></th>\n",
       "      <th>from_user_screen_name</th>\n",
       "      <th>from_user_followers_count</th>\n",
       "    </tr>\n",
       "  </thead>\n",
       "  <tbody>\n",
       "    <tr>\n",
       "      <th>2492</th>\n",
       "      <td>GlacierNPS</td>\n",
       "      <td>191658</td>\n",
       "    </tr>\n",
       "    <tr>\n",
       "      <th>2945</th>\n",
       "      <td>GlacierNPS</td>\n",
       "      <td>187765</td>\n",
       "    </tr>\n",
       "    <tr>\n",
       "      <th>3072</th>\n",
       "      <td>GlacierNPS</td>\n",
       "      <td>187765</td>\n",
       "    </tr>\n",
       "    <tr>\n",
       "      <th>2966</th>\n",
       "      <td>GlacierNPS</td>\n",
       "      <td>187765</td>\n",
       "    </tr>\n",
       "    <tr>\n",
       "      <th>6138</th>\n",
       "      <td>earthXplorer</td>\n",
       "      <td>183605</td>\n",
       "    </tr>\n",
       "    <tr>\n",
       "      <th>5793</th>\n",
       "      <td>earthXplorer</td>\n",
       "      <td>183604</td>\n",
       "    </tr>\n",
       "    <tr>\n",
       "      <th>5748</th>\n",
       "      <td>earthXplorer</td>\n",
       "      <td>183604</td>\n",
       "    </tr>\n",
       "    <tr>\n",
       "      <th>5747</th>\n",
       "      <td>earthXplorer</td>\n",
       "      <td>183604</td>\n",
       "    </tr>\n",
       "    <tr>\n",
       "      <th>5675</th>\n",
       "      <td>earthXplorer</td>\n",
       "      <td>183604</td>\n",
       "    </tr>\n",
       "    <tr>\n",
       "      <th>5677</th>\n",
       "      <td>earthXplorer</td>\n",
       "      <td>183604</td>\n",
       "    </tr>\n",
       "    <tr>\n",
       "      <th>6653</th>\n",
       "      <td>earthXplorer</td>\n",
       "      <td>182802</td>\n",
       "    </tr>\n",
       "    <tr>\n",
       "      <th>6578</th>\n",
       "      <td>earthXplorer</td>\n",
       "      <td>182802</td>\n",
       "    </tr>\n",
       "    <tr>\n",
       "      <th>6594</th>\n",
       "      <td>earthXplorer</td>\n",
       "      <td>182802</td>\n",
       "    </tr>\n",
       "    <tr>\n",
       "      <th>6693</th>\n",
       "      <td>earthXplorer</td>\n",
       "      <td>182802</td>\n",
       "    </tr>\n",
       "    <tr>\n",
       "      <th>6595</th>\n",
       "      <td>earthXplorer</td>\n",
       "      <td>182802</td>\n",
       "    </tr>\n",
       "    <tr>\n",
       "      <th>6630</th>\n",
       "      <td>earthXplorer</td>\n",
       "      <td>182802</td>\n",
       "    </tr>\n",
       "    <tr>\n",
       "      <th>6599</th>\n",
       "      <td>earthXplorer</td>\n",
       "      <td>182802</td>\n",
       "    </tr>\n",
       "    <tr>\n",
       "      <th>6652</th>\n",
       "      <td>earthXplorer</td>\n",
       "      <td>182802</td>\n",
       "    </tr>\n",
       "    <tr>\n",
       "      <th>6632</th>\n",
       "      <td>earthXplorer</td>\n",
       "      <td>182802</td>\n",
       "    </tr>\n",
       "    <tr>\n",
       "      <th>6612</th>\n",
       "      <td>earthXplorer</td>\n",
       "      <td>182802</td>\n",
       "    </tr>\n",
       "  </tbody>\n",
       "</table>\n",
       "</div>"
      ],
      "text/plain": [
       "     from_user_screen_name  from_user_followers_count\n",
       "2492            GlacierNPS                     191658\n",
       "2945            GlacierNPS                     187765\n",
       "3072            GlacierNPS                     187765\n",
       "2966            GlacierNPS                     187765\n",
       "6138          earthXplorer                     183605\n",
       "5793          earthXplorer                     183604\n",
       "5748          earthXplorer                     183604\n",
       "5747          earthXplorer                     183604\n",
       "5675          earthXplorer                     183604\n",
       "5677          earthXplorer                     183604\n",
       "6653          earthXplorer                     182802\n",
       "6578          earthXplorer                     182802\n",
       "6594          earthXplorer                     182802\n",
       "6693          earthXplorer                     182802\n",
       "6595          earthXplorer                     182802\n",
       "6630          earthXplorer                     182802\n",
       "6599          earthXplorer                     182802\n",
       "6652          earthXplorer                     182802\n",
       "6632          earthXplorer                     182802\n",
       "6612          earthXplorer                     182802"
      ]
     },
     "execution_count": 6,
     "metadata": {},
     "output_type": "execute_result"
    }
   ],
   "source": [
    "# check that values make sense\n",
    "df_compare = df[['from_user_screen_name', 'from_user_followers_count']].sort_values('from_user_followers_count', ascending=False)\n",
    "df_compare.head(20)"
   ]
  },
  {
   "cell_type": "code",
   "execution_count": 7,
   "metadata": {
    "collapsed": true
   },
   "outputs": [],
   "source": [
    "# Looks right, time to export\n",
    "#df_followers.to_csv('Average followers by user-account - nonstandardized.csv', sep=',')"
   ]
  },
  {
   "cell_type": "markdown",
   "metadata": {},
   "source": [
    "<h2>Create a new variable based on `from_user_screen_name`</h2>\n",
    "\n",
    "<blockquote style=\"font: 14px\">\n",
    "We are interested in measuring the effect of account type upon user engagement, which we will measure using retweets. Thus, in our current tweet-level dataset, consisting only of original tweets, we will generate the binary variable  account_status and assign to it a zero if a tweet is sent from 'visitMontana'. For all other cases, that is, for accounts that are not the official Montana destination marketing organization, we will assign the account_status variable a one.\n",
    "<br>\n",
    "First, let's explore the from_user_screen_name a bit further to see how it has changed from the original dataset, which included all tweets (including retweets) that used the hashtag 'montanaMoment.'\n",
    "</blockquote>"
   ]
  },
  {
   "cell_type": "code",
   "execution_count": 8,
   "metadata": {
    "collapsed": false
   },
   "outputs": [
    {
     "name": "stdout",
     "output_type": "stream",
     "text": [
      "546\n"
     ]
    },
    {
     "data": {
      "text/plain": [
       "array(['LeonKauffman', 'ErinWx', 'wxmissoula', 'lastbestbox',\n",
       "       'ShannonAMay', 'UNLV_Sage', 'RMKK', 'CWPsPhotos', 'visitmontana',\n",
       "       'BlackBullGolf', 'shawnnewton', 'EmilieRSaunders', 'KLeaguePhoto',\n",
       "       'MTMVictoria', 'michelleroy', 'DancingAspens', 'WildReflections',\n",
       "       'yellowstonegriz', 'mmcphoto', 'MTHist', 'BozemanBrewing',\n",
       "       'montanalori', 'Melaniephurst', 'billingsgazette', 'Amy_Savannah',\n",
       "       'myrnam71', 'MichaelBHodges', 'avaldez', 'AllPointsMT',\n",
       "       'pinnaclemontana', 'abigaildennis', 'MerevinTweets', '1Blonde_Amy',\n",
       "       'OrphanGirl_MT', 'timberveil', 'HazerLive', 'Suzie_OConnell',\n",
       "       'AlmaDCastillo', 'carlygarrison87', 'BrikoUSA', 'edoornek',\n",
       "       'KINSEYHD', 'CarrollCollege', 'stefferology', 'TravelDazeco',\n",
       "       'nprofilm', 'ellesbee', 'adriansgphoto', 'CC_WxWitch',\n",
       "       'codyedwards', 'MGCTwest', 'RockyTopSkiBum', 'Visitbigsky',\n",
       "       'TariBKfan', 'MarketHook', 'Sabre_Moore', 'TailyrIrvine',\n",
       "       'DrLimnology', 'Spark_Creative', 'SparkCreativeMT',\n",
       "       'mclaughlin_kate', 'KMun71', 'thatchelseagirl', 'MontanaTraveler',\n",
       "       'BarWGuestRanch', 'daxphotography', 'BarbaraSerian',\n",
       "       'asthemagpieflys', 'terriwilkey', 'robertserian', 'LuxuryTravel77',\n",
       "       'HeadhuntersFly', 'Tonuccihayes', 'VoteChoice', 'matam85',\n",
       "       'LauburgMark', 'mt_corps', 'SkoutTravel', 'TripleCreekRanc',\n",
       "       'nurslinginspire', 'RandyWhite64', 'mama_sk', 'oreomill',\n",
       "       'rochmadceper', 'hedrickchris', 'MoniqueSMull', 'BrettBFrench',\n",
       "       'couldbecam', 'FaithRiver', 'Paws_Up', 'NWSMissoula',\n",
       "       'TravelMindset', 'GFTrib_KInbody', 'DrJoeO', '_simplesnaps',\n",
       "       'ThatWomanThing', 'jemgrigg', 'urban2country', 'UGFArgonauts',\n",
       "       'RadleyIce', 'beckyjlomax', 'Jeff_Greenwald', 'kickassphoto',\n",
       "       'CrankyEloise', 'FlyGirlsMedia', 'PollTournament',\n",
       "       'KendraCousineau', 'rnbowflvrsocks', 'mt_missoula', 'MrMarky1985',\n",
       "       'TroutOutfitters', 'cassieglows', 'AARPMontana', 'TezitaMacedo',\n",
       "       'ayayay7777777', 'mislaphotoguy', 'edwrzesien', 'FishDellaBay',\n",
       "       'lutzjewelry', 'NWABA', 'TRG_Bond', 'eyoung406', 'brownformontana',\n",
       "       'TheExceptionMag', 'rymetal13', 'montanasports', 'jamesridle',\n",
       "       'ttaylorpix', 'TippetRise', 'lisacareydavis', 'ResourceTravel',\n",
       "       'Tipuschai', 'franvarsel', 'nicolegallow', 'Ken_Gibson', 'Wisetail',\n",
       "       'TiffanyFamily05', 'GregForMontana', '6_mayer', 'MTJournalist',\n",
       "       'HarvestLife_MT', 'ChrisPuyear', 'publiclandlvr', 'MTsTrailhead',\n",
       "       'visitsemontana', 'FairmontMontana', 'katieroo6', 'LKPH',\n",
       "       'MattRosendale', 'MadisonianNews', 'LC_Staffing', 'JLHugg',\n",
       "       'MTHwyPatrol', 'grdnrmt', 'maritehmke', 'RyanSennPT', 'ComfortMT',\n",
       "       'crazycreek1987', 'DeepRanch', 'Dallalipop', 'grizzlyfireplac',\n",
       "       'SW_MontanaFWP', '22Lupfer', 'seattleid', 'ManTripping',\n",
       "       'Il_Rocker', 'GFTrib_Seaborn', 'Jeremiah_Photo', 'adgirl406',\n",
       "       'KAJNews', 'kpaxnews', 'catholicamanda', 'JenniferEffect',\n",
       "       'MontanaOhmy', 'angelnmt2012', 'People1Power', 'Bitterrootcabin',\n",
       "       'StuffedSuitcase', 'TheWorkSpotMT', 'BGmhoffman', 'AcousticAtlas',\n",
       "       'OficerDoofy', 'leesamaree', 'thetripwishlist', 'mtwhitewater',\n",
       "       'LVgamblerswife', 'virgelle', 'annie_hanshew', 'DTCMolloy',\n",
       "       'FlyingPigAdvent', 'pablomedina07', 'ReeVarcoe', 'jvossphoto',\n",
       "       'Polly333Polly', 'msuvb', 'shahnawazqadir5', 'BrewerMike406',\n",
       "       'BarbSackman', 'youlovetajie', 'Rickmayphotos', 'TheNovelWest',\n",
       "       'DanicaWinters', 'shanecotee', 'ERobbinsCFalls', 'GuarenasRepano',\n",
       "       'inourdr', 'StoneyConnors', 'projectFOSSIL', 'SomethingDutch',\n",
       "       'NotionClothing', 'GrindTV', 'MarkMesenko', 'thom_g_bridge',\n",
       "       'lifeaujus', 'erikaisl', 'RealAmericaNL', 'WarbleswBella', 'PeyBb',\n",
       "       'Lost_Btw_border', 'GlacierGuidesMT', 'AaricBryan',\n",
       "       'photographingmt', 'MontanaRHI', 'take_roots', 'lioneclare',\n",
       "       '406DMF', 'RockCreekRanch', 'SmellyOldtaku', 'ExploreWF',\n",
       "       'EricSivers', 'miraclemtn_', 'authenticFNL', 'paulatinanerin',\n",
       "       'tamaraleighllc', 'KaeiLaeli', 'CrockettJS', 'TessaHMT',\n",
       "       'hollykmichels', 'dreaminventor', 'RobertNogier', 'jtvortec',\n",
       "       'RedLodgeMontana', 'TheTokiBear', 'TorreyVoigt', 'sumoh7',\n",
       "       'carjourneyconvo', 'brittanywhelch3', 'teresamccarthy',\n",
       "       'markbryantphoto', 'eyeluv2laff', 'ABC_acres', 'BnBFinder',\n",
       "       'Cassilyn524', 'verlanjesse', 'martapm1989', 'Todayinmontana',\n",
       "       'felixfsantistev', 'denisejuneau', 'ChooseMontana', 'amandamarkert',\n",
       "       'TonyBynum', 'hermeticmtn', 'sladams3', 'ruthieflymorgan',\n",
       "       'Visit_Kalispell', 'advindapparel', 'visitmissoula', '90Alvarodiaz',\n",
       "       '___tyson', 'missoulian', 'itsShyyyyyyyyyy', 'outdoortravella',\n",
       "       'mtstandard', 'RunninJake4', 'GlacierNPS', 'LizGTweets',\n",
       "       'SavardConsult', 'gay_nero', 'TiffMetcalf', 'ColburnDel8',\n",
       "       'sunopal7', 'thoward14', 'BrandUSA', 'KTVHNews', 'ScottGager',\n",
       "       'DudeRanchers', 'wander_filled', 'epetersenphoto',\n",
       "       'iflyfishmontana', 'mdaviesmtnews', 'visitlivingston',\n",
       "       'Trumpisatrader', 'MaxDetjens', 'BlueMountainBB', 'laurelhill',\n",
       "       'HideChewer', 'caseygrimley', 'jewleewelp', 'DriveTheNation',\n",
       "       'PedroAtState', 'ECAatState', 'Pointsandtravel', 'Hellfire_ESS',\n",
       "       'mattgraysky', 'KellyWLWicks', 'MontanaImgs', 'youtajiewajie',\n",
       "       'GoodPicx', 'craftsworkinmom', 'Poppinoff406', 'GlacierCountry',\n",
       "       'saint_marche', 'aimone35', 'brianmurnion', 'BobZellarPhoto',\n",
       "       'MearaMum', 'DervalFitzsimo1', 'ashcaitphoto', 'LukeStrommen',\n",
       "       'MajorGirlMarci1', 'MontanaWheat', 'BoulderCreekLdg', 'ChrisHerpin',\n",
       "       'SirHammerwinkle', 'bozemansymphony', 'WesternSkies',\n",
       "       'neilmacadvisian', 'AspireRealtyMT', 'Vagabond3Live',\n",
       "       'PatrickRecord', 'BigHoleWC', 'spworth', 'sylvianoble',\n",
       "       'NickMillward_', 'jesse__wurm', 'StaciaDahl', 'WDWBarrett',\n",
       "       'mjmantis', 'pdpaulgaard', 'CatNipNinja406', 'zach_w84it_nell',\n",
       "       'TomLutey', 'compassandtwine', 'goodUglyTruth', 'hminternational',\n",
       "       'BucketListJrny', 'byfreemad', 'Realty_AnnHall', 'laurengrabelle',\n",
       "       'leo_pollock', 'FentonPhoto', 'drebmann', 'evelynimgdesign',\n",
       "       'STC21BigSky', 'LewisClarkTrail', 'Izaakwaltoninn', 'iexplore',\n",
       "       'cairochris', 'JaymeKFraser', 'Nanettlc', 'jordannlankford',\n",
       "       'russ_foss', 'RealJamesET', 'nancyQauthor', 'CorKeysMontana',\n",
       "       'katyrose23', 'MenWhoBlog', 'RedLodgeMntn', 'flysummit',\n",
       "       'LILLEEinMT', 'JLHerms', 'JoesWildWorld', 'mikealbeland',\n",
       "       'KraaftShaak', 'ScottMathson', 'from1791', 'CandaceDyar',\n",
       "       'Mt_mtn_top', 'SnowghostDesign', 'nounconformist', 'NesreenZ',\n",
       "       'djkajibee', 'Improve_HomesMT', 'DreamcatcherLdg', 'ODUHunting',\n",
       "       'TwistNTies1', 'TheMichaelGrey', 'TogTweeter', 'chris_truemag',\n",
       "       'triple7photog', 'Rockiesmt', 'yebalnik', 'joshpsonnenberg',\n",
       "       'carlyhuffman', 'BlackCoffeeMsla', 'buttercup1', 'billsvision',\n",
       "       'utbsmtn', 'Ktbird37', 'AnitaDWhite', 'TheJohnsonPost',\n",
       "       'WilliamsAmelia', 'kinseyfineart', 'VagabondElegant', 'Joanna942',\n",
       "       'PaulGrauJr', 'russell_chloe', 'MT_Elkaholic', 'ThriftyNWMom',\n",
       "       'savagejason', 'ballholic34', 'GeekHermit', '_codymcdaniel',\n",
       "       'Grvyrdmama', 'samriddle4real', 'KevinSlayden', 'fecisa',\n",
       "       'eradiosports', 'Grant_MTLC', 'MontanaNBCMT', 'GBackcountry',\n",
       "       'RyanTurnerPhoto', 'LexPitra', 'caseygreene', 'JeniaMay',\n",
       "       'margoensz', 'onlyinbozeman', 'MasonBoring', 'kimberscupboard',\n",
       "       'taylor_streit', 'dafitterknitter', 'KNoel26', 'earthXplorer',\n",
       "       'earthXplorerTV', 'mmcgonigal23', 'ASebrell', 'greenkatphoto',\n",
       "       'AtkinsonJohn7', 'ButteMatt', 'karenbuley', 'jjduff', 'HubCoffeeMT',\n",
       "       'kate_haegele', 'ImDavidAbrams', 'HNYMOONislands', 'SOAR12steps',\n",
       "       'ANerbovig', 'Extremeryan', 'debbie_picard', 'huntercovington',\n",
       "       '_drewcrosby', 'kevsgiles', 'Animalstoo', 'RogueMahmaBear',\n",
       "       'DerwinLGray', 'fifah_ty', 'Mattness21', 'cathyspartanj',\n",
       "       'sssanderson95', 'KirstenAlana', 'montanamalt', 'alisonlewis',\n",
       "       'dameonoemad', 'TheeMontana', 'SibyllaMatilde', 'Nancydbrown',\n",
       "       'chuczek_huczek', 'breakingpar', '406Productions_', 'lotus_effects',\n",
       "       'MickeyLapp', 'Excalibur57X', 'Triciasellsre', 'CourtneyBellMag',\n",
       "       'heyyyhay', 'WendyAltschuler', 'iStefPayne', 'Hulago', 'lodgecraft',\n",
       "       'SouthwestMT', 'RealAmerica_USA', 'KyleSchmauch', 'MalloryOnTravel',\n",
       "       'tlmahan', 'ajbulthuis', 'GETLOSTTraveler', 'USWFSRMEDIA',\n",
       "       'Kryyrose', 'PRAmber', 'squeakytc', 'TOSIBOX', 'kaitlynhanley',\n",
       "       'DollarCars', 'sokeene', 'RonjaAbel', 'lesliedines',\n",
       "       'shaunanelson16', 'StormCloud_73', 'muchtyler', 'hollywouldskin',\n",
       "       'RaniSapra', 'SkiZerQuest', 'akosuen_', 'kl8nk', 'MThousedems',\n",
       "       'MWAwildmontana', 'JodieT_34', 'LaneHeymont', 'TBKechely',\n",
       "       'RyanDLeaf', 'KOAKampgrounds', 'hoffstryker', 'shannydee34',\n",
       "       'ZandraBaker', 'totalbsmedia', 'HTMcGee', 'BeltCreek',\n",
       "       'emilyesmith', 'kbumgarner09', 'brownsfanhere', 'BighornCanyNPS',\n",
       "       '3footedcat', 'OnAirJustin', 'FenixLightingUS', 'summitmtnlodge',\n",
       "       'travelingmoms', 'BigBadBillyD', 'forever1sg', 'lonelyplanetUSA',\n",
       "       'StormHour', 'Jaci56', 'Staff_DNA', 'yomilly', 'bethanynbella',\n",
       "       'NeisaCondemaita', 'blairmiller', 'tcdixon3', 'OddsandHens',\n",
       "       'JoeUnterreiner', 'Amalstable', 'coffee_matters', 'ConorB76',\n",
       "       'StephanieQuayle', 'chancet57', 'gaylehayes', 'RSRandall'], dtype=object)"
      ]
     },
     "execution_count": 8,
     "metadata": {},
     "output_type": "execute_result"
    }
   ],
   "source": [
    "# Here is a list of the 546 users who were an original tweeter of 'montanaMoment' at some point between 12/24/16 and 04/17/17\n",
    "\n",
    "print len(pd.unique(df.from_user_screen_name.ravel()))\n",
    "pd.unique(df.from_user_screen_name.ravel())"
   ]
  },
  {
   "cell_type": "markdown",
   "metadata": {},
   "source": [
    "<h3>Of this list of 546 users, 'theexceptionmag' is the top consumer of the hashtag with 318 uses for the period.</h3>\n",
    "\n",
    "\n",
    "<blockquote>   \n",
    "As discussed in the paper, this account is suspected to be a bot, and will be excluded in later regression analyses\n",
    "</blockquote>"
   ]
  },
  {
   "cell_type": "code",
   "execution_count": 9,
   "metadata": {
    "collapsed": false
   },
   "outputs": [
    {
     "data": {
      "text/plain": [
       "count                2187\n",
       "unique                546\n",
       "top       TheExceptionMag\n",
       "freq                  318\n",
       "Name: from_user_screen_name, dtype: object"
      ]
     },
     "execution_count": 9,
     "metadata": {},
     "output_type": "execute_result"
    }
   ],
   "source": [
    "df['from_user_screen_name'].describe()"
   ]
  },
  {
   "cell_type": "code",
   "execution_count": 10,
   "metadata": {
    "collapsed": false
   },
   "outputs": [
    {
     "data": {
      "text/html": [
       "<div>\n",
       "<table border=\"1\" class=\"dataframe\">\n",
       "  <thead>\n",
       "    <tr style=\"text-align: right;\">\n",
       "      <th></th>\n",
       "      <th>id</th>\n",
       "      <th>hash_select</th>\n",
       "      <th>tweet_id</th>\n",
       "      <th>inserted_date</th>\n",
       "      <th>truncated</th>\n",
       "      <th>language</th>\n",
       "      <th>possibly_sensitive</th>\n",
       "      <th>coordinates</th>\n",
       "      <th>retweeted_status</th>\n",
       "      <th>created_at_text</th>\n",
       "      <th>created_at</th>\n",
       "      <th>content</th>\n",
       "      <th>from_user_screen_name</th>\n",
       "      <th>from_user_id</th>\n",
       "      <th>from_user_followers_count</th>\n",
       "      <th>from_user_friends_count</th>\n",
       "      <th>from_user_listed_count</th>\n",
       "      <th>from_user_statuses_count</th>\n",
       "      <th>from_user_description</th>\n",
       "      <th>from_user_location</th>\n",
       "      <th>from_user_created_at</th>\n",
       "      <th>retweet_count</th>\n",
       "      <th>entities_urls</th>\n",
       "      <th>entities_urls_count</th>\n",
       "      <th>entities_hashtags</th>\n",
       "      <th>entities_hashtags_count</th>\n",
       "      <th>entities_mentions</th>\n",
       "      <th>entities_mentions_count</th>\n",
       "      <th>in_reply_to_screen_name</th>\n",
       "      <th>in_reply_to_status_id</th>\n",
       "      <th>source</th>\n",
       "      <th>entities_expanded_urls</th>\n",
       "      <th>json_output</th>\n",
       "      <th>entities_media_count</th>\n",
       "      <th>media_expanded_url</th>\n",
       "      <th>media_url</th>\n",
       "      <th>media_type</th>\n",
       "      <th>video_link</th>\n",
       "      <th>photo_link</th>\n",
       "      <th>twitpic</th>\n",
       "    </tr>\n",
       "  </thead>\n",
       "  <tbody>\n",
       "    <tr>\n",
       "      <th>9</th>\n",
       "      <td>2555</td>\n",
       "      <td>%2523montanamoment</td>\n",
       "      <td>8.550000e+17</td>\n",
       "      <td>35:57.3</td>\n",
       "      <td>0</td>\n",
       "      <td>en</td>\n",
       "      <td>0.0</td>\n",
       "      <td>NaN</td>\n",
       "      <td>NaN</td>\n",
       "      <td>Fri Apr 21 04:21:17 +0000 2017</td>\n",
       "      <td>21:17.0</td>\n",
       "      <td>The night sky is a fascinating place especiall...</td>\n",
       "      <td>LeonKauffman</td>\n",
       "      <td>425125748.0</td>\n",
       "      <td>673</td>\n",
       "      <td>152</td>\n",
       "      <td>39</td>\n",
       "      <td>1616</td>\n",
       "      <td>Hydrologist, photographer, fan of Drexel baske...</td>\n",
       "      <td>Condon, Montana, USA</td>\n",
       "      <td>Wed Nov 30 15:58:25 +0000 2011</td>\n",
       "      <td>4</td>\n",
       "      <td>NaN</td>\n",
       "      <td>0</td>\n",
       "      <td>MontanaMoment</td>\n",
       "      <td>1</td>\n",
       "      <td>NaN</td>\n",
       "      <td>0</td>\n",
       "      <td>NaN</td>\n",
       "      <td>NaN</td>\n",
       "      <td>&lt;a href=\"https://about.twitter.com/products/tw...</td>\n",
       "      <td>NaN</td>\n",
       "      <td>{u'contributors': None, u'truncated': False, u...</td>\n",
       "      <td>1.0</td>\n",
       "      <td>https://twitter.com/LeonKauffman/status/855275...</td>\n",
       "      <td>http://pbs.twimg.com/media/C96LaxcUQAEMOQl.jpg</td>\n",
       "      <td>photo</td>\n",
       "      <td>0</td>\n",
       "      <td>0</td>\n",
       "      <td>0</td>\n",
       "    </tr>\n",
       "  </tbody>\n",
       "</table>\n",
       "</div>"
      ],
      "text/plain": [
       "     id         hash_select      tweet_id inserted_date  truncated language  \\\n",
       "9  2555  %2523montanamoment  8.550000e+17       35:57.3          0       en   \n",
       "\n",
       "   possibly_sensitive coordinates retweeted_status  \\\n",
       "9                 0.0         NaN              NaN   \n",
       "\n",
       "                  created_at_text created_at  \\\n",
       "9  Fri Apr 21 04:21:17 +0000 2017    21:17.0   \n",
       "\n",
       "                                             content from_user_screen_name  \\\n",
       "9  The night sky is a fascinating place especiall...          LeonKauffman   \n",
       "\n",
       "   from_user_id  from_user_followers_count  from_user_friends_count  \\\n",
       "9   425125748.0                        673                      152   \n",
       "\n",
       "   from_user_listed_count  from_user_statuses_count  \\\n",
       "9                      39                      1616   \n",
       "\n",
       "                               from_user_description    from_user_location  \\\n",
       "9  Hydrologist, photographer, fan of Drexel baske...  Condon, Montana, USA   \n",
       "\n",
       "             from_user_created_at  retweet_count entities_urls  \\\n",
       "9  Wed Nov 30 15:58:25 +0000 2011              4           NaN   \n",
       "\n",
       "   entities_urls_count entities_hashtags  entities_hashtags_count  \\\n",
       "9                    0     MontanaMoment                        1   \n",
       "\n",
       "  entities_mentions  entities_mentions_count in_reply_to_screen_name  \\\n",
       "9               NaN                        0                     NaN   \n",
       "\n",
       "   in_reply_to_status_id                                             source  \\\n",
       "9                    NaN  <a href=\"https://about.twitter.com/products/tw...   \n",
       "\n",
       "  entities_expanded_urls                                        json_output  \\\n",
       "9                    NaN  {u'contributors': None, u'truncated': False, u...   \n",
       "\n",
       "   entities_media_count                                 media_expanded_url  \\\n",
       "9                   1.0  https://twitter.com/LeonKauffman/status/855275...   \n",
       "\n",
       "                                        media_url media_type  video_link  \\\n",
       "9  http://pbs.twimg.com/media/C96LaxcUQAEMOQl.jpg      photo           0   \n",
       "\n",
       "   photo_link  twitpic  \n",
       "9           0        0  "
      ]
     },
     "execution_count": 10,
     "metadata": {},
     "output_type": "execute_result"
    }
   ],
   "source": [
    "df.head(1)"
   ]
  },
  {
   "cell_type": "markdown",
   "metadata": {},
   "source": [
    "<h2>`mtot variable`</h2><br>\n",
    "\n",
    "<blockquote>\n",
    "   Because we know that the account 'visitmontana' is a unique identifier of the state's official destination marketing Twitter\n",
    "   account, we can use it to identify the tweets sent by MTOT that include the 'montanaMoment' hashtag.\n",
    "   <br>\n",
    "   <br>\n",
    "   First, in step 1, we use the PANDAS match function to loop through the dataset and assign the value 'true' to each case of 'visitmontana' within the from_user_screen_name column of the dataset, and 'false' to all other cases. \n",
    "   <br>\n",
    "   <br>\n",
    "   We will then use the built-in astype() function to convert the logic into binary\n",
    "</blockquote>"
   ]
  },
  {
   "cell_type": "code",
   "execution_count": 11,
   "metadata": {
    "collapsed": false
   },
   "outputs": [
    {
     "data": {
      "text/html": [
       "<div>\n",
       "<table border=\"1\" class=\"dataframe\">\n",
       "  <thead>\n",
       "    <tr style=\"text-align: right;\">\n",
       "      <th></th>\n",
       "      <th>from_user_screen_name</th>\n",
       "      <th>mtot</th>\n",
       "    </tr>\n",
       "  </thead>\n",
       "  <tbody>\n",
       "    <tr>\n",
       "      <th>9</th>\n",
       "      <td>LeonKauffman</td>\n",
       "      <td>False</td>\n",
       "    </tr>\n",
       "    <tr>\n",
       "      <th>10</th>\n",
       "      <td>ErinWx</td>\n",
       "      <td>False</td>\n",
       "    </tr>\n",
       "    <tr>\n",
       "      <th>11</th>\n",
       "      <td>wxmissoula</td>\n",
       "      <td>False</td>\n",
       "    </tr>\n",
       "    <tr>\n",
       "      <th>22</th>\n",
       "      <td>lastbestbox</td>\n",
       "      <td>False</td>\n",
       "    </tr>\n",
       "    <tr>\n",
       "      <th>24</th>\n",
       "      <td>ShannonAMay</td>\n",
       "      <td>False</td>\n",
       "    </tr>\n",
       "  </tbody>\n",
       "</table>\n",
       "</div>"
      ],
      "text/plain": [
       "   from_user_screen_name   mtot\n",
       "9           LeonKauffman  False\n",
       "10                ErinWx  False\n",
       "11            wxmissoula  False\n",
       "22           lastbestbox  False\n",
       "24           ShannonAMay  False"
      ]
     },
     "execution_count": 11,
     "metadata": {},
     "output_type": "execute_result"
    }
   ],
   "source": [
    "    # step 1\n",
    "df['mtot'] = df['from_user_screen_name'].str.match('visitmontana', na=False)\n",
    "df[['from_user_screen_name', 'mtot']].head()"
   ]
  },
  {
   "cell_type": "code",
   "execution_count": 12,
   "metadata": {
    "collapsed": false
   },
   "outputs": [
    {
     "data": {
      "text/html": [
       "<div>\n",
       "<table border=\"1\" class=\"dataframe\">\n",
       "  <thead>\n",
       "    <tr style=\"text-align: right;\">\n",
       "      <th></th>\n",
       "      <th>from_user_screen_name</th>\n",
       "      <th>mtot</th>\n",
       "      <th>entities_hashtags</th>\n",
       "    </tr>\n",
       "  </thead>\n",
       "  <tbody>\n",
       "    <tr>\n",
       "      <th>9</th>\n",
       "      <td>LeonKauffman</td>\n",
       "      <td>0</td>\n",
       "      <td>MontanaMoment</td>\n",
       "    </tr>\n",
       "    <tr>\n",
       "      <th>10</th>\n",
       "      <td>ErinWx</td>\n",
       "      <td>0</td>\n",
       "      <td>sunset, Bitterroot, mtwx, Montana, MontanaMoment</td>\n",
       "    </tr>\n",
       "    <tr>\n",
       "      <th>11</th>\n",
       "      <td>wxmissoula</td>\n",
       "      <td>0</td>\n",
       "      <td>sunset, Bitterroot, mtwx, Montana, MontanaMoment</td>\n",
       "    </tr>\n",
       "    <tr>\n",
       "      <th>22</th>\n",
       "      <td>lastbestbox</td>\n",
       "      <td>0</td>\n",
       "      <td>montanamoment, lastbestbox, montana, montanahi...</td>\n",
       "    </tr>\n",
       "    <tr>\n",
       "      <th>24</th>\n",
       "      <td>ShannonAMay</td>\n",
       "      <td>0</td>\n",
       "      <td>MontanaMoment</td>\n",
       "    </tr>\n",
       "  </tbody>\n",
       "</table>\n",
       "</div>"
      ],
      "text/plain": [
       "   from_user_screen_name  mtot  \\\n",
       "9           LeonKauffman     0   \n",
       "10                ErinWx     0   \n",
       "11            wxmissoula     0   \n",
       "22           lastbestbox     0   \n",
       "24           ShannonAMay     0   \n",
       "\n",
       "                                    entities_hashtags  \n",
       "9                                       MontanaMoment  \n",
       "10   sunset, Bitterroot, mtwx, Montana, MontanaMoment  \n",
       "11   sunset, Bitterroot, mtwx, Montana, MontanaMoment  \n",
       "22  montanamoment, lastbestbox, montana, montanahi...  \n",
       "24                                      MontanaMoment  "
      ]
     },
     "execution_count": 12,
     "metadata": {},
     "output_type": "execute_result"
    }
   ],
   "source": [
    "    # step 2\n",
    "df['mtot'] = df['mtot'].astype(int)\n",
    "df[['from_user_screen_name', 'mtot', 'entities_hashtags']].head()"
   ]
  },
  {
   "cell_type": "code",
   "execution_count": 13,
   "metadata": {
    "collapsed": false
   },
   "outputs": [
    {
     "name": "stdout",
     "output_type": "stream",
     "text": [
      "DATA CHECK:\n",
      "41 variables\n",
      "2187 tweets\n",
      "All good: True\n"
     ]
    }
   ],
   "source": [
    "print \"DATA CHECK:\"\n",
    "print len(df.columns), \"variables\"\n",
    "print len(df), \"tweets\"\n",
    "print \"All good:\", len(df.columns)==41 and len(df)==2187"
   ]
  },
  {
   "cell_type": "code",
   "execution_count": 14,
   "metadata": {
    "collapsed": false
   },
   "outputs": [
    {
     "name": "stdout",
     "output_type": "stream",
     "text": [
      "108\n",
      "2079\n",
      "\n",
      "count    2187.000000\n",
      "mean        0.049383\n",
      "std         0.216717\n",
      "min         0.000000\n",
      "25%         0.000000\n",
      "50%         0.000000\n",
      "75%         0.000000\n",
      "max         1.000000\n",
      "Name: mtot, dtype: float64\n"
     ]
    }
   ],
   "source": [
    "print len(df[df['mtot'] == 1])\n",
    "print len(df[df['mtot'] == 0])\n",
    "\n",
    "print '\\n', df.mtot.describe()"
   ]
  },
  {
   "cell_type": "markdown",
   "metadata": {},
   "source": [
    "---\n",
    "<br>\n",
    "<h3> Create a dummy variable for @TheExceptionMag</h3>\n",
    "<br>\n",
    "Because TheExceptionMag has so many retweets, categorizing it with the `other_org` variable (organizations and businesses that are not individuals and are not associated with the state) would bias the effect size for any other category, i.e. an '`other_org` effect' would become a '`TheExceptionMag`' effect\n",
    "<br>\n",
    "<br>"
   ]
  },
  {
   "cell_type": "code",
   "execution_count": 15,
   "metadata": {
    "collapsed": false
   },
   "outputs": [
    {
     "data": {
      "text/html": [
       "<div>\n",
       "<table border=\"1\" class=\"dataframe\">\n",
       "  <thead>\n",
       "    <tr style=\"text-align: right;\">\n",
       "      <th></th>\n",
       "      <th>from_user_screen_name</th>\n",
       "      <th>exception_mag</th>\n",
       "    </tr>\n",
       "  </thead>\n",
       "  <tbody>\n",
       "    <tr>\n",
       "      <th>9</th>\n",
       "      <td>LeonKauffman</td>\n",
       "      <td>False</td>\n",
       "    </tr>\n",
       "    <tr>\n",
       "      <th>10</th>\n",
       "      <td>ErinWx</td>\n",
       "      <td>False</td>\n",
       "    </tr>\n",
       "    <tr>\n",
       "      <th>11</th>\n",
       "      <td>wxmissoula</td>\n",
       "      <td>False</td>\n",
       "    </tr>\n",
       "    <tr>\n",
       "      <th>22</th>\n",
       "      <td>lastbestbox</td>\n",
       "      <td>False</td>\n",
       "    </tr>\n",
       "    <tr>\n",
       "      <th>24</th>\n",
       "      <td>ShannonAMay</td>\n",
       "      <td>False</td>\n",
       "    </tr>\n",
       "  </tbody>\n",
       "</table>\n",
       "</div>"
      ],
      "text/plain": [
       "   from_user_screen_name exception_mag\n",
       "9           LeonKauffman         False\n",
       "10                ErinWx         False\n",
       "11            wxmissoula         False\n",
       "22           lastbestbox         False\n",
       "24           ShannonAMay         False"
      ]
     },
     "execution_count": 15,
     "metadata": {},
     "output_type": "execute_result"
    }
   ],
   "source": [
    "# same process as the mtot variable\n",
    "    # step 1\n",
    "df['exception_mag'] = df['from_user_screen_name'].str.match('TheExceptionMag', na=False)\n",
    "df[['from_user_screen_name', 'exception_mag']].head()"
   ]
  },
  {
   "cell_type": "code",
   "execution_count": 16,
   "metadata": {
    "collapsed": false
   },
   "outputs": [
    {
     "data": {
      "text/html": [
       "<div>\n",
       "<table border=\"1\" class=\"dataframe\">\n",
       "  <thead>\n",
       "    <tr style=\"text-align: right;\">\n",
       "      <th></th>\n",
       "      <th>from_user_screen_name</th>\n",
       "      <th>exception_mag</th>\n",
       "      <th>mtot</th>\n",
       "    </tr>\n",
       "  </thead>\n",
       "  <tbody>\n",
       "    <tr>\n",
       "      <th>9</th>\n",
       "      <td>LeonKauffman</td>\n",
       "      <td>0</td>\n",
       "      <td>0</td>\n",
       "    </tr>\n",
       "    <tr>\n",
       "      <th>10</th>\n",
       "      <td>ErinWx</td>\n",
       "      <td>0</td>\n",
       "      <td>0</td>\n",
       "    </tr>\n",
       "    <tr>\n",
       "      <th>11</th>\n",
       "      <td>wxmissoula</td>\n",
       "      <td>0</td>\n",
       "      <td>0</td>\n",
       "    </tr>\n",
       "    <tr>\n",
       "      <th>22</th>\n",
       "      <td>lastbestbox</td>\n",
       "      <td>0</td>\n",
       "      <td>0</td>\n",
       "    </tr>\n",
       "    <tr>\n",
       "      <th>24</th>\n",
       "      <td>ShannonAMay</td>\n",
       "      <td>0</td>\n",
       "      <td>0</td>\n",
       "    </tr>\n",
       "  </tbody>\n",
       "</table>\n",
       "</div>"
      ],
      "text/plain": [
       "   from_user_screen_name  exception_mag  mtot\n",
       "9           LeonKauffman              0     0\n",
       "10                ErinWx              0     0\n",
       "11            wxmissoula              0     0\n",
       "22           lastbestbox              0     0\n",
       "24           ShannonAMay              0     0"
      ]
     },
     "execution_count": 16,
     "metadata": {},
     "output_type": "execute_result"
    }
   ],
   "source": [
    "    # step 2\n",
    "df['exception_mag'] = df['exception_mag'].astype(int)\n",
    "df[['from_user_screen_name', 'exception_mag', 'mtot']].head()"
   ]
  },
  {
   "cell_type": "code",
   "execution_count": 17,
   "metadata": {
    "collapsed": false
   },
   "outputs": [
    {
     "name": "stdout",
     "output_type": "stream",
     "text": [
      "DATA CHECK:\n",
      "42 variables\n",
      "2187 tweets\n",
      "All good: True\n"
     ]
    }
   ],
   "source": [
    "print \"DATA CHECK:\"\n",
    "print len(df.columns), \"variables\"\n",
    "print len(df), \"tweets\"\n",
    "print \"All good:\", len(df.columns)==42 and len(df)==2187"
   ]
  },
  {
   "cell_type": "code",
   "execution_count": 18,
   "metadata": {
    "collapsed": false
   },
   "outputs": [
    {
     "name": "stdout",
     "output_type": "stream",
     "text": [
      "318\n",
      "1869\n",
      "\n",
      "count    2187.000000\n",
      "mean        0.145405\n",
      "std         0.352592\n",
      "min         0.000000\n",
      "25%         0.000000\n",
      "50%         0.000000\n",
      "75%         0.000000\n",
      "max         1.000000\n",
      "Name: exception_mag, dtype: float64\n"
     ]
    }
   ],
   "source": [
    "print len(df[df['exception_mag'] == 1])\n",
    "print len(df[df['exception_mag'] == 0])\n",
    "print '\\n', df.exception_mag.describe()"
   ]
  },
  {
   "cell_type": "markdown",
   "metadata": {},
   "source": [
    "---\n",
    "<br>\n",
    "<h3> Create a dummy variable for LeonKauffman</h3>\n",
    "<br>\n",
    "Because LeonKauffman has so many retweets, categorizing it with the `bus_int_ind` variable (private individuals with a business interest) would bias the effect size for this category, i.e. an '`bus_int_ind` effect' would become the '`LeonKauffman` effect'\n",
    "<br>\n",
    "<br>"
   ]
  },
  {
   "cell_type": "code",
   "execution_count": 19,
   "metadata": {
    "collapsed": false
   },
   "outputs": [
    {
     "data": {
      "text/html": [
       "<div>\n",
       "<table border=\"1\" class=\"dataframe\">\n",
       "  <thead>\n",
       "    <tr style=\"text-align: right;\">\n",
       "      <th></th>\n",
       "      <th>from_user_screen_name</th>\n",
       "      <th>kauffman</th>\n",
       "    </tr>\n",
       "  </thead>\n",
       "  <tbody>\n",
       "    <tr>\n",
       "      <th>9</th>\n",
       "      <td>LeonKauffman</td>\n",
       "      <td>True</td>\n",
       "    </tr>\n",
       "    <tr>\n",
       "      <th>10</th>\n",
       "      <td>ErinWx</td>\n",
       "      <td>False</td>\n",
       "    </tr>\n",
       "    <tr>\n",
       "      <th>11</th>\n",
       "      <td>wxmissoula</td>\n",
       "      <td>False</td>\n",
       "    </tr>\n",
       "    <tr>\n",
       "      <th>22</th>\n",
       "      <td>lastbestbox</td>\n",
       "      <td>False</td>\n",
       "    </tr>\n",
       "    <tr>\n",
       "      <th>24</th>\n",
       "      <td>ShannonAMay</td>\n",
       "      <td>False</td>\n",
       "    </tr>\n",
       "  </tbody>\n",
       "</table>\n",
       "</div>"
      ],
      "text/plain": [
       "   from_user_screen_name kauffman\n",
       "9           LeonKauffman     True\n",
       "10                ErinWx    False\n",
       "11            wxmissoula    False\n",
       "22           lastbestbox    False\n",
       "24           ShannonAMay    False"
      ]
     },
     "execution_count": 19,
     "metadata": {},
     "output_type": "execute_result"
    }
   ],
   "source": [
    "# same process as the mtot and exception_mag variables\n",
    "    # step 1\n",
    "df['kauffman'] = df['from_user_screen_name'].str.match('LeonKauffman', na=False)\n",
    "df[['from_user_screen_name', 'kauffman']].head()"
   ]
  },
  {
   "cell_type": "code",
   "execution_count": 20,
   "metadata": {
    "collapsed": false
   },
   "outputs": [
    {
     "data": {
      "text/html": [
       "<div>\n",
       "<table border=\"1\" class=\"dataframe\">\n",
       "  <thead>\n",
       "    <tr style=\"text-align: right;\">\n",
       "      <th></th>\n",
       "      <th>from_user_screen_name</th>\n",
       "      <th>exception_mag</th>\n",
       "      <th>mtot</th>\n",
       "      <th>kauffman</th>\n",
       "    </tr>\n",
       "  </thead>\n",
       "  <tbody>\n",
       "    <tr>\n",
       "      <th>9</th>\n",
       "      <td>LeonKauffman</td>\n",
       "      <td>0</td>\n",
       "      <td>0</td>\n",
       "      <td>1</td>\n",
       "    </tr>\n",
       "    <tr>\n",
       "      <th>10</th>\n",
       "      <td>ErinWx</td>\n",
       "      <td>0</td>\n",
       "      <td>0</td>\n",
       "      <td>0</td>\n",
       "    </tr>\n",
       "    <tr>\n",
       "      <th>11</th>\n",
       "      <td>wxmissoula</td>\n",
       "      <td>0</td>\n",
       "      <td>0</td>\n",
       "      <td>0</td>\n",
       "    </tr>\n",
       "    <tr>\n",
       "      <th>22</th>\n",
       "      <td>lastbestbox</td>\n",
       "      <td>0</td>\n",
       "      <td>0</td>\n",
       "      <td>0</td>\n",
       "    </tr>\n",
       "    <tr>\n",
       "      <th>24</th>\n",
       "      <td>ShannonAMay</td>\n",
       "      <td>0</td>\n",
       "      <td>0</td>\n",
       "      <td>0</td>\n",
       "    </tr>\n",
       "  </tbody>\n",
       "</table>\n",
       "</div>"
      ],
      "text/plain": [
       "   from_user_screen_name  exception_mag  mtot  kauffman\n",
       "9           LeonKauffman              0     0         1\n",
       "10                ErinWx              0     0         0\n",
       "11            wxmissoula              0     0         0\n",
       "22           lastbestbox              0     0         0\n",
       "24           ShannonAMay              0     0         0"
      ]
     },
     "execution_count": 20,
     "metadata": {},
     "output_type": "execute_result"
    }
   ],
   "source": [
    "    # step 2\n",
    "df['kauffman'] = df['kauffman'].astype(int)\n",
    "df[['from_user_screen_name', 'exception_mag', 'mtot', 'kauffman']].head()"
   ]
  },
  {
   "cell_type": "code",
   "execution_count": 21,
   "metadata": {
    "collapsed": false
   },
   "outputs": [
    {
     "name": "stdout",
     "output_type": "stream",
     "text": [
      "DATA CHECK:\n",
      "43 variables\n",
      "2187 tweets\n",
      "All good: True\n"
     ]
    }
   ],
   "source": [
    "print \"DATA CHECK:\"\n",
    "print len(df.columns), \"variables\"\n",
    "print len(df), \"tweets\"\n",
    "print \"All good:\", len(df.columns)==43 and len(df)==2187"
   ]
  },
  {
   "cell_type": "code",
   "execution_count": 22,
   "metadata": {
    "collapsed": false
   },
   "outputs": [
    {
     "name": "stdout",
     "output_type": "stream",
     "text": [
      "101\n",
      "2086\n",
      "\n",
      "count    2187.000000\n",
      "mean        0.046182\n",
      "std         0.209929\n",
      "min         0.000000\n",
      "25%         0.000000\n",
      "50%         0.000000\n",
      "75%         0.000000\n",
      "max         1.000000\n",
      "Name: kauffman, dtype: float64\n"
     ]
    }
   ],
   "source": [
    "print len(df[df['kauffman'] == 1])\n",
    "print len(df[df['kauffman'] == 0])\n",
    "print '\\n', df.kauffman.describe()"
   ]
  },
  {
   "cell_type": "markdown",
   "metadata": {},
   "source": [
    "---\n",
    "<br>\n",
    "<h2>Use <i>retweet_count</i> variable to generate <i>retweet_dummy</i> binary variable</h3>\n"
   ]
  },
  {
   "cell_type": "code",
   "execution_count": 23,
   "metadata": {
    "collapsed": false
   },
   "outputs": [
    {
     "data": {
      "text/html": [
       "<div>\n",
       "<table border=\"1\" class=\"dataframe\">\n",
       "  <thead>\n",
       "    <tr style=\"text-align: right;\">\n",
       "      <th></th>\n",
       "      <th>from_user_screen_name</th>\n",
       "      <th>retweet_dummy</th>\n",
       "    </tr>\n",
       "  </thead>\n",
       "  <tbody>\n",
       "    <tr>\n",
       "      <th>9</th>\n",
       "      <td>LeonKauffman</td>\n",
       "      <td>1</td>\n",
       "    </tr>\n",
       "    <tr>\n",
       "      <th>10</th>\n",
       "      <td>ErinWx</td>\n",
       "      <td>0</td>\n",
       "    </tr>\n",
       "    <tr>\n",
       "      <th>11</th>\n",
       "      <td>wxmissoula</td>\n",
       "      <td>0</td>\n",
       "    </tr>\n",
       "    <tr>\n",
       "      <th>22</th>\n",
       "      <td>lastbestbox</td>\n",
       "      <td>0</td>\n",
       "    </tr>\n",
       "    <tr>\n",
       "      <th>24</th>\n",
       "      <td>ShannonAMay</td>\n",
       "      <td>0</td>\n",
       "    </tr>\n",
       "  </tbody>\n",
       "</table>\n",
       "</div>"
      ],
      "text/plain": [
       "   from_user_screen_name  retweet_dummy\n",
       "9           LeonKauffman              1\n",
       "10                ErinWx              0\n",
       "11            wxmissoula              0\n",
       "22           lastbestbox              0\n",
       "24           ShannonAMay              0"
      ]
     },
     "execution_count": 23,
     "metadata": {},
     "output_type": "execute_result"
    }
   ],
   "source": [
    "# the retweet variable = 0 if the retweet_count var == 0, and 1 otherwise\n",
    "# keep in mind, these are only for the orginal tweets (i.e., the 'causal' base of any later retweets/favorites)\n",
    "\n",
    "df['retweet_dummy'] = np.where(df['retweet_count']==0, 0, 1)\n",
    "df[['from_user_screen_name', 'retweet_dummy']].head()"
   ]
  },
  {
   "cell_type": "code",
   "execution_count": 24,
   "metadata": {
    "collapsed": false
   },
   "outputs": [
    {
     "name": "stdout",
     "output_type": "stream",
     "text": [
      "DATA CHECK:\n",
      "44 variables\n",
      "2187 tweets\n",
      "All good: False\n"
     ]
    }
   ],
   "source": [
    "print \"DATA CHECK:\"\n",
    "print len(df.columns), \"variables\"\n",
    "print len(df), \"tweets\"\n",
    "print \"All good:\", len(df.columns)==42 and len(df)==2187"
   ]
  },
  {
   "cell_type": "code",
   "execution_count": 25,
   "metadata": {
    "collapsed": false
   },
   "outputs": [
    {
     "name": "stdout",
     "output_type": "stream",
     "text": [
      "667 original tweets were retweeted\n",
      "1520 original tweets were never retweeted\n",
      "\n",
      "count    2187.000000\n",
      "mean        0.304984\n",
      "std         0.460505\n",
      "min         0.000000\n",
      "25%         0.000000\n",
      "50%         0.000000\n",
      "75%         1.000000\n",
      "max         1.000000\n",
      "Name: retweet_dummy, dtype: float64\n"
     ]
    }
   ],
   "source": [
    "print len(df[df['retweet_dummy'] == 1]), \"original tweets were retweeted\"\n",
    "print len(df[df['retweet_dummy'] == 0]), \"original tweets were never retweeted\"\n",
    "print '\\n', df.retweet_dummy.describe()"
   ]
  },
  {
   "cell_type": "markdown",
   "metadata": {},
   "source": [
    "---\n",
    "<br>\n",
    "## Create dummies based on url and mentions count\n",
    "<br>\n",
    "    <ol>\n",
    "      <li>entities_mentions_count ==> mention_dummy</li>\n",
    "      <li>entities_urls_count ==> url_dummy</li>\n",
    "    </ol>"
   ]
  },
  {
   "cell_type": "code",
   "execution_count": 26,
   "metadata": {
    "collapsed": true
   },
   "outputs": [],
   "source": [
    "df['mention_dummy'] = np.where(df['entities_mentions_count']==0,0,1)\n",
    "df['url_dummy'] = np.where(df['entities_urls_count']==0,0,1)"
   ]
  },
  {
   "cell_type": "code",
   "execution_count": 27,
   "metadata": {
    "collapsed": false
   },
   "outputs": [
    {
     "name": "stdout",
     "output_type": "stream",
     "text": [
      "DATA CHECK:\n",
      "46 variables\n",
      "2187 tweets\n",
      "All good: True\n"
     ]
    }
   ],
   "source": [
    "print \"DATA CHECK:\"\n",
    "print len(df.columns), \"variables\"\n",
    "print len(df), \"tweets\"\n",
    "print \"All good:\", len(df.columns)==46 and len(df)==2187"
   ]
  },
  {
   "cell_type": "markdown",
   "metadata": {},
   "source": [
    "---\n",
    "<br>\n",
    "## Variable Checks\n",
    "\n",
    ">Now let's review all the variables we created"
   ]
  },
  {
   "cell_type": "code",
   "execution_count": 28,
   "metadata": {
    "collapsed": false
   },
   "outputs": [
    {
     "data": {
      "text/html": [
       "<div>\n",
       "<table border=\"1\" class=\"dataframe\">\n",
       "  <thead>\n",
       "    <tr style=\"text-align: right;\">\n",
       "      <th></th>\n",
       "      <th>from_user_screen_name</th>\n",
       "      <th>mtot</th>\n",
       "      <th>kauffman</th>\n",
       "      <th>exception_mag</th>\n",
       "      <th>retweet_count</th>\n",
       "      <th>retweet_dummy</th>\n",
       "      <th>entities_mentions_count</th>\n",
       "      <th>mention_dummy</th>\n",
       "      <th>entities_urls_count</th>\n",
       "      <th>url_dummy</th>\n",
       "    </tr>\n",
       "  </thead>\n",
       "  <tbody>\n",
       "    <tr>\n",
       "      <th>9</th>\n",
       "      <td>LeonKauffman</td>\n",
       "      <td>0</td>\n",
       "      <td>1</td>\n",
       "      <td>0</td>\n",
       "      <td>4</td>\n",
       "      <td>1</td>\n",
       "      <td>0</td>\n",
       "      <td>0</td>\n",
       "      <td>0</td>\n",
       "      <td>0</td>\n",
       "    </tr>\n",
       "  </tbody>\n",
       "</table>\n",
       "</div>"
      ],
      "text/plain": [
       "  from_user_screen_name  mtot  kauffman  exception_mag  retweet_count  \\\n",
       "9          LeonKauffman     0         1              0              4   \n",
       "\n",
       "   retweet_dummy  entities_mentions_count  mention_dummy  entities_urls_count  \\\n",
       "9              1                        0              0                    0   \n",
       "\n",
       "   url_dummy  \n",
       "9          0  "
      ]
     },
     "execution_count": 28,
     "metadata": {},
     "output_type": "execute_result"
    }
   ],
   "source": [
    "df[['from_user_screen_name', 'mtot', 'kauffman', 'exception_mag', 'retweet_count', 'retweet_dummy', 'entities_mentions_count', 'mention_dummy', 'entities_urls_count', 'url_dummy']].head(1)"
   ]
  },
  {
   "cell_type": "code",
   "execution_count": 29,
   "metadata": {
    "collapsed": false
   },
   "outputs": [
    {
     "data": {
      "text/plain": [
       "count    2187.000000\n",
       "mean        2.380430\n",
       "std         8.033481\n",
       "min         0.000000\n",
       "25%         0.000000\n",
       "50%         0.000000\n",
       "75%         1.000000\n",
       "max       136.000000\n",
       "Name: retweet_count, dtype: float64"
      ]
     },
     "execution_count": 29,
     "metadata": {},
     "output_type": "execute_result"
    }
   ],
   "source": [
    "df['retweet_count'].describe()"
   ]
  },
  {
   "cell_type": "code",
   "execution_count": 30,
   "metadata": {
    "collapsed": false
   },
   "outputs": [
    {
     "data": {
      "text/plain": [
       "108"
      ]
     },
     "execution_count": 30,
     "metadata": {},
     "output_type": "execute_result"
    }
   ],
   "source": [
    "len(df[df['from_user_screen_name'] == 'visitmontana'])"
   ]
  },
  {
   "cell_type": "code",
   "execution_count": 31,
   "metadata": {
    "collapsed": false
   },
   "outputs": [
    {
     "data": {
      "text/plain": [
       "0    1520\n",
       "1     667\n",
       "Name: retweet_dummy, dtype: int64"
      ]
     },
     "execution_count": 31,
     "metadata": {},
     "output_type": "execute_result"
    }
   ],
   "source": [
    "df['retweet_dummy'].value_counts()"
   ]
  },
  {
   "cell_type": "code",
   "execution_count": 32,
   "metadata": {
    "collapsed": false
   },
   "outputs": [
    {
     "data": {
      "text/plain": [
       "0    1550\n",
       "1     637\n",
       "Name: mention_dummy, dtype: int64"
      ]
     },
     "execution_count": 32,
     "metadata": {},
     "output_type": "execute_result"
    }
   ],
   "source": [
    "df['mention_dummy'].value_counts()"
   ]
  },
  {
   "cell_type": "code",
   "execution_count": 33,
   "metadata": {
    "collapsed": false
   },
   "outputs": [
    {
     "data": {
      "text/plain": [
       "1    1328\n",
       "0     859\n",
       "Name: url_dummy, dtype: int64"
      ]
     },
     "execution_count": 33,
     "metadata": {},
     "output_type": "execute_result"
    }
   ],
   "source": [
    "df['url_dummy'].value_counts()"
   ]
  },
  {
   "cell_type": "code",
   "execution_count": 34,
   "metadata": {
    "collapsed": false
   },
   "outputs": [
    {
     "data": {
      "text/plain": [
       "0    2079\n",
       "1     108\n",
       "Name: mtot, dtype: int64"
      ]
     },
     "execution_count": 34,
     "metadata": {},
     "output_type": "execute_result"
    }
   ],
   "source": [
    "df['mtot'].value_counts() "
   ]
  },
  {
   "cell_type": "code",
   "execution_count": 35,
   "metadata": {
    "collapsed": false
   },
   "outputs": [
    {
     "data": {
      "text/html": [
       "<div>\n",
       "<table border=\"1\" class=\"dataframe\">\n",
       "  <thead>\n",
       "    <tr style=\"text-align: right;\">\n",
       "      <th>retweet_dummy</th>\n",
       "      <th>0</th>\n",
       "      <th>1</th>\n",
       "    </tr>\n",
       "    <tr>\n",
       "      <th>retweet_count</th>\n",
       "      <th></th>\n",
       "      <th></th>\n",
       "    </tr>\n",
       "  </thead>\n",
       "  <tbody>\n",
       "    <tr>\n",
       "      <th>0</th>\n",
       "      <td>1520</td>\n",
       "      <td>0</td>\n",
       "    </tr>\n",
       "    <tr>\n",
       "      <th>1</th>\n",
       "      <td>0</td>\n",
       "      <td>219</td>\n",
       "    </tr>\n",
       "    <tr>\n",
       "      <th>2</th>\n",
       "      <td>0</td>\n",
       "      <td>98</td>\n",
       "    </tr>\n",
       "    <tr>\n",
       "      <th>3</th>\n",
       "      <td>0</td>\n",
       "      <td>63</td>\n",
       "    </tr>\n",
       "    <tr>\n",
       "      <th>4</th>\n",
       "      <td>0</td>\n",
       "      <td>40</td>\n",
       "    </tr>\n",
       "    <tr>\n",
       "      <th>5</th>\n",
       "      <td>0</td>\n",
       "      <td>32</td>\n",
       "    </tr>\n",
       "    <tr>\n",
       "      <th>6</th>\n",
       "      <td>0</td>\n",
       "      <td>24</td>\n",
       "    </tr>\n",
       "    <tr>\n",
       "      <th>7</th>\n",
       "      <td>0</td>\n",
       "      <td>20</td>\n",
       "    </tr>\n",
       "    <tr>\n",
       "      <th>8</th>\n",
       "      <td>0</td>\n",
       "      <td>14</td>\n",
       "    </tr>\n",
       "    <tr>\n",
       "      <th>9</th>\n",
       "      <td>0</td>\n",
       "      <td>9</td>\n",
       "    </tr>\n",
       "    <tr>\n",
       "      <th>10</th>\n",
       "      <td>0</td>\n",
       "      <td>9</td>\n",
       "    </tr>\n",
       "    <tr>\n",
       "      <th>11</th>\n",
       "      <td>0</td>\n",
       "      <td>7</td>\n",
       "    </tr>\n",
       "    <tr>\n",
       "      <th>12</th>\n",
       "      <td>0</td>\n",
       "      <td>11</td>\n",
       "    </tr>\n",
       "    <tr>\n",
       "      <th>13</th>\n",
       "      <td>0</td>\n",
       "      <td>3</td>\n",
       "    </tr>\n",
       "    <tr>\n",
       "      <th>14</th>\n",
       "      <td>0</td>\n",
       "      <td>8</td>\n",
       "    </tr>\n",
       "    <tr>\n",
       "      <th>15</th>\n",
       "      <td>0</td>\n",
       "      <td>7</td>\n",
       "    </tr>\n",
       "    <tr>\n",
       "      <th>16</th>\n",
       "      <td>0</td>\n",
       "      <td>3</td>\n",
       "    </tr>\n",
       "    <tr>\n",
       "      <th>17</th>\n",
       "      <td>0</td>\n",
       "      <td>4</td>\n",
       "    </tr>\n",
       "    <tr>\n",
       "      <th>18</th>\n",
       "      <td>0</td>\n",
       "      <td>9</td>\n",
       "    </tr>\n",
       "    <tr>\n",
       "      <th>19</th>\n",
       "      <td>0</td>\n",
       "      <td>5</td>\n",
       "    </tr>\n",
       "    <tr>\n",
       "      <th>20</th>\n",
       "      <td>0</td>\n",
       "      <td>6</td>\n",
       "    </tr>\n",
       "    <tr>\n",
       "      <th>21</th>\n",
       "      <td>0</td>\n",
       "      <td>3</td>\n",
       "    </tr>\n",
       "    <tr>\n",
       "      <th>22</th>\n",
       "      <td>0</td>\n",
       "      <td>3</td>\n",
       "    </tr>\n",
       "    <tr>\n",
       "      <th>23</th>\n",
       "      <td>0</td>\n",
       "      <td>7</td>\n",
       "    </tr>\n",
       "    <tr>\n",
       "      <th>24</th>\n",
       "      <td>0</td>\n",
       "      <td>6</td>\n",
       "    </tr>\n",
       "    <tr>\n",
       "      <th>25</th>\n",
       "      <td>0</td>\n",
       "      <td>6</td>\n",
       "    </tr>\n",
       "    <tr>\n",
       "      <th>26</th>\n",
       "      <td>0</td>\n",
       "      <td>7</td>\n",
       "    </tr>\n",
       "    <tr>\n",
       "      <th>27</th>\n",
       "      <td>0</td>\n",
       "      <td>3</td>\n",
       "    </tr>\n",
       "    <tr>\n",
       "      <th>28</th>\n",
       "      <td>0</td>\n",
       "      <td>3</td>\n",
       "    </tr>\n",
       "    <tr>\n",
       "      <th>30</th>\n",
       "      <td>0</td>\n",
       "      <td>6</td>\n",
       "    </tr>\n",
       "    <tr>\n",
       "      <th>32</th>\n",
       "      <td>0</td>\n",
       "      <td>2</td>\n",
       "    </tr>\n",
       "    <tr>\n",
       "      <th>34</th>\n",
       "      <td>0</td>\n",
       "      <td>1</td>\n",
       "    </tr>\n",
       "    <tr>\n",
       "      <th>36</th>\n",
       "      <td>0</td>\n",
       "      <td>2</td>\n",
       "    </tr>\n",
       "    <tr>\n",
       "      <th>37</th>\n",
       "      <td>0</td>\n",
       "      <td>3</td>\n",
       "    </tr>\n",
       "    <tr>\n",
       "      <th>38</th>\n",
       "      <td>0</td>\n",
       "      <td>2</td>\n",
       "    </tr>\n",
       "    <tr>\n",
       "      <th>39</th>\n",
       "      <td>0</td>\n",
       "      <td>1</td>\n",
       "    </tr>\n",
       "    <tr>\n",
       "      <th>40</th>\n",
       "      <td>0</td>\n",
       "      <td>1</td>\n",
       "    </tr>\n",
       "    <tr>\n",
       "      <th>41</th>\n",
       "      <td>0</td>\n",
       "      <td>1</td>\n",
       "    </tr>\n",
       "    <tr>\n",
       "      <th>42</th>\n",
       "      <td>0</td>\n",
       "      <td>1</td>\n",
       "    </tr>\n",
       "    <tr>\n",
       "      <th>43</th>\n",
       "      <td>0</td>\n",
       "      <td>2</td>\n",
       "    </tr>\n",
       "    <tr>\n",
       "      <th>44</th>\n",
       "      <td>0</td>\n",
       "      <td>2</td>\n",
       "    </tr>\n",
       "    <tr>\n",
       "      <th>45</th>\n",
       "      <td>0</td>\n",
       "      <td>3</td>\n",
       "    </tr>\n",
       "    <tr>\n",
       "      <th>47</th>\n",
       "      <td>0</td>\n",
       "      <td>1</td>\n",
       "    </tr>\n",
       "    <tr>\n",
       "      <th>49</th>\n",
       "      <td>0</td>\n",
       "      <td>1</td>\n",
       "    </tr>\n",
       "    <tr>\n",
       "      <th>53</th>\n",
       "      <td>0</td>\n",
       "      <td>1</td>\n",
       "    </tr>\n",
       "    <tr>\n",
       "      <th>55</th>\n",
       "      <td>0</td>\n",
       "      <td>1</td>\n",
       "    </tr>\n",
       "    <tr>\n",
       "      <th>57</th>\n",
       "      <td>0</td>\n",
       "      <td>1</td>\n",
       "    </tr>\n",
       "    <tr>\n",
       "      <th>61</th>\n",
       "      <td>0</td>\n",
       "      <td>1</td>\n",
       "    </tr>\n",
       "    <tr>\n",
       "      <th>64</th>\n",
       "      <td>0</td>\n",
       "      <td>1</td>\n",
       "    </tr>\n",
       "    <tr>\n",
       "      <th>77</th>\n",
       "      <td>0</td>\n",
       "      <td>1</td>\n",
       "    </tr>\n",
       "    <tr>\n",
       "      <th>103</th>\n",
       "      <td>0</td>\n",
       "      <td>1</td>\n",
       "    </tr>\n",
       "    <tr>\n",
       "      <th>116</th>\n",
       "      <td>0</td>\n",
       "      <td>1</td>\n",
       "    </tr>\n",
       "    <tr>\n",
       "      <th>136</th>\n",
       "      <td>0</td>\n",
       "      <td>1</td>\n",
       "    </tr>\n",
       "  </tbody>\n",
       "</table>\n",
       "</div>"
      ],
      "text/plain": [
       "retweet_dummy     0    1\n",
       "retweet_count           \n",
       "0              1520    0\n",
       "1                 0  219\n",
       "2                 0   98\n",
       "3                 0   63\n",
       "4                 0   40\n",
       "5                 0   32\n",
       "6                 0   24\n",
       "7                 0   20\n",
       "8                 0   14\n",
       "9                 0    9\n",
       "10                0    9\n",
       "11                0    7\n",
       "12                0   11\n",
       "13                0    3\n",
       "14                0    8\n",
       "15                0    7\n",
       "16                0    3\n",
       "17                0    4\n",
       "18                0    9\n",
       "19                0    5\n",
       "20                0    6\n",
       "21                0    3\n",
       "22                0    3\n",
       "23                0    7\n",
       "24                0    6\n",
       "25                0    6\n",
       "26                0    7\n",
       "27                0    3\n",
       "28                0    3\n",
       "30                0    6\n",
       "32                0    2\n",
       "34                0    1\n",
       "36                0    2\n",
       "37                0    3\n",
       "38                0    2\n",
       "39                0    1\n",
       "40                0    1\n",
       "41                0    1\n",
       "42                0    1\n",
       "43                0    2\n",
       "44                0    2\n",
       "45                0    3\n",
       "47                0    1\n",
       "49                0    1\n",
       "53                0    1\n",
       "55                0    1\n",
       "57                0    1\n",
       "61                0    1\n",
       "64                0    1\n",
       "77                0    1\n",
       "103               0    1\n",
       "116               0    1\n",
       "136               0    1"
      ]
     },
     "execution_count": 35,
     "metadata": {},
     "output_type": "execute_result"
    }
   ],
   "source": [
    "# the retweet_dummy variable has only been assigned 0 in cases where retweet_count was actually 0\n",
    "pd.crosstab(df['retweet_count'], df['retweet_dummy'])"
   ]
  },
  {
   "cell_type": "code",
   "execution_count": 36,
   "metadata": {
    "collapsed": false
   },
   "outputs": [
    {
     "data": {
      "text/html": [
       "<div>\n",
       "<table border=\"1\" class=\"dataframe\">\n",
       "  <thead>\n",
       "    <tr style=\"text-align: right;\">\n",
       "      <th>mention_dummy</th>\n",
       "      <th>0</th>\n",
       "      <th>1</th>\n",
       "    </tr>\n",
       "    <tr>\n",
       "      <th>entities_mentions_count</th>\n",
       "      <th></th>\n",
       "      <th></th>\n",
       "    </tr>\n",
       "  </thead>\n",
       "  <tbody>\n",
       "    <tr>\n",
       "      <th>0</th>\n",
       "      <td>1550</td>\n",
       "      <td>0</td>\n",
       "    </tr>\n",
       "    <tr>\n",
       "      <th>1</th>\n",
       "      <td>0</td>\n",
       "      <td>531</td>\n",
       "    </tr>\n",
       "    <tr>\n",
       "      <th>2</th>\n",
       "      <td>0</td>\n",
       "      <td>53</td>\n",
       "    </tr>\n",
       "    <tr>\n",
       "      <th>3</th>\n",
       "      <td>0</td>\n",
       "      <td>23</td>\n",
       "    </tr>\n",
       "    <tr>\n",
       "      <th>4</th>\n",
       "      <td>0</td>\n",
       "      <td>21</td>\n",
       "    </tr>\n",
       "    <tr>\n",
       "      <th>5</th>\n",
       "      <td>0</td>\n",
       "      <td>7</td>\n",
       "    </tr>\n",
       "    <tr>\n",
       "      <th>6</th>\n",
       "      <td>0</td>\n",
       "      <td>2</td>\n",
       "    </tr>\n",
       "  </tbody>\n",
       "</table>\n",
       "</div>"
      ],
      "text/plain": [
       "mention_dummy               0    1\n",
       "entities_mentions_count           \n",
       "0                        1550    0\n",
       "1                           0  531\n",
       "2                           0   53\n",
       "3                           0   23\n",
       "4                           0   21\n",
       "5                           0    7\n",
       "6                           0    2"
      ]
     },
     "execution_count": 36,
     "metadata": {},
     "output_type": "execute_result"
    }
   ],
   "source": [
    "pd.crosstab(df['entities_mentions_count'], df['mention_dummy'])"
   ]
  },
  {
   "cell_type": "code",
   "execution_count": 37,
   "metadata": {
    "collapsed": false
   },
   "outputs": [
    {
     "data": {
      "text/html": [
       "<div>\n",
       "<table border=\"1\" class=\"dataframe\">\n",
       "  <thead>\n",
       "    <tr style=\"text-align: right;\">\n",
       "      <th>url_dummy</th>\n",
       "      <th>0</th>\n",
       "      <th>1</th>\n",
       "    </tr>\n",
       "    <tr>\n",
       "      <th>entities_urls_count</th>\n",
       "      <th></th>\n",
       "      <th></th>\n",
       "    </tr>\n",
       "  </thead>\n",
       "  <tbody>\n",
       "    <tr>\n",
       "      <th>0</th>\n",
       "      <td>859</td>\n",
       "      <td>0</td>\n",
       "    </tr>\n",
       "    <tr>\n",
       "      <th>1</th>\n",
       "      <td>0</td>\n",
       "      <td>1315</td>\n",
       "    </tr>\n",
       "    <tr>\n",
       "      <th>2</th>\n",
       "      <td>0</td>\n",
       "      <td>13</td>\n",
       "    </tr>\n",
       "  </tbody>\n",
       "</table>\n",
       "</div>"
      ],
      "text/plain": [
       "url_dummy              0     1\n",
       "entities_urls_count           \n",
       "0                    859     0\n",
       "1                      0  1315\n",
       "2                      0    13"
      ]
     },
     "execution_count": 37,
     "metadata": {},
     "output_type": "execute_result"
    }
   ],
   "source": [
    "pd.crosstab(df['entities_urls_count'], df['url_dummy'])"
   ]
  },
  {
   "cell_type": "markdown",
   "metadata": {
    "collapsed": false
   },
   "source": [
    "\n",
    "<br>\n",
    "## <div style='text-align: center; color: green'>Looks like everything checks out, moving on...</div>\n",
    "<br>\n",
    "\n",
    "<br>\n",
    "\n",
    "---"
   ]
  },
  {
   "cell_type": "markdown",
   "metadata": {},
   "source": [
    "# Create time variables\n",
    "\n",
    "><p style='font-size: large'>This is similar to the time visualization in `2_tweets_retweets_by_time.ipynb`. Now, when we index the pandas datetime object, we'll use it to create variables</p>"
   ]
  },
  {
   "cell_type": "markdown",
   "metadata": {},
   "source": [
    "<br>\n",
    "<h2> By day of week</h2>"
   ]
  },
  {
   "cell_type": "code",
   "execution_count": 38,
   "metadata": {
    "collapsed": true
   },
   "outputs": [],
   "source": [
    "import calendar"
   ]
  },
  {
   "cell_type": "code",
   "execution_count": 39,
   "metadata": {
    "collapsed": false
   },
   "outputs": [
    {
     "data": {
      "text/plain": [
       "retweeted_status         object\n",
       "created_at_text          object\n",
       "created_at               object\n",
       "content                  object\n",
       "from_user_screen_name    object\n",
       "dtype: object"
      ]
     },
     "execution_count": 39,
     "metadata": {},
     "output_type": "execute_result"
    }
   ],
   "source": [
    "df.dtypes[8:13]"
   ]
  },
  {
   "cell_type": "code",
   "execution_count": 40,
   "metadata": {
    "collapsed": false
   },
   "outputs": [],
   "source": [
    "# convert to pandas datetime format\n",
    "df['created_at_text'] = pd.to_datetime(df['created_at_text'])"
   ]
  },
  {
   "cell_type": "code",
   "execution_count": 41,
   "metadata": {
    "collapsed": false
   },
   "outputs": [
    {
     "data": {
      "text/plain": [
       "retweeted_status                 object\n",
       "created_at_text          datetime64[ns]\n",
       "created_at                       object\n",
       "content                          object\n",
       "from_user_screen_name            object\n",
       "dtype: object"
      ]
     },
     "execution_count": 41,
     "metadata": {},
     "output_type": "execute_result"
    }
   ],
   "source": [
    "df.dtypes[8:13]"
   ]
  },
  {
   "cell_type": "code",
   "execution_count": 42,
   "metadata": {
    "collapsed": false
   },
   "outputs": [
    {
     "data": {
      "text/plain": [
       "count                    2187\n",
       "unique                   2179\n",
       "top       2017-04-05 05:20:08\n",
       "freq                        2\n",
       "first     2016-12-24 03:30:38\n",
       "last      2017-04-21 04:21:17\n",
       "Name: created_at_text, dtype: object"
      ]
     },
     "execution_count": 42,
     "metadata": {},
     "output_type": "execute_result"
    }
   ],
   "source": [
    "df.created_at_text.describe()"
   ]
  },
  {
   "cell_type": "code",
   "execution_count": 43,
   "metadata": {
    "collapsed": false
   },
   "outputs": [
    {
     "name": "stdout",
     "output_type": "stream",
     "text": [
      "2187\n"
     ]
    }
   ],
   "source": [
    "# set the index to the time variable\n",
    "df = df.set_index(['created_at_text'])\n",
    "print len(df)"
   ]
  },
  {
   "cell_type": "code",
   "execution_count": 44,
   "metadata": {
    "collapsed": false
   },
   "outputs": [],
   "source": [
    "df['weekday'] = df.index.weekday # create a 'weekday' variable from a weekday-indexed df"
   ]
  },
  {
   "cell_type": "code",
   "execution_count": 45,
   "metadata": {
    "collapsed": false
   },
   "outputs": [
    {
     "name": "stdout",
     "output_type": "stream",
     "text": [
      "2187\n"
     ]
    }
   ],
   "source": [
    "print len(df['weekday'])"
   ]
  },
  {
   "cell_type": "code",
   "execution_count": 46,
   "metadata": {
    "collapsed": false
   },
   "outputs": [
    {
     "name": "stdout",
     "output_type": "stream",
     "text": [
      "2187\n"
     ]
    },
    {
     "data": {
      "text/html": [
       "<div>\n",
       "<table border=\"1\" class=\"dataframe\">\n",
       "  <thead>\n",
       "    <tr style=\"text-align: right;\">\n",
       "      <th></th>\n",
       "      <th>id</th>\n",
       "      <th>hash_select</th>\n",
       "      <th>tweet_id</th>\n",
       "      <th>inserted_date</th>\n",
       "      <th>truncated</th>\n",
       "      <th>language</th>\n",
       "      <th>possibly_sensitive</th>\n",
       "      <th>coordinates</th>\n",
       "      <th>retweeted_status</th>\n",
       "      <th>created_at</th>\n",
       "      <th>content</th>\n",
       "      <th>from_user_screen_name</th>\n",
       "      <th>from_user_id</th>\n",
       "      <th>from_user_followers_count</th>\n",
       "      <th>from_user_friends_count</th>\n",
       "      <th>from_user_listed_count</th>\n",
       "      <th>from_user_statuses_count</th>\n",
       "      <th>from_user_description</th>\n",
       "      <th>from_user_location</th>\n",
       "      <th>from_user_created_at</th>\n",
       "      <th>retweet_count</th>\n",
       "      <th>entities_urls</th>\n",
       "      <th>entities_urls_count</th>\n",
       "      <th>entities_hashtags</th>\n",
       "      <th>entities_hashtags_count</th>\n",
       "      <th>entities_mentions</th>\n",
       "      <th>entities_mentions_count</th>\n",
       "      <th>in_reply_to_screen_name</th>\n",
       "      <th>in_reply_to_status_id</th>\n",
       "      <th>source</th>\n",
       "      <th>entities_expanded_urls</th>\n",
       "      <th>json_output</th>\n",
       "      <th>entities_media_count</th>\n",
       "      <th>media_expanded_url</th>\n",
       "      <th>media_url</th>\n",
       "      <th>media_type</th>\n",
       "      <th>video_link</th>\n",
       "      <th>photo_link</th>\n",
       "      <th>twitpic</th>\n",
       "      <th>mtot</th>\n",
       "      <th>exception_mag</th>\n",
       "      <th>kauffman</th>\n",
       "      <th>retweet_dummy</th>\n",
       "      <th>mention_dummy</th>\n",
       "      <th>url_dummy</th>\n",
       "      <th>weekday</th>\n",
       "    </tr>\n",
       "    <tr>\n",
       "      <th>created_at_text</th>\n",
       "      <th></th>\n",
       "      <th></th>\n",
       "      <th></th>\n",
       "      <th></th>\n",
       "      <th></th>\n",
       "      <th></th>\n",
       "      <th></th>\n",
       "      <th></th>\n",
       "      <th></th>\n",
       "      <th></th>\n",
       "      <th></th>\n",
       "      <th></th>\n",
       "      <th></th>\n",
       "      <th></th>\n",
       "      <th></th>\n",
       "      <th></th>\n",
       "      <th></th>\n",
       "      <th></th>\n",
       "      <th></th>\n",
       "      <th></th>\n",
       "      <th></th>\n",
       "      <th></th>\n",
       "      <th></th>\n",
       "      <th></th>\n",
       "      <th></th>\n",
       "      <th></th>\n",
       "      <th></th>\n",
       "      <th></th>\n",
       "      <th></th>\n",
       "      <th></th>\n",
       "      <th></th>\n",
       "      <th></th>\n",
       "      <th></th>\n",
       "      <th></th>\n",
       "      <th></th>\n",
       "      <th></th>\n",
       "      <th></th>\n",
       "      <th></th>\n",
       "      <th></th>\n",
       "      <th></th>\n",
       "      <th></th>\n",
       "      <th></th>\n",
       "      <th></th>\n",
       "      <th></th>\n",
       "      <th></th>\n",
       "      <th></th>\n",
       "    </tr>\n",
       "  </thead>\n",
       "  <tbody>\n",
       "    <tr>\n",
       "      <th>2017-04-21 04:21:17</th>\n",
       "      <td>2555</td>\n",
       "      <td>%2523montanamoment</td>\n",
       "      <td>8.550000e+17</td>\n",
       "      <td>35:57.3</td>\n",
       "      <td>0</td>\n",
       "      <td>en</td>\n",
       "      <td>0.0</td>\n",
       "      <td>NaN</td>\n",
       "      <td>NaN</td>\n",
       "      <td>21:17.0</td>\n",
       "      <td>The night sky is a fascinating place especiall...</td>\n",
       "      <td>LeonKauffman</td>\n",
       "      <td>425125748.0</td>\n",
       "      <td>673</td>\n",
       "      <td>152</td>\n",
       "      <td>39</td>\n",
       "      <td>1616</td>\n",
       "      <td>Hydrologist, photographer, fan of Drexel baske...</td>\n",
       "      <td>Condon, Montana, USA</td>\n",
       "      <td>Wed Nov 30 15:58:25 +0000 2011</td>\n",
       "      <td>4</td>\n",
       "      <td>NaN</td>\n",
       "      <td>0</td>\n",
       "      <td>MontanaMoment</td>\n",
       "      <td>1</td>\n",
       "      <td>NaN</td>\n",
       "      <td>0</td>\n",
       "      <td>NaN</td>\n",
       "      <td>NaN</td>\n",
       "      <td>&lt;a href=\"https://about.twitter.com/products/tw...</td>\n",
       "      <td>NaN</td>\n",
       "      <td>{u'contributors': None, u'truncated': False, u...</td>\n",
       "      <td>1.0</td>\n",
       "      <td>https://twitter.com/LeonKauffman/status/855275...</td>\n",
       "      <td>http://pbs.twimg.com/media/C96LaxcUQAEMOQl.jpg</td>\n",
       "      <td>photo</td>\n",
       "      <td>0</td>\n",
       "      <td>0</td>\n",
       "      <td>0</td>\n",
       "      <td>0</td>\n",
       "      <td>0</td>\n",
       "      <td>1</td>\n",
       "      <td>1</td>\n",
       "      <td>0</td>\n",
       "      <td>0</td>\n",
       "      <td>4</td>\n",
       "    </tr>\n",
       "  </tbody>\n",
       "</table>\n",
       "</div>"
      ],
      "text/plain": [
       "                       id         hash_select      tweet_id inserted_date  \\\n",
       "created_at_text                                                             \n",
       "2017-04-21 04:21:17  2555  %2523montanamoment  8.550000e+17       35:57.3   \n",
       "\n",
       "                     truncated language  possibly_sensitive coordinates  \\\n",
       "created_at_text                                                           \n",
       "2017-04-21 04:21:17          0       en                 0.0         NaN   \n",
       "\n",
       "                    retweeted_status created_at  \\\n",
       "created_at_text                                   \n",
       "2017-04-21 04:21:17              NaN    21:17.0   \n",
       "\n",
       "                                                               content  \\\n",
       "created_at_text                                                          \n",
       "2017-04-21 04:21:17  The night sky is a fascinating place especiall...   \n",
       "\n",
       "                    from_user_screen_name  from_user_id  \\\n",
       "created_at_text                                           \n",
       "2017-04-21 04:21:17          LeonKauffman   425125748.0   \n",
       "\n",
       "                     from_user_followers_count  from_user_friends_count  \\\n",
       "created_at_text                                                           \n",
       "2017-04-21 04:21:17                        673                      152   \n",
       "\n",
       "                     from_user_listed_count  from_user_statuses_count  \\\n",
       "created_at_text                                                         \n",
       "2017-04-21 04:21:17                      39                      1616   \n",
       "\n",
       "                                                 from_user_description  \\\n",
       "created_at_text                                                          \n",
       "2017-04-21 04:21:17  Hydrologist, photographer, fan of Drexel baske...   \n",
       "\n",
       "                       from_user_location            from_user_created_at  \\\n",
       "created_at_text                                                             \n",
       "2017-04-21 04:21:17  Condon, Montana, USA  Wed Nov 30 15:58:25 +0000 2011   \n",
       "\n",
       "                     retweet_count entities_urls  entities_urls_count  \\\n",
       "created_at_text                                                         \n",
       "2017-04-21 04:21:17              4           NaN                    0   \n",
       "\n",
       "                    entities_hashtags  entities_hashtags_count  \\\n",
       "created_at_text                                                  \n",
       "2017-04-21 04:21:17     MontanaMoment                        1   \n",
       "\n",
       "                    entities_mentions  entities_mentions_count  \\\n",
       "created_at_text                                                  \n",
       "2017-04-21 04:21:17               NaN                        0   \n",
       "\n",
       "                    in_reply_to_screen_name  in_reply_to_status_id  \\\n",
       "created_at_text                                                      \n",
       "2017-04-21 04:21:17                     NaN                    NaN   \n",
       "\n",
       "                                                                source  \\\n",
       "created_at_text                                                          \n",
       "2017-04-21 04:21:17  <a href=\"https://about.twitter.com/products/tw...   \n",
       "\n",
       "                    entities_expanded_urls  \\\n",
       "created_at_text                              \n",
       "2017-04-21 04:21:17                    NaN   \n",
       "\n",
       "                                                           json_output  \\\n",
       "created_at_text                                                          \n",
       "2017-04-21 04:21:17  {u'contributors': None, u'truncated': False, u...   \n",
       "\n",
       "                     entities_media_count  \\\n",
       "created_at_text                             \n",
       "2017-04-21 04:21:17                   1.0   \n",
       "\n",
       "                                                    media_expanded_url  \\\n",
       "created_at_text                                                          \n",
       "2017-04-21 04:21:17  https://twitter.com/LeonKauffman/status/855275...   \n",
       "\n",
       "                                                          media_url  \\\n",
       "created_at_text                                                       \n",
       "2017-04-21 04:21:17  http://pbs.twimg.com/media/C96LaxcUQAEMOQl.jpg   \n",
       "\n",
       "                    media_type  video_link  photo_link  twitpic  mtot  \\\n",
       "created_at_text                                                         \n",
       "2017-04-21 04:21:17      photo           0           0        0     0   \n",
       "\n",
       "                     exception_mag  kauffman  retweet_dummy  mention_dummy  \\\n",
       "created_at_text                                                              \n",
       "2017-04-21 04:21:17              0         1              1              0   \n",
       "\n",
       "                     url_dummy  weekday  \n",
       "created_at_text                          \n",
       "2017-04-21 04:21:17          0        4  "
      ]
     },
     "execution_count": 46,
     "metadata": {},
     "output_type": "execute_result"
    }
   ],
   "source": [
    "# return the df index to the tweet_id variable, check the length, & notice the weekday variable now in the dataset (0 = Monday)\n",
    "#df = df.set_index(['tweet_id'])\n",
    "print len (df)\n",
    "df.head(1)"
   ]
  },
  {
   "cell_type": "code",
   "execution_count": 47,
   "metadata": {
    "collapsed": false
   },
   "outputs": [
    {
     "data": {
      "text/plain": [
       "count    2187.000000\n",
       "mean        3.085048\n",
       "std         1.975628\n",
       "min         0.000000\n",
       "25%         1.000000\n",
       "50%         3.000000\n",
       "75%         5.000000\n",
       "max         6.000000\n",
       "Name: weekday, dtype: float64"
      ]
     },
     "execution_count": 47,
     "metadata": {},
     "output_type": "execute_result"
    }
   ],
   "source": [
    "df.weekday.describe()"
   ]
  },
  {
   "cell_type": "code",
   "execution_count": 48,
   "metadata": {
    "collapsed": false
   },
   "outputs": [
    {
     "data": {
      "text/html": [
       "<div>\n",
       "<table border=\"1\" class=\"dataframe\">\n",
       "  <thead>\n",
       "    <tr style=\"text-align: right;\">\n",
       "      <th></th>\n",
       "      <th>id</th>\n",
       "      <th>hash_select</th>\n",
       "      <th>tweet_id</th>\n",
       "      <th>inserted_date</th>\n",
       "      <th>truncated</th>\n",
       "      <th>language</th>\n",
       "      <th>possibly_sensitive</th>\n",
       "      <th>coordinates</th>\n",
       "      <th>retweeted_status</th>\n",
       "      <th>created_at</th>\n",
       "      <th>content</th>\n",
       "      <th>from_user_screen_name</th>\n",
       "      <th>from_user_id</th>\n",
       "      <th>from_user_followers_count</th>\n",
       "      <th>from_user_friends_count</th>\n",
       "      <th>from_user_listed_count</th>\n",
       "      <th>from_user_statuses_count</th>\n",
       "      <th>from_user_description</th>\n",
       "      <th>from_user_location</th>\n",
       "      <th>from_user_created_at</th>\n",
       "      <th>retweet_count</th>\n",
       "      <th>entities_urls</th>\n",
       "      <th>entities_urls_count</th>\n",
       "      <th>entities_hashtags</th>\n",
       "      <th>entities_hashtags_count</th>\n",
       "      <th>entities_mentions</th>\n",
       "      <th>entities_mentions_count</th>\n",
       "      <th>in_reply_to_screen_name</th>\n",
       "      <th>in_reply_to_status_id</th>\n",
       "      <th>source</th>\n",
       "      <th>entities_expanded_urls</th>\n",
       "      <th>json_output</th>\n",
       "      <th>entities_media_count</th>\n",
       "      <th>media_expanded_url</th>\n",
       "      <th>media_url</th>\n",
       "      <th>media_type</th>\n",
       "      <th>video_link</th>\n",
       "      <th>photo_link</th>\n",
       "      <th>twitpic</th>\n",
       "      <th>mtot</th>\n",
       "      <th>exception_mag</th>\n",
       "      <th>kauffman</th>\n",
       "      <th>retweet_dummy</th>\n",
       "      <th>mention_dummy</th>\n",
       "      <th>url_dummy</th>\n",
       "      <th>weekday</th>\n",
       "      <th>0</th>\n",
       "      <th>1</th>\n",
       "      <th>2</th>\n",
       "      <th>3</th>\n",
       "      <th>4</th>\n",
       "      <th>5</th>\n",
       "      <th>6</th>\n",
       "    </tr>\n",
       "    <tr>\n",
       "      <th>created_at_text</th>\n",
       "      <th></th>\n",
       "      <th></th>\n",
       "      <th></th>\n",
       "      <th></th>\n",
       "      <th></th>\n",
       "      <th></th>\n",
       "      <th></th>\n",
       "      <th></th>\n",
       "      <th></th>\n",
       "      <th></th>\n",
       "      <th></th>\n",
       "      <th></th>\n",
       "      <th></th>\n",
       "      <th></th>\n",
       "      <th></th>\n",
       "      <th></th>\n",
       "      <th></th>\n",
       "      <th></th>\n",
       "      <th></th>\n",
       "      <th></th>\n",
       "      <th></th>\n",
       "      <th></th>\n",
       "      <th></th>\n",
       "      <th></th>\n",
       "      <th></th>\n",
       "      <th></th>\n",
       "      <th></th>\n",
       "      <th></th>\n",
       "      <th></th>\n",
       "      <th></th>\n",
       "      <th></th>\n",
       "      <th></th>\n",
       "      <th></th>\n",
       "      <th></th>\n",
       "      <th></th>\n",
       "      <th></th>\n",
       "      <th></th>\n",
       "      <th></th>\n",
       "      <th></th>\n",
       "      <th></th>\n",
       "      <th></th>\n",
       "      <th></th>\n",
       "      <th></th>\n",
       "      <th></th>\n",
       "      <th></th>\n",
       "      <th></th>\n",
       "      <th></th>\n",
       "      <th></th>\n",
       "      <th></th>\n",
       "      <th></th>\n",
       "      <th></th>\n",
       "      <th></th>\n",
       "      <th></th>\n",
       "    </tr>\n",
       "  </thead>\n",
       "  <tbody>\n",
       "    <tr>\n",
       "      <th>2017-04-21 04:21:17</th>\n",
       "      <td>2555</td>\n",
       "      <td>%2523montanamoment</td>\n",
       "      <td>8.550000e+17</td>\n",
       "      <td>35:57.3</td>\n",
       "      <td>0</td>\n",
       "      <td>en</td>\n",
       "      <td>0.0</td>\n",
       "      <td>NaN</td>\n",
       "      <td>NaN</td>\n",
       "      <td>21:17.0</td>\n",
       "      <td>The night sky is a fascinating place especiall...</td>\n",
       "      <td>LeonKauffman</td>\n",
       "      <td>425125748.0</td>\n",
       "      <td>673</td>\n",
       "      <td>152</td>\n",
       "      <td>39</td>\n",
       "      <td>1616</td>\n",
       "      <td>Hydrologist, photographer, fan of Drexel baske...</td>\n",
       "      <td>Condon, Montana, USA</td>\n",
       "      <td>Wed Nov 30 15:58:25 +0000 2011</td>\n",
       "      <td>4</td>\n",
       "      <td>NaN</td>\n",
       "      <td>0</td>\n",
       "      <td>MontanaMoment</td>\n",
       "      <td>1</td>\n",
       "      <td>NaN</td>\n",
       "      <td>0</td>\n",
       "      <td>NaN</td>\n",
       "      <td>NaN</td>\n",
       "      <td>&lt;a href=\"https://about.twitter.com/products/tw...</td>\n",
       "      <td>NaN</td>\n",
       "      <td>{u'contributors': None, u'truncated': False, u...</td>\n",
       "      <td>1.0</td>\n",
       "      <td>https://twitter.com/LeonKauffman/status/855275...</td>\n",
       "      <td>http://pbs.twimg.com/media/C96LaxcUQAEMOQl.jpg</td>\n",
       "      <td>photo</td>\n",
       "      <td>0</td>\n",
       "      <td>0</td>\n",
       "      <td>0</td>\n",
       "      <td>0</td>\n",
       "      <td>0</td>\n",
       "      <td>1</td>\n",
       "      <td>1</td>\n",
       "      <td>0</td>\n",
       "      <td>0</td>\n",
       "      <td>4</td>\n",
       "      <td>0</td>\n",
       "      <td>0</td>\n",
       "      <td>0</td>\n",
       "      <td>0</td>\n",
       "      <td>1</td>\n",
       "      <td>0</td>\n",
       "      <td>0</td>\n",
       "    </tr>\n",
       "  </tbody>\n",
       "</table>\n",
       "</div>"
      ],
      "text/plain": [
       "                       id         hash_select      tweet_id inserted_date  \\\n",
       "created_at_text                                                             \n",
       "2017-04-21 04:21:17  2555  %2523montanamoment  8.550000e+17       35:57.3   \n",
       "\n",
       "                     truncated language  possibly_sensitive coordinates  \\\n",
       "created_at_text                                                           \n",
       "2017-04-21 04:21:17          0       en                 0.0         NaN   \n",
       "\n",
       "                    retweeted_status created_at  \\\n",
       "created_at_text                                   \n",
       "2017-04-21 04:21:17              NaN    21:17.0   \n",
       "\n",
       "                                                               content  \\\n",
       "created_at_text                                                          \n",
       "2017-04-21 04:21:17  The night sky is a fascinating place especiall...   \n",
       "\n",
       "                    from_user_screen_name  from_user_id  \\\n",
       "created_at_text                                           \n",
       "2017-04-21 04:21:17          LeonKauffman   425125748.0   \n",
       "\n",
       "                     from_user_followers_count  from_user_friends_count  \\\n",
       "created_at_text                                                           \n",
       "2017-04-21 04:21:17                        673                      152   \n",
       "\n",
       "                     from_user_listed_count  from_user_statuses_count  \\\n",
       "created_at_text                                                         \n",
       "2017-04-21 04:21:17                      39                      1616   \n",
       "\n",
       "                                                 from_user_description  \\\n",
       "created_at_text                                                          \n",
       "2017-04-21 04:21:17  Hydrologist, photographer, fan of Drexel baske...   \n",
       "\n",
       "                       from_user_location            from_user_created_at  \\\n",
       "created_at_text                                                             \n",
       "2017-04-21 04:21:17  Condon, Montana, USA  Wed Nov 30 15:58:25 +0000 2011   \n",
       "\n",
       "                     retweet_count entities_urls  entities_urls_count  \\\n",
       "created_at_text                                                         \n",
       "2017-04-21 04:21:17              4           NaN                    0   \n",
       "\n",
       "                    entities_hashtags  entities_hashtags_count  \\\n",
       "created_at_text                                                  \n",
       "2017-04-21 04:21:17     MontanaMoment                        1   \n",
       "\n",
       "                    entities_mentions  entities_mentions_count  \\\n",
       "created_at_text                                                  \n",
       "2017-04-21 04:21:17               NaN                        0   \n",
       "\n",
       "                    in_reply_to_screen_name  in_reply_to_status_id  \\\n",
       "created_at_text                                                      \n",
       "2017-04-21 04:21:17                     NaN                    NaN   \n",
       "\n",
       "                                                                source  \\\n",
       "created_at_text                                                          \n",
       "2017-04-21 04:21:17  <a href=\"https://about.twitter.com/products/tw...   \n",
       "\n",
       "                    entities_expanded_urls  \\\n",
       "created_at_text                              \n",
       "2017-04-21 04:21:17                    NaN   \n",
       "\n",
       "                                                           json_output  \\\n",
       "created_at_text                                                          \n",
       "2017-04-21 04:21:17  {u'contributors': None, u'truncated': False, u...   \n",
       "\n",
       "                     entities_media_count  \\\n",
       "created_at_text                             \n",
       "2017-04-21 04:21:17                   1.0   \n",
       "\n",
       "                                                    media_expanded_url  \\\n",
       "created_at_text                                                          \n",
       "2017-04-21 04:21:17  https://twitter.com/LeonKauffman/status/855275...   \n",
       "\n",
       "                                                          media_url  \\\n",
       "created_at_text                                                       \n",
       "2017-04-21 04:21:17  http://pbs.twimg.com/media/C96LaxcUQAEMOQl.jpg   \n",
       "\n",
       "                    media_type  video_link  photo_link  twitpic  mtot  \\\n",
       "created_at_text                                                         \n",
       "2017-04-21 04:21:17      photo           0           0        0     0   \n",
       "\n",
       "                     exception_mag  kauffman  retweet_dummy  mention_dummy  \\\n",
       "created_at_text                                                              \n",
       "2017-04-21 04:21:17              0         1              1              0   \n",
       "\n",
       "                     url_dummy  weekday  0  1  2  3  4  5  6  \n",
       "created_at_text                                               \n",
       "2017-04-21 04:21:17          0        4  0  0  0  0  1  0  0  "
      ]
     },
     "execution_count": 48,
     "metadata": {},
     "output_type": "execute_result"
    }
   ],
   "source": [
    "# create dummy variables for each of the 7 unique values of the weekday variable and add them to the df\n",
    "# df2 = df.join(pd.get_dummies(df['weekday']))\n",
    "df = pd.concat([df, pd.get_dummies(df['weekday'])], axis=1); df.head(1)"
   ]
  },
  {
   "cell_type": "code",
   "execution_count": 49,
   "metadata": {
    "collapsed": false
   },
   "outputs": [
    {
     "name": "stdout",
     "output_type": "stream",
     "text": [
      "2187\n"
     ]
    }
   ],
   "source": [
    "print len(df)"
   ]
  },
  {
   "cell_type": "code",
   "execution_count": 50,
   "metadata": {
    "collapsed": false
   },
   "outputs": [
    {
     "name": "stdout",
     "output_type": "stream",
     "text": [
      "53\n"
     ]
    },
    {
     "data": {
      "text/html": [
       "<div>\n",
       "<table border=\"1\" class=\"dataframe\">\n",
       "  <thead>\n",
       "    <tr style=\"text-align: right;\">\n",
       "      <th></th>\n",
       "      <th>id</th>\n",
       "      <th>hash_select</th>\n",
       "      <th>tweet_id</th>\n",
       "      <th>inserted_date</th>\n",
       "      <th>truncated</th>\n",
       "      <th>language</th>\n",
       "      <th>possibly_sensitive</th>\n",
       "      <th>coordinates</th>\n",
       "      <th>retweeted_status</th>\n",
       "      <th>created_at</th>\n",
       "      <th>content</th>\n",
       "      <th>from_user_screen_name</th>\n",
       "      <th>from_user_id</th>\n",
       "      <th>from_user_followers_count</th>\n",
       "      <th>from_user_friends_count</th>\n",
       "      <th>from_user_listed_count</th>\n",
       "      <th>from_user_statuses_count</th>\n",
       "      <th>from_user_description</th>\n",
       "      <th>from_user_location</th>\n",
       "      <th>from_user_created_at</th>\n",
       "      <th>retweet_count</th>\n",
       "      <th>entities_urls</th>\n",
       "      <th>entities_urls_count</th>\n",
       "      <th>entities_hashtags</th>\n",
       "      <th>entities_hashtags_count</th>\n",
       "      <th>entities_mentions</th>\n",
       "      <th>entities_mentions_count</th>\n",
       "      <th>in_reply_to_screen_name</th>\n",
       "      <th>in_reply_to_status_id</th>\n",
       "      <th>source</th>\n",
       "      <th>entities_expanded_urls</th>\n",
       "      <th>json_output</th>\n",
       "      <th>entities_media_count</th>\n",
       "      <th>media_expanded_url</th>\n",
       "      <th>media_url</th>\n",
       "      <th>media_type</th>\n",
       "      <th>video_link</th>\n",
       "      <th>photo_link</th>\n",
       "      <th>twitpic</th>\n",
       "      <th>mtot</th>\n",
       "      <th>exception_mag</th>\n",
       "      <th>kauffman</th>\n",
       "      <th>retweet_dummy</th>\n",
       "      <th>mention_dummy</th>\n",
       "      <th>url_dummy</th>\n",
       "      <th>weekday</th>\n",
       "      <th>monday</th>\n",
       "      <th>tuesday</th>\n",
       "      <th>wednesday</th>\n",
       "      <th>thursday</th>\n",
       "      <th>friday</th>\n",
       "      <th>saturday</th>\n",
       "      <th>sunday</th>\n",
       "    </tr>\n",
       "    <tr>\n",
       "      <th>created_at_text</th>\n",
       "      <th></th>\n",
       "      <th></th>\n",
       "      <th></th>\n",
       "      <th></th>\n",
       "      <th></th>\n",
       "      <th></th>\n",
       "      <th></th>\n",
       "      <th></th>\n",
       "      <th></th>\n",
       "      <th></th>\n",
       "      <th></th>\n",
       "      <th></th>\n",
       "      <th></th>\n",
       "      <th></th>\n",
       "      <th></th>\n",
       "      <th></th>\n",
       "      <th></th>\n",
       "      <th></th>\n",
       "      <th></th>\n",
       "      <th></th>\n",
       "      <th></th>\n",
       "      <th></th>\n",
       "      <th></th>\n",
       "      <th></th>\n",
       "      <th></th>\n",
       "      <th></th>\n",
       "      <th></th>\n",
       "      <th></th>\n",
       "      <th></th>\n",
       "      <th></th>\n",
       "      <th></th>\n",
       "      <th></th>\n",
       "      <th></th>\n",
       "      <th></th>\n",
       "      <th></th>\n",
       "      <th></th>\n",
       "      <th></th>\n",
       "      <th></th>\n",
       "      <th></th>\n",
       "      <th></th>\n",
       "      <th></th>\n",
       "      <th></th>\n",
       "      <th></th>\n",
       "      <th></th>\n",
       "      <th></th>\n",
       "      <th></th>\n",
       "      <th></th>\n",
       "      <th></th>\n",
       "      <th></th>\n",
       "      <th></th>\n",
       "      <th></th>\n",
       "      <th></th>\n",
       "      <th></th>\n",
       "    </tr>\n",
       "  </thead>\n",
       "  <tbody>\n",
       "    <tr>\n",
       "      <th>2017-04-21 04:21:17</th>\n",
       "      <td>2555</td>\n",
       "      <td>%2523montanamoment</td>\n",
       "      <td>8.550000e+17</td>\n",
       "      <td>35:57.3</td>\n",
       "      <td>0</td>\n",
       "      <td>en</td>\n",
       "      <td>0.0</td>\n",
       "      <td>NaN</td>\n",
       "      <td>NaN</td>\n",
       "      <td>21:17.0</td>\n",
       "      <td>The night sky is a fascinating place especiall...</td>\n",
       "      <td>LeonKauffman</td>\n",
       "      <td>425125748.0</td>\n",
       "      <td>673</td>\n",
       "      <td>152</td>\n",
       "      <td>39</td>\n",
       "      <td>1616</td>\n",
       "      <td>Hydrologist, photographer, fan of Drexel baske...</td>\n",
       "      <td>Condon, Montana, USA</td>\n",
       "      <td>Wed Nov 30 15:58:25 +0000 2011</td>\n",
       "      <td>4</td>\n",
       "      <td>NaN</td>\n",
       "      <td>0</td>\n",
       "      <td>MontanaMoment</td>\n",
       "      <td>1</td>\n",
       "      <td>NaN</td>\n",
       "      <td>0</td>\n",
       "      <td>NaN</td>\n",
       "      <td>NaN</td>\n",
       "      <td>&lt;a href=\"https://about.twitter.com/products/tw...</td>\n",
       "      <td>NaN</td>\n",
       "      <td>{u'contributors': None, u'truncated': False, u...</td>\n",
       "      <td>1.0</td>\n",
       "      <td>https://twitter.com/LeonKauffman/status/855275...</td>\n",
       "      <td>http://pbs.twimg.com/media/C96LaxcUQAEMOQl.jpg</td>\n",
       "      <td>photo</td>\n",
       "      <td>0</td>\n",
       "      <td>0</td>\n",
       "      <td>0</td>\n",
       "      <td>0</td>\n",
       "      <td>0</td>\n",
       "      <td>1</td>\n",
       "      <td>1</td>\n",
       "      <td>0</td>\n",
       "      <td>0</td>\n",
       "      <td>4</td>\n",
       "      <td>0</td>\n",
       "      <td>0</td>\n",
       "      <td>0</td>\n",
       "      <td>0</td>\n",
       "      <td>1</td>\n",
       "      <td>0</td>\n",
       "      <td>0</td>\n",
       "    </tr>\n",
       "  </tbody>\n",
       "</table>\n",
       "</div>"
      ],
      "text/plain": [
       "                       id         hash_select      tweet_id inserted_date  \\\n",
       "created_at_text                                                             \n",
       "2017-04-21 04:21:17  2555  %2523montanamoment  8.550000e+17       35:57.3   \n",
       "\n",
       "                     truncated language  possibly_sensitive coordinates  \\\n",
       "created_at_text                                                           \n",
       "2017-04-21 04:21:17          0       en                 0.0         NaN   \n",
       "\n",
       "                    retweeted_status created_at  \\\n",
       "created_at_text                                   \n",
       "2017-04-21 04:21:17              NaN    21:17.0   \n",
       "\n",
       "                                                               content  \\\n",
       "created_at_text                                                          \n",
       "2017-04-21 04:21:17  The night sky is a fascinating place especiall...   \n",
       "\n",
       "                    from_user_screen_name  from_user_id  \\\n",
       "created_at_text                                           \n",
       "2017-04-21 04:21:17          LeonKauffman   425125748.0   \n",
       "\n",
       "                     from_user_followers_count  from_user_friends_count  \\\n",
       "created_at_text                                                           \n",
       "2017-04-21 04:21:17                        673                      152   \n",
       "\n",
       "                     from_user_listed_count  from_user_statuses_count  \\\n",
       "created_at_text                                                         \n",
       "2017-04-21 04:21:17                      39                      1616   \n",
       "\n",
       "                                                 from_user_description  \\\n",
       "created_at_text                                                          \n",
       "2017-04-21 04:21:17  Hydrologist, photographer, fan of Drexel baske...   \n",
       "\n",
       "                       from_user_location            from_user_created_at  \\\n",
       "created_at_text                                                             \n",
       "2017-04-21 04:21:17  Condon, Montana, USA  Wed Nov 30 15:58:25 +0000 2011   \n",
       "\n",
       "                     retweet_count entities_urls  entities_urls_count  \\\n",
       "created_at_text                                                         \n",
       "2017-04-21 04:21:17              4           NaN                    0   \n",
       "\n",
       "                    entities_hashtags  entities_hashtags_count  \\\n",
       "created_at_text                                                  \n",
       "2017-04-21 04:21:17     MontanaMoment                        1   \n",
       "\n",
       "                    entities_mentions  entities_mentions_count  \\\n",
       "created_at_text                                                  \n",
       "2017-04-21 04:21:17               NaN                        0   \n",
       "\n",
       "                    in_reply_to_screen_name  in_reply_to_status_id  \\\n",
       "created_at_text                                                      \n",
       "2017-04-21 04:21:17                     NaN                    NaN   \n",
       "\n",
       "                                                                source  \\\n",
       "created_at_text                                                          \n",
       "2017-04-21 04:21:17  <a href=\"https://about.twitter.com/products/tw...   \n",
       "\n",
       "                    entities_expanded_urls  \\\n",
       "created_at_text                              \n",
       "2017-04-21 04:21:17                    NaN   \n",
       "\n",
       "                                                           json_output  \\\n",
       "created_at_text                                                          \n",
       "2017-04-21 04:21:17  {u'contributors': None, u'truncated': False, u...   \n",
       "\n",
       "                     entities_media_count  \\\n",
       "created_at_text                             \n",
       "2017-04-21 04:21:17                   1.0   \n",
       "\n",
       "                                                    media_expanded_url  \\\n",
       "created_at_text                                                          \n",
       "2017-04-21 04:21:17  https://twitter.com/LeonKauffman/status/855275...   \n",
       "\n",
       "                                                          media_url  \\\n",
       "created_at_text                                                       \n",
       "2017-04-21 04:21:17  http://pbs.twimg.com/media/C96LaxcUQAEMOQl.jpg   \n",
       "\n",
       "                    media_type  video_link  photo_link  twitpic  mtot  \\\n",
       "created_at_text                                                         \n",
       "2017-04-21 04:21:17      photo           0           0        0     0   \n",
       "\n",
       "                     exception_mag  kauffman  retweet_dummy  mention_dummy  \\\n",
       "created_at_text                                                              \n",
       "2017-04-21 04:21:17              0         1              1              0   \n",
       "\n",
       "                     url_dummy  weekday  monday  tuesday  wednesday  thursday  \\\n",
       "created_at_text                                                                 \n",
       "2017-04-21 04:21:17          0        4       0        0          0         0   \n",
       "\n",
       "                     friday  saturday  sunday  \n",
       "created_at_text                                \n",
       "2017-04-21 04:21:17       1         0       0  "
      ]
     },
     "execution_count": 50,
     "metadata": {},
     "output_type": "execute_result"
    }
   ],
   "source": [
    "df = df.rename(columns={0: 'monday', 1: 'tuesday', 2: 'wednesday', 3: 'thursday', 4: 'friday', 5: 'saturday', 6: 'sunday'})\n",
    "print len(df.columns)\n",
    "df.head(1)"
   ]
  },
  {
   "cell_type": "code",
   "execution_count": 51,
   "metadata": {
    "collapsed": false
   },
   "outputs": [
    {
     "data": {
      "text/plain": [
       "2187"
      ]
     },
     "execution_count": 51,
     "metadata": {},
     "output_type": "execute_result"
    }
   ],
   "source": [
    "len(df)"
   ]
  },
  {
   "cell_type": "markdown",
   "metadata": {},
   "source": [
    "<h2> By period of day: Morn, Day, Even, Night</h2>\n",
    "<br>\n",
    "<br>\n",
    ">As discussed in the paper, while the Twitter timestamp is in UTC, we'll use local (Mountain) time for the analysis. Since we're dividing the day into four blocks of six hours and have to account for a six hour time difference, we'll just code the variables so that each lags the UTC time by one category. In other words, what would be `night` in UTC will be `evening` in local time.\n",
    "<br>"
   ]
  },
  {
   "cell_type": "code",
   "execution_count": 52,
   "metadata": {
    "collapsed": false
   },
   "outputs": [
    {
     "data": {
      "text/plain": [
       "count    2187.000000\n",
       "mean       12.089163\n",
       "std         7.495400\n",
       "min         0.000000\n",
       "25%         4.000000\n",
       "50%        14.000000\n",
       "75%        18.000000\n",
       "max        23.000000\n",
       "Name: hour, dtype: float64"
      ]
     },
     "execution_count": 52,
     "metadata": {},
     "output_type": "execute_result"
    }
   ],
   "source": [
    "df['hour'] = df.index.hour # create a variable whose value equals the hour in which a tweet was sent\n",
    "df.hour.describe()"
   ]
  },
  {
   "cell_type": "code",
   "execution_count": 53,
   "metadata": {
    "collapsed": false
   },
   "outputs": [
    {
     "data": {
      "text/plain": [
       "2187"
      ]
     },
     "execution_count": 53,
     "metadata": {},
     "output_type": "execute_result"
    }
   ],
   "source": [
    "len(df)"
   ]
  },
  {
   "cell_type": "markdown",
   "metadata": {},
   "source": [
    "><h3> Evening Variable</h3>"
   ]
  },
  {
   "cell_type": "code",
   "execution_count": 54,
   "metadata": {
    "collapsed": false
   },
   "outputs": [],
   "source": [
    "# assign to the var evening the value 1 if the hour is between (and including) 0 and 5, assign 0 otherwise\n",
    "# This accounts for the difference between UTC & local time (-6 hours. As a UTC variable, this would be 'night')\n",
    "df['evening'] = np.where((df['hour'] >= 0) & (df['hour'] <= 5), 1, 0)"
   ]
  },
  {
   "cell_type": "code",
   "execution_count": 55,
   "metadata": {
    "collapsed": false
   },
   "outputs": [
    {
     "data": {
      "text/plain": [
       "count    2187.000000\n",
       "mean        0.307270\n",
       "std         0.461473\n",
       "min         0.000000\n",
       "25%         0.000000\n",
       "50%         0.000000\n",
       "75%         1.000000\n",
       "max         1.000000\n",
       "Name: evening, dtype: float64"
      ]
     },
     "execution_count": 55,
     "metadata": {},
     "output_type": "execute_result"
    }
   ],
   "source": [
    "df.evening.describe()"
   ]
  },
  {
   "cell_type": "code",
   "execution_count": 56,
   "metadata": {
    "collapsed": false
   },
   "outputs": [
    {
     "data": {
      "text/html": [
       "<div>\n",
       "<table border=\"1\" class=\"dataframe\">\n",
       "  <thead>\n",
       "    <tr style=\"text-align: right;\">\n",
       "      <th>evening</th>\n",
       "      <th>0</th>\n",
       "      <th>1</th>\n",
       "    </tr>\n",
       "    <tr>\n",
       "      <th>hour</th>\n",
       "      <th></th>\n",
       "      <th></th>\n",
       "    </tr>\n",
       "  </thead>\n",
       "  <tbody>\n",
       "    <tr>\n",
       "      <th>False</th>\n",
       "      <td>0</td>\n",
       "      <td>672</td>\n",
       "    </tr>\n",
       "    <tr>\n",
       "      <th>True</th>\n",
       "      <td>1515</td>\n",
       "      <td>0</td>\n",
       "    </tr>\n",
       "  </tbody>\n",
       "</table>\n",
       "</div>"
      ],
      "text/plain": [
       "evening     0    1\n",
       "hour              \n",
       "False       0  672\n",
       "True     1515    0"
      ]
     },
     "execution_count": 56,
     "metadata": {},
     "output_type": "execute_result"
    }
   ],
   "source": [
    "# zero cases of evening when hour > 5, 672 cases when hour < 5 (False)\n",
    "pd.crosstab(df['hour']>5, df['evening'])"
   ]
  },
  {
   "cell_type": "code",
   "execution_count": 57,
   "metadata": {
    "collapsed": false
   },
   "outputs": [
    {
     "data": {
      "text/html": [
       "<div>\n",
       "<table border=\"1\" class=\"dataframe\">\n",
       "  <thead>\n",
       "    <tr style=\"text-align: right;\">\n",
       "      <th></th>\n",
       "      <th>hour</th>\n",
       "      <th>evening</th>\n",
       "    </tr>\n",
       "    <tr>\n",
       "      <th>created_at_text</th>\n",
       "      <th></th>\n",
       "      <th></th>\n",
       "    </tr>\n",
       "  </thead>\n",
       "  <tbody>\n",
       "    <tr>\n",
       "      <th>2017-04-21 04:21:17</th>\n",
       "      <td>4</td>\n",
       "      <td>1</td>\n",
       "    </tr>\n",
       "    <tr>\n",
       "      <th>2017-04-21 03:15:27</th>\n",
       "      <td>3</td>\n",
       "      <td>1</td>\n",
       "    </tr>\n",
       "    <tr>\n",
       "      <th>2017-04-21 03:15:25</th>\n",
       "      <td>3</td>\n",
       "      <td>1</td>\n",
       "    </tr>\n",
       "    <tr>\n",
       "      <th>2017-04-20 23:42:12</th>\n",
       "      <td>23</td>\n",
       "      <td>0</td>\n",
       "    </tr>\n",
       "    <tr>\n",
       "      <th>2017-04-20 23:26:55</th>\n",
       "      <td>23</td>\n",
       "      <td>0</td>\n",
       "    </tr>\n",
       "  </tbody>\n",
       "</table>\n",
       "</div>"
      ],
      "text/plain": [
       "                     hour  evening\n",
       "created_at_text                   \n",
       "2017-04-21 04:21:17     4        1\n",
       "2017-04-21 03:15:27     3        1\n",
       "2017-04-21 03:15:25     3        1\n",
       "2017-04-20 23:42:12    23        0\n",
       "2017-04-20 23:26:55    23        0"
      ]
     },
     "execution_count": 57,
     "metadata": {},
     "output_type": "execute_result"
    }
   ],
   "source": [
    "df[['hour', 'evening']].head(5)"
   ]
  },
  {
   "cell_type": "markdown",
   "metadata": {},
   "source": [
    "><h3>Night variable</h3>"
   ]
  },
  {
   "cell_type": "code",
   "execution_count": 58,
   "metadata": {
    "collapsed": true
   },
   "outputs": [],
   "source": [
    "# assign to the var night the value 1 if the hour is between (and including) 6am and 11am, assign 0 otherwise\n",
    "# again, this accounts for the difference between UTC & local time. As a UTC variable, this would be 'morning'\n",
    "df['night'] = np.where((df['hour'] >= 6) & (df['hour'] <= 11), 1, 0)\n"
   ]
  },
  {
   "cell_type": "code",
   "execution_count": 59,
   "metadata": {
    "collapsed": false
   },
   "outputs": [
    {
     "name": "stdout",
     "output_type": "stream",
     "text": [
      "count    2187.000000\n",
      "mean        0.096479\n",
      "std         0.295314\n",
      "min         0.000000\n",
      "25%         0.000000\n",
      "50%         0.000000\n",
      "75%         0.000000\n",
      "max         1.000000\n",
      "Name: night, dtype: float64\n"
     ]
    }
   ],
   "source": [
    "print df.night.describe()"
   ]
  },
  {
   "cell_type": "code",
   "execution_count": 60,
   "metadata": {
    "collapsed": false
   },
   "outputs": [
    {
     "data": {
      "text/html": [
       "<div>\n",
       "<table border=\"1\" class=\"dataframe\">\n",
       "  <thead>\n",
       "    <tr style=\"text-align: right;\">\n",
       "      <th>night</th>\n",
       "      <th>0</th>\n",
       "      <th>1</th>\n",
       "    </tr>\n",
       "    <tr>\n",
       "      <th>hour</th>\n",
       "      <th></th>\n",
       "      <th></th>\n",
       "    </tr>\n",
       "  </thead>\n",
       "  <tbody>\n",
       "    <tr>\n",
       "      <th>False</th>\n",
       "      <td>0</td>\n",
       "      <td>211</td>\n",
       "    </tr>\n",
       "    <tr>\n",
       "      <th>True</th>\n",
       "      <td>1976</td>\n",
       "      <td>0</td>\n",
       "    </tr>\n",
       "  </tbody>\n",
       "</table>\n",
       "</div>"
      ],
      "text/plain": [
       "night     0    1\n",
       "hour            \n",
       "False     0  211\n",
       "True   1976    0"
      ]
     },
     "execution_count": 60,
     "metadata": {},
     "output_type": "execute_result"
    }
   ],
   "source": [
    "# night is only 1 when hour is less than six or greater than 11\n",
    "pd.crosstab((df['hour']< 6) | (df['hour'] >11), df['night'])"
   ]
  },
  {
   "cell_type": "markdown",
   "metadata": {},
   "source": [
    "><h3>Morning variable</h3>"
   ]
  },
  {
   "cell_type": "code",
   "execution_count": 61,
   "metadata": {
    "collapsed": true
   },
   "outputs": [],
   "source": [
    "# assign to the var morning the value 1 if the hour is between (and including) 12pm and 5pm, assign 0 otherwise\n",
    "df['morning'] = np.where((df['hour'] >= 12) & (df['hour'] <= 17), 1, 0)"
   ]
  },
  {
   "cell_type": "code",
   "execution_count": 62,
   "metadata": {
    "collapsed": false
   },
   "outputs": [
    {
     "data": {
      "text/plain": [
       "count    2187.000000\n",
       "mean        0.293553\n",
       "std         0.455493\n",
       "min         0.000000\n",
       "25%         0.000000\n",
       "50%         0.000000\n",
       "75%         1.000000\n",
       "max         1.000000\n",
       "Name: morning, dtype: float64"
      ]
     },
     "execution_count": 62,
     "metadata": {},
     "output_type": "execute_result"
    }
   ],
   "source": [
    "df.morning.describe()"
   ]
  },
  {
   "cell_type": "code",
   "execution_count": 63,
   "metadata": {
    "collapsed": false
   },
   "outputs": [
    {
     "data": {
      "text/html": [
       "<div>\n",
       "<table border=\"1\" class=\"dataframe\">\n",
       "  <thead>\n",
       "    <tr style=\"text-align: right;\">\n",
       "      <th>morning</th>\n",
       "      <th>0</th>\n",
       "      <th>1</th>\n",
       "    </tr>\n",
       "    <tr>\n",
       "      <th>hour</th>\n",
       "      <th></th>\n",
       "      <th></th>\n",
       "    </tr>\n",
       "  </thead>\n",
       "  <tbody>\n",
       "    <tr>\n",
       "      <th>False</th>\n",
       "      <td>0</td>\n",
       "      <td>642</td>\n",
       "    </tr>\n",
       "    <tr>\n",
       "      <th>True</th>\n",
       "      <td>1545</td>\n",
       "      <td>0</td>\n",
       "    </tr>\n",
       "  </tbody>\n",
       "</table>\n",
       "</div>"
      ],
      "text/plain": [
       "morning     0    1\n",
       "hour              \n",
       "False       0  642\n",
       "True     1545    0"
      ]
     },
     "execution_count": 63,
     "metadata": {},
     "output_type": "execute_result"
    }
   ],
   "source": [
    "# morning is only 1 when hour is less than 12 or greater than 17 (5pm)\n",
    "pd.crosstab((df['hour']< 12) | (df['hour'] >17), df['morning'])"
   ]
  },
  {
   "cell_type": "markdown",
   "metadata": {},
   "source": [
    ">### Day variable"
   ]
  },
  {
   "cell_type": "code",
   "execution_count": 64,
   "metadata": {
    "collapsed": true
   },
   "outputs": [],
   "source": [
    "# assign to the var day the value 1 if the hour is greater than 18 (6pm), assign 0 otherwise (hour var goes up to 23, 11pm)\n",
    "df['day'] = np.where((df['hour'] >= 18), 1, 0)"
   ]
  },
  {
   "cell_type": "code",
   "execution_count": 65,
   "metadata": {
    "collapsed": false
   },
   "outputs": [
    {
     "data": {
      "text/plain": [
       "count    2187.000000\n",
       "mean        0.302698\n",
       "std         0.459529\n",
       "min         0.000000\n",
       "25%         0.000000\n",
       "50%         0.000000\n",
       "75%         1.000000\n",
       "max         1.000000\n",
       "Name: day, dtype: float64"
      ]
     },
     "execution_count": 65,
     "metadata": {},
     "output_type": "execute_result"
    }
   ],
   "source": [
    "df.day.describe()"
   ]
  },
  {
   "cell_type": "code",
   "execution_count": 66,
   "metadata": {
    "collapsed": false
   },
   "outputs": [
    {
     "data": {
      "text/html": [
       "<div>\n",
       "<table border=\"1\" class=\"dataframe\">\n",
       "  <thead>\n",
       "    <tr style=\"text-align: right;\">\n",
       "      <th>day</th>\n",
       "      <th>0</th>\n",
       "      <th>1</th>\n",
       "    </tr>\n",
       "    <tr>\n",
       "      <th>hour</th>\n",
       "      <th></th>\n",
       "      <th></th>\n",
       "    </tr>\n",
       "  </thead>\n",
       "  <tbody>\n",
       "    <tr>\n",
       "      <th>False</th>\n",
       "      <td>0</td>\n",
       "      <td>662</td>\n",
       "    </tr>\n",
       "    <tr>\n",
       "      <th>True</th>\n",
       "      <td>1525</td>\n",
       "      <td>0</td>\n",
       "    </tr>\n",
       "  </tbody>\n",
       "</table>\n",
       "</div>"
      ],
      "text/plain": [
       "day       0    1\n",
       "hour            \n",
       "False     0  662\n",
       "True   1525    0"
      ]
     },
     "execution_count": 66,
     "metadata": {},
     "output_type": "execute_result"
    }
   ],
   "source": [
    "# day is only 1 when hour is less than 12 or greater than 17 (5pm)\n",
    "pd.crosstab((df['hour'] < 18), df['day'])"
   ]
  },
  {
   "cell_type": "code",
   "execution_count": 67,
   "metadata": {
    "collapsed": false
   },
   "outputs": [
    {
     "data": {
      "text/html": [
       "<div>\n",
       "<table border=\"1\" class=\"dataframe\">\n",
       "  <thead>\n",
       "    <tr style=\"text-align: right;\">\n",
       "      <th></th>\n",
       "      <th>morning</th>\n",
       "      <th>day</th>\n",
       "      <th>evening</th>\n",
       "      <th>night</th>\n",
       "    </tr>\n",
       "    <tr>\n",
       "      <th>created_at_text</th>\n",
       "      <th></th>\n",
       "      <th></th>\n",
       "      <th></th>\n",
       "      <th></th>\n",
       "    </tr>\n",
       "  </thead>\n",
       "  <tbody>\n",
       "    <tr>\n",
       "      <th>2017-04-21 04:21:17</th>\n",
       "      <td>0</td>\n",
       "      <td>0</td>\n",
       "      <td>1</td>\n",
       "      <td>0</td>\n",
       "    </tr>\n",
       "    <tr>\n",
       "      <th>2017-04-21 03:15:27</th>\n",
       "      <td>0</td>\n",
       "      <td>0</td>\n",
       "      <td>1</td>\n",
       "      <td>0</td>\n",
       "    </tr>\n",
       "    <tr>\n",
       "      <th>2017-04-21 03:15:25</th>\n",
       "      <td>0</td>\n",
       "      <td>0</td>\n",
       "      <td>1</td>\n",
       "      <td>0</td>\n",
       "    </tr>\n",
       "  </tbody>\n",
       "</table>\n",
       "</div>"
      ],
      "text/plain": [
       "                     morning  day  evening  night\n",
       "created_at_text                                  \n",
       "2017-04-21 04:21:17        0    0        1      0\n",
       "2017-04-21 03:15:27        0    0        1      0\n",
       "2017-04-21 03:15:25        0    0        1      0"
      ]
     },
     "execution_count": 67,
     "metadata": {},
     "output_type": "execute_result"
    }
   ],
   "source": [
    "df[['morning', 'day', 'evening', 'night']].head(3)"
   ]
  },
  {
   "cell_type": "code",
   "execution_count": 68,
   "metadata": {
    "collapsed": false
   },
   "outputs": [
    {
     "name": "stdout",
     "output_type": "stream",
     "text": [
      "2187\n",
      "58\n"
     ]
    }
   ],
   "source": [
    "print len(df)\n",
    "print len(df.columns)"
   ]
  },
  {
   "cell_type": "markdown",
   "metadata": {},
   "source": [
    "# Standardize variables\n"
   ]
  },
  {
   "cell_type": "code",
   "execution_count": 69,
   "metadata": {
    "collapsed": true
   },
   "outputs": [],
   "source": [
    "# now that we're done making time-dependent variables, we'll shift the index back to the tweet-level"
   ]
  },
  {
   "cell_type": "code",
   "execution_count": 70,
   "metadata": {
    "collapsed": true
   },
   "outputs": [],
   "source": [
    "df = df.set_index(['from_user_screen_name'])"
   ]
  },
  {
   "cell_type": "code",
   "execution_count": 71,
   "metadata": {
    "collapsed": false
   },
   "outputs": [
    {
     "name": "stdout",
     "output_type": "stream",
     "text": [
      "1869 tweets\n",
      "23\n"
     ]
    },
    {
     "data": {
      "text/html": [
       "<div>\n",
       "<table border=\"1\" class=\"dataframe\">\n",
       "  <thead>\n",
       "    <tr style=\"text-align: right;\">\n",
       "      <th></th>\n",
       "      <th>retweet_count</th>\n",
       "      <th>retweet_dummy</th>\n",
       "      <th>mtot</th>\n",
       "      <th>exception_mag</th>\n",
       "      <th>kauffman</th>\n",
       "      <th>mention_dummy</th>\n",
       "      <th>url_dummy</th>\n",
       "      <th>monday</th>\n",
       "      <th>tuesday</th>\n",
       "      <th>wednesday</th>\n",
       "      <th>thursday</th>\n",
       "      <th>friday</th>\n",
       "      <th>saturday</th>\n",
       "      <th>sunday</th>\n",
       "      <th>morning</th>\n",
       "      <th>day</th>\n",
       "      <th>evening</th>\n",
       "      <th>night</th>\n",
       "      <th>from_user_followers_count</th>\n",
       "      <th>from_user_friends_count</th>\n",
       "      <th>from_user_listed_count</th>\n",
       "      <th>from_user_statuses_count</th>\n",
       "      <th>entities_mentions_count</th>\n",
       "    </tr>\n",
       "    <tr>\n",
       "      <th>from_user_screen_name</th>\n",
       "      <th></th>\n",
       "      <th></th>\n",
       "      <th></th>\n",
       "      <th></th>\n",
       "      <th></th>\n",
       "      <th></th>\n",
       "      <th></th>\n",
       "      <th></th>\n",
       "      <th></th>\n",
       "      <th></th>\n",
       "      <th></th>\n",
       "      <th></th>\n",
       "      <th></th>\n",
       "      <th></th>\n",
       "      <th></th>\n",
       "      <th></th>\n",
       "      <th></th>\n",
       "      <th></th>\n",
       "      <th></th>\n",
       "      <th></th>\n",
       "      <th></th>\n",
       "      <th></th>\n",
       "      <th></th>\n",
       "    </tr>\n",
       "  </thead>\n",
       "  <tbody>\n",
       "    <tr>\n",
       "      <th>LeonKauffman</th>\n",
       "      <td>4</td>\n",
       "      <td>1</td>\n",
       "      <td>0</td>\n",
       "      <td>0</td>\n",
       "      <td>1</td>\n",
       "      <td>0</td>\n",
       "      <td>0</td>\n",
       "      <td>0</td>\n",
       "      <td>0</td>\n",
       "      <td>0</td>\n",
       "      <td>0</td>\n",
       "      <td>1</td>\n",
       "      <td>0</td>\n",
       "      <td>0</td>\n",
       "      <td>0</td>\n",
       "      <td>0</td>\n",
       "      <td>1</td>\n",
       "      <td>0</td>\n",
       "      <td>673</td>\n",
       "      <td>152</td>\n",
       "      <td>39</td>\n",
       "      <td>1616</td>\n",
       "      <td>0</td>\n",
       "    </tr>\n",
       "    <tr>\n",
       "      <th>ErinWx</th>\n",
       "      <td>0</td>\n",
       "      <td>0</td>\n",
       "      <td>0</td>\n",
       "      <td>0</td>\n",
       "      <td>0</td>\n",
       "      <td>0</td>\n",
       "      <td>0</td>\n",
       "      <td>0</td>\n",
       "      <td>0</td>\n",
       "      <td>0</td>\n",
       "      <td>0</td>\n",
       "      <td>1</td>\n",
       "      <td>0</td>\n",
       "      <td>0</td>\n",
       "      <td>0</td>\n",
       "      <td>0</td>\n",
       "      <td>1</td>\n",
       "      <td>0</td>\n",
       "      <td>632</td>\n",
       "      <td>243</td>\n",
       "      <td>47</td>\n",
       "      <td>10327</td>\n",
       "      <td>0</td>\n",
       "    </tr>\n",
       "    <tr>\n",
       "      <th>wxmissoula</th>\n",
       "      <td>0</td>\n",
       "      <td>0</td>\n",
       "      <td>0</td>\n",
       "      <td>0</td>\n",
       "      <td>0</td>\n",
       "      <td>0</td>\n",
       "      <td>0</td>\n",
       "      <td>0</td>\n",
       "      <td>0</td>\n",
       "      <td>0</td>\n",
       "      <td>0</td>\n",
       "      <td>1</td>\n",
       "      <td>0</td>\n",
       "      <td>0</td>\n",
       "      <td>0</td>\n",
       "      <td>0</td>\n",
       "      <td>1</td>\n",
       "      <td>0</td>\n",
       "      <td>1550</td>\n",
       "      <td>6</td>\n",
       "      <td>55</td>\n",
       "      <td>10450</td>\n",
       "      <td>0</td>\n",
       "    </tr>\n",
       "    <tr>\n",
       "      <th>lastbestbox</th>\n",
       "      <td>0</td>\n",
       "      <td>0</td>\n",
       "      <td>0</td>\n",
       "      <td>0</td>\n",
       "      <td>0</td>\n",
       "      <td>0</td>\n",
       "      <td>1</td>\n",
       "      <td>0</td>\n",
       "      <td>0</td>\n",
       "      <td>0</td>\n",
       "      <td>1</td>\n",
       "      <td>0</td>\n",
       "      <td>0</td>\n",
       "      <td>0</td>\n",
       "      <td>0</td>\n",
       "      <td>1</td>\n",
       "      <td>0</td>\n",
       "      <td>0</td>\n",
       "      <td>186</td>\n",
       "      <td>741</td>\n",
       "      <td>4</td>\n",
       "      <td>284</td>\n",
       "      <td>0</td>\n",
       "    </tr>\n",
       "    <tr>\n",
       "      <th>ShannonAMay</th>\n",
       "      <td>0</td>\n",
       "      <td>0</td>\n",
       "      <td>0</td>\n",
       "      <td>0</td>\n",
       "      <td>0</td>\n",
       "      <td>1</td>\n",
       "      <td>0</td>\n",
       "      <td>0</td>\n",
       "      <td>0</td>\n",
       "      <td>0</td>\n",
       "      <td>1</td>\n",
       "      <td>0</td>\n",
       "      <td>0</td>\n",
       "      <td>0</td>\n",
       "      <td>0</td>\n",
       "      <td>1</td>\n",
       "      <td>0</td>\n",
       "      <td>0</td>\n",
       "      <td>1128</td>\n",
       "      <td>766</td>\n",
       "      <td>80</td>\n",
       "      <td>11938</td>\n",
       "      <td>1</td>\n",
       "    </tr>\n",
       "    <tr>\n",
       "      <th>UNLV_Sage</th>\n",
       "      <td>0</td>\n",
       "      <td>0</td>\n",
       "      <td>0</td>\n",
       "      <td>0</td>\n",
       "      <td>0</td>\n",
       "      <td>0</td>\n",
       "      <td>1</td>\n",
       "      <td>0</td>\n",
       "      <td>0</td>\n",
       "      <td>0</td>\n",
       "      <td>1</td>\n",
       "      <td>0</td>\n",
       "      <td>0</td>\n",
       "      <td>0</td>\n",
       "      <td>0</td>\n",
       "      <td>1</td>\n",
       "      <td>0</td>\n",
       "      <td>0</td>\n",
       "      <td>1009</td>\n",
       "      <td>2089</td>\n",
       "      <td>21</td>\n",
       "      <td>3447</td>\n",
       "      <td>0</td>\n",
       "    </tr>\n",
       "    <tr>\n",
       "      <th>RMKK</th>\n",
       "      <td>1</td>\n",
       "      <td>1</td>\n",
       "      <td>0</td>\n",
       "      <td>0</td>\n",
       "      <td>0</td>\n",
       "      <td>0</td>\n",
       "      <td>1</td>\n",
       "      <td>0</td>\n",
       "      <td>0</td>\n",
       "      <td>0</td>\n",
       "      <td>1</td>\n",
       "      <td>0</td>\n",
       "      <td>0</td>\n",
       "      <td>0</td>\n",
       "      <td>0</td>\n",
       "      <td>1</td>\n",
       "      <td>0</td>\n",
       "      <td>0</td>\n",
       "      <td>217</td>\n",
       "      <td>98</td>\n",
       "      <td>20</td>\n",
       "      <td>4280</td>\n",
       "      <td>0</td>\n",
       "    </tr>\n",
       "    <tr>\n",
       "      <th>ShannonAMay</th>\n",
       "      <td>0</td>\n",
       "      <td>0</td>\n",
       "      <td>0</td>\n",
       "      <td>0</td>\n",
       "      <td>0</td>\n",
       "      <td>1</td>\n",
       "      <td>0</td>\n",
       "      <td>0</td>\n",
       "      <td>0</td>\n",
       "      <td>0</td>\n",
       "      <td>1</td>\n",
       "      <td>0</td>\n",
       "      <td>0</td>\n",
       "      <td>0</td>\n",
       "      <td>1</td>\n",
       "      <td>0</td>\n",
       "      <td>0</td>\n",
       "      <td>0</td>\n",
       "      <td>1128</td>\n",
       "      <td>766</td>\n",
       "      <td>80</td>\n",
       "      <td>11938</td>\n",
       "      <td>1</td>\n",
       "    </tr>\n",
       "    <tr>\n",
       "      <th>CWPsPhotos</th>\n",
       "      <td>0</td>\n",
       "      <td>0</td>\n",
       "      <td>0</td>\n",
       "      <td>0</td>\n",
       "      <td>0</td>\n",
       "      <td>0</td>\n",
       "      <td>1</td>\n",
       "      <td>0</td>\n",
       "      <td>0</td>\n",
       "      <td>0</td>\n",
       "      <td>1</td>\n",
       "      <td>0</td>\n",
       "      <td>0</td>\n",
       "      <td>0</td>\n",
       "      <td>1</td>\n",
       "      <td>0</td>\n",
       "      <td>0</td>\n",
       "      <td>0</td>\n",
       "      <td>384</td>\n",
       "      <td>552</td>\n",
       "      <td>41</td>\n",
       "      <td>680</td>\n",
       "      <td>0</td>\n",
       "    </tr>\n",
       "    <tr>\n",
       "      <th>visitmontana</th>\n",
       "      <td>26</td>\n",
       "      <td>1</td>\n",
       "      <td>1</td>\n",
       "      <td>0</td>\n",
       "      <td>0</td>\n",
       "      <td>0</td>\n",
       "      <td>1</td>\n",
       "      <td>0</td>\n",
       "      <td>0</td>\n",
       "      <td>0</td>\n",
       "      <td>1</td>\n",
       "      <td>0</td>\n",
       "      <td>0</td>\n",
       "      <td>0</td>\n",
       "      <td>1</td>\n",
       "      <td>0</td>\n",
       "      <td>0</td>\n",
       "      <td>0</td>\n",
       "      <td>59595</td>\n",
       "      <td>329</td>\n",
       "      <td>738</td>\n",
       "      <td>11502</td>\n",
       "      <td>0</td>\n",
       "    </tr>\n",
       "  </tbody>\n",
       "</table>\n",
       "</div>"
      ],
      "text/plain": [
       "                       retweet_count  retweet_dummy  mtot  exception_mag  \\\n",
       "from_user_screen_name                                                      \n",
       "LeonKauffman                       4              1     0              0   \n",
       "ErinWx                             0              0     0              0   \n",
       "wxmissoula                         0              0     0              0   \n",
       "lastbestbox                        0              0     0              0   \n",
       "ShannonAMay                        0              0     0              0   \n",
       "UNLV_Sage                          0              0     0              0   \n",
       "RMKK                               1              1     0              0   \n",
       "ShannonAMay                        0              0     0              0   \n",
       "CWPsPhotos                         0              0     0              0   \n",
       "visitmontana                      26              1     1              0   \n",
       "\n",
       "                       kauffman  mention_dummy  url_dummy  monday  tuesday  \\\n",
       "from_user_screen_name                                                        \n",
       "LeonKauffman                  1              0          0       0        0   \n",
       "ErinWx                        0              0          0       0        0   \n",
       "wxmissoula                    0              0          0       0        0   \n",
       "lastbestbox                   0              0          1       0        0   \n",
       "ShannonAMay                   0              1          0       0        0   \n",
       "UNLV_Sage                     0              0          1       0        0   \n",
       "RMKK                          0              0          1       0        0   \n",
       "ShannonAMay                   0              1          0       0        0   \n",
       "CWPsPhotos                    0              0          1       0        0   \n",
       "visitmontana                  0              0          1       0        0   \n",
       "\n",
       "                       wednesday  thursday  friday  saturday  sunday  morning  \\\n",
       "from_user_screen_name                                                           \n",
       "LeonKauffman                   0         0       1         0       0        0   \n",
       "ErinWx                         0         0       1         0       0        0   \n",
       "wxmissoula                     0         0       1         0       0        0   \n",
       "lastbestbox                    0         1       0         0       0        0   \n",
       "ShannonAMay                    0         1       0         0       0        0   \n",
       "UNLV_Sage                      0         1       0         0       0        0   \n",
       "RMKK                           0         1       0         0       0        0   \n",
       "ShannonAMay                    0         1       0         0       0        1   \n",
       "CWPsPhotos                     0         1       0         0       0        1   \n",
       "visitmontana                   0         1       0         0       0        1   \n",
       "\n",
       "                       day  evening  night  from_user_followers_count  \\\n",
       "from_user_screen_name                                                   \n",
       "LeonKauffman             0        1      0                        673   \n",
       "ErinWx                   0        1      0                        632   \n",
       "wxmissoula               0        1      0                       1550   \n",
       "lastbestbox              1        0      0                        186   \n",
       "ShannonAMay              1        0      0                       1128   \n",
       "UNLV_Sage                1        0      0                       1009   \n",
       "RMKK                     1        0      0                        217   \n",
       "ShannonAMay              0        0      0                       1128   \n",
       "CWPsPhotos               0        0      0                        384   \n",
       "visitmontana             0        0      0                      59595   \n",
       "\n",
       "                       from_user_friends_count  from_user_listed_count  \\\n",
       "from_user_screen_name                                                    \n",
       "LeonKauffman                               152                      39   \n",
       "ErinWx                                     243                      47   \n",
       "wxmissoula                                   6                      55   \n",
       "lastbestbox                                741                       4   \n",
       "ShannonAMay                                766                      80   \n",
       "UNLV_Sage                                 2089                      21   \n",
       "RMKK                                        98                      20   \n",
       "ShannonAMay                                766                      80   \n",
       "CWPsPhotos                                 552                      41   \n",
       "visitmontana                               329                     738   \n",
       "\n",
       "                       from_user_statuses_count  entities_mentions_count  \n",
       "from_user_screen_name                                                     \n",
       "LeonKauffman                               1616                        0  \n",
       "ErinWx                                    10327                        0  \n",
       "wxmissoula                                10450                        0  \n",
       "lastbestbox                                 284                        0  \n",
       "ShannonAMay                               11938                        1  \n",
       "UNLV_Sage                                  3447                        0  \n",
       "RMKK                                       4280                        0  \n",
       "ShannonAMay                               11938                        1  \n",
       "CWPsPhotos                                  680                        0  \n",
       "visitmontana                              11502                        0  "
      ]
     },
     "execution_count": 71,
     "metadata": {},
     "output_type": "execute_result"
    }
   ],
   "source": [
    "# let's make a new df with the variables we'll be working with from now on\n",
    "df2 = df[['retweet_count','retweet_dummy', 'mtot', 'exception_mag', 'kauffman',  'mention_dummy', 'url_dummy', 'monday', 'tuesday', 'wednesday', 'thursday', 'friday', 'saturday', 'sunday', 'morning', 'day', 'evening', 'night', 'from_user_followers_count', 'from_user_friends_count', 'from_user_listed_count', 'from_user_statuses_count', 'entities_mentions_count']]\n",
    "df2 = df2[df2['exception_mag'] != 1]\n",
    "print len(df2), \"tweets\"\n",
    "print len(df2.columns)\n",
    "df2.head(10)"
   ]
  },
  {
   "cell_type": "code",
   "execution_count": 72,
   "metadata": {
    "collapsed": false
   },
   "outputs": [
    {
     "data": {
      "text/plain": [
       "retweet_count                   2.785447\n",
       "retweet_dummy                   0.356875\n",
       "mtot                            0.057785\n",
       "exception_mag                   0.000000\n",
       "kauffman                        0.054040\n",
       "mention_dummy                   0.177100\n",
       "url_dummy                       0.540396\n",
       "monday                          0.134831\n",
       "tuesday                         0.125736\n",
       "wednesday                       0.142857\n",
       "thursday                        0.153023\n",
       "friday                          0.149813\n",
       "saturday                        0.148208\n",
       "sunday                          0.145532\n",
       "morning                         0.299090\n",
       "day                             0.313002\n",
       "evening                         0.317817\n",
       "night                           0.070091\n",
       "from_user_followers_count    7928.935259\n",
       "from_user_friends_count      2176.244516\n",
       "from_user_listed_count        193.727662\n",
       "from_user_statuses_count     9238.946495\n",
       "entities_mentions_count         0.284109\n",
       "dtype: float64"
      ]
     },
     "execution_count": 72,
     "metadata": {},
     "output_type": "execute_result"
    }
   ],
   "source": [
    "# default axis is 0 (columns)\n",
    "df2.mean()"
   ]
  },
  {
   "cell_type": "code",
   "execution_count": 73,
   "metadata": {
    "collapsed": true
   },
   "outputs": [],
   "source": [
    "# df2.to_csv('aaa_test.csv', sep=',')"
   ]
  },
  {
   "cell_type": "code",
   "execution_count": 74,
   "metadata": {
    "collapsed": false
   },
   "outputs": [],
   "source": [
    "pd.set_option('display.float_format', lambda x: '%.2f' % x)"
   ]
  },
  {
   "cell_type": "code",
   "execution_count": 75,
   "metadata": {
    "collapsed": false
   },
   "outputs": [
    {
     "data": {
      "text/html": [
       "<div>\n",
       "<table border=\"1\" class=\"dataframe\">\n",
       "  <thead>\n",
       "    <tr style=\"text-align: right;\">\n",
       "      <th></th>\n",
       "      <th>count</th>\n",
       "      <th>mean</th>\n",
       "      <th>std</th>\n",
       "      <th>min</th>\n",
       "      <th>max</th>\n",
       "    </tr>\n",
       "  </thead>\n",
       "  <tbody>\n",
       "    <tr>\n",
       "      <th>retweet_count</th>\n",
       "      <td>1869.00</td>\n",
       "      <td>2.79</td>\n",
       "      <td>8.63</td>\n",
       "      <td>0.00</td>\n",
       "      <td>136.00</td>\n",
       "    </tr>\n",
       "    <tr>\n",
       "      <th>retweet_dummy</th>\n",
       "      <td>1869.00</td>\n",
       "      <td>0.36</td>\n",
       "      <td>0.48</td>\n",
       "      <td>0.00</td>\n",
       "      <td>1.00</td>\n",
       "    </tr>\n",
       "    <tr>\n",
       "      <th>mtot</th>\n",
       "      <td>1869.00</td>\n",
       "      <td>0.06</td>\n",
       "      <td>0.23</td>\n",
       "      <td>0.00</td>\n",
       "      <td>1.00</td>\n",
       "    </tr>\n",
       "    <tr>\n",
       "      <th>exception_mag</th>\n",
       "      <td>1869.00</td>\n",
       "      <td>0.00</td>\n",
       "      <td>0.00</td>\n",
       "      <td>0.00</td>\n",
       "      <td>0.00</td>\n",
       "    </tr>\n",
       "    <tr>\n",
       "      <th>kauffman</th>\n",
       "      <td>1869.00</td>\n",
       "      <td>0.05</td>\n",
       "      <td>0.23</td>\n",
       "      <td>0.00</td>\n",
       "      <td>1.00</td>\n",
       "    </tr>\n",
       "    <tr>\n",
       "      <th>mention_dummy</th>\n",
       "      <td>1869.00</td>\n",
       "      <td>0.18</td>\n",
       "      <td>0.38</td>\n",
       "      <td>0.00</td>\n",
       "      <td>1.00</td>\n",
       "    </tr>\n",
       "    <tr>\n",
       "      <th>url_dummy</th>\n",
       "      <td>1869.00</td>\n",
       "      <td>0.54</td>\n",
       "      <td>0.50</td>\n",
       "      <td>0.00</td>\n",
       "      <td>1.00</td>\n",
       "    </tr>\n",
       "    <tr>\n",
       "      <th>monday</th>\n",
       "      <td>1869.00</td>\n",
       "      <td>0.13</td>\n",
       "      <td>0.34</td>\n",
       "      <td>0.00</td>\n",
       "      <td>1.00</td>\n",
       "    </tr>\n",
       "    <tr>\n",
       "      <th>tuesday</th>\n",
       "      <td>1869.00</td>\n",
       "      <td>0.13</td>\n",
       "      <td>0.33</td>\n",
       "      <td>0.00</td>\n",
       "      <td>1.00</td>\n",
       "    </tr>\n",
       "    <tr>\n",
       "      <th>wednesday</th>\n",
       "      <td>1869.00</td>\n",
       "      <td>0.14</td>\n",
       "      <td>0.35</td>\n",
       "      <td>0.00</td>\n",
       "      <td>1.00</td>\n",
       "    </tr>\n",
       "    <tr>\n",
       "      <th>thursday</th>\n",
       "      <td>1869.00</td>\n",
       "      <td>0.15</td>\n",
       "      <td>0.36</td>\n",
       "      <td>0.00</td>\n",
       "      <td>1.00</td>\n",
       "    </tr>\n",
       "    <tr>\n",
       "      <th>friday</th>\n",
       "      <td>1869.00</td>\n",
       "      <td>0.15</td>\n",
       "      <td>0.36</td>\n",
       "      <td>0.00</td>\n",
       "      <td>1.00</td>\n",
       "    </tr>\n",
       "    <tr>\n",
       "      <th>saturday</th>\n",
       "      <td>1869.00</td>\n",
       "      <td>0.15</td>\n",
       "      <td>0.36</td>\n",
       "      <td>0.00</td>\n",
       "      <td>1.00</td>\n",
       "    </tr>\n",
       "    <tr>\n",
       "      <th>sunday</th>\n",
       "      <td>1869.00</td>\n",
       "      <td>0.15</td>\n",
       "      <td>0.35</td>\n",
       "      <td>0.00</td>\n",
       "      <td>1.00</td>\n",
       "    </tr>\n",
       "    <tr>\n",
       "      <th>morning</th>\n",
       "      <td>1869.00</td>\n",
       "      <td>0.30</td>\n",
       "      <td>0.46</td>\n",
       "      <td>0.00</td>\n",
       "      <td>1.00</td>\n",
       "    </tr>\n",
       "    <tr>\n",
       "      <th>day</th>\n",
       "      <td>1869.00</td>\n",
       "      <td>0.31</td>\n",
       "      <td>0.46</td>\n",
       "      <td>0.00</td>\n",
       "      <td>1.00</td>\n",
       "    </tr>\n",
       "    <tr>\n",
       "      <th>evening</th>\n",
       "      <td>1869.00</td>\n",
       "      <td>0.32</td>\n",
       "      <td>0.47</td>\n",
       "      <td>0.00</td>\n",
       "      <td>1.00</td>\n",
       "    </tr>\n",
       "    <tr>\n",
       "      <th>night</th>\n",
       "      <td>1869.00</td>\n",
       "      <td>0.07</td>\n",
       "      <td>0.26</td>\n",
       "      <td>0.00</td>\n",
       "      <td>1.00</td>\n",
       "    </tr>\n",
       "    <tr>\n",
       "      <th>from_user_followers_count</th>\n",
       "      <td>1869.00</td>\n",
       "      <td>7928.94</td>\n",
       "      <td>24351.17</td>\n",
       "      <td>0.00</td>\n",
       "      <td>191658.00</td>\n",
       "    </tr>\n",
       "    <tr>\n",
       "      <th>from_user_friends_count</th>\n",
       "      <td>1869.00</td>\n",
       "      <td>2176.24</td>\n",
       "      <td>8611.16</td>\n",
       "      <td>0.00</td>\n",
       "      <td>76552.00</td>\n",
       "    </tr>\n",
       "    <tr>\n",
       "      <th>from_user_listed_count</th>\n",
       "      <td>1869.00</td>\n",
       "      <td>193.73</td>\n",
       "      <td>668.41</td>\n",
       "      <td>0.00</td>\n",
       "      <td>6514.00</td>\n",
       "    </tr>\n",
       "    <tr>\n",
       "      <th>from_user_statuses_count</th>\n",
       "      <td>1869.00</td>\n",
       "      <td>9238.95</td>\n",
       "      <td>22356.48</td>\n",
       "      <td>2.00</td>\n",
       "      <td>247758.00</td>\n",
       "    </tr>\n",
       "    <tr>\n",
       "      <th>entities_mentions_count</th>\n",
       "      <td>1869.00</td>\n",
       "      <td>0.28</td>\n",
       "      <td>0.76</td>\n",
       "      <td>0.00</td>\n",
       "      <td>6.00</td>\n",
       "    </tr>\n",
       "  </tbody>\n",
       "</table>\n",
       "</div>"
      ],
      "text/plain": [
       "                            count    mean      std  min       max\n",
       "retweet_count             1869.00    2.79     8.63 0.00    136.00\n",
       "retweet_dummy             1869.00    0.36     0.48 0.00      1.00\n",
       "mtot                      1869.00    0.06     0.23 0.00      1.00\n",
       "exception_mag             1869.00    0.00     0.00 0.00      0.00\n",
       "kauffman                  1869.00    0.05     0.23 0.00      1.00\n",
       "mention_dummy             1869.00    0.18     0.38 0.00      1.00\n",
       "url_dummy                 1869.00    0.54     0.50 0.00      1.00\n",
       "monday                    1869.00    0.13     0.34 0.00      1.00\n",
       "tuesday                   1869.00    0.13     0.33 0.00      1.00\n",
       "wednesday                 1869.00    0.14     0.35 0.00      1.00\n",
       "thursday                  1869.00    0.15     0.36 0.00      1.00\n",
       "friday                    1869.00    0.15     0.36 0.00      1.00\n",
       "saturday                  1869.00    0.15     0.36 0.00      1.00\n",
       "sunday                    1869.00    0.15     0.35 0.00      1.00\n",
       "morning                   1869.00    0.30     0.46 0.00      1.00\n",
       "day                       1869.00    0.31     0.46 0.00      1.00\n",
       "evening                   1869.00    0.32     0.47 0.00      1.00\n",
       "night                     1869.00    0.07     0.26 0.00      1.00\n",
       "from_user_followers_count 1869.00 7928.94 24351.17 0.00 191658.00\n",
       "from_user_friends_count   1869.00 2176.24  8611.16 0.00  76552.00\n",
       "from_user_listed_count    1869.00  193.73   668.41 0.00   6514.00\n",
       "from_user_statuses_count  1869.00 9238.95 22356.48 2.00 247758.00\n",
       "entities_mentions_count   1869.00    0.28     0.76 0.00      6.00"
      ]
     },
     "execution_count": 75,
     "metadata": {},
     "output_type": "execute_result"
    }
   ],
   "source": [
    "np.round(df2.describe(), 2).T[['count','mean', 'std', 'min', 'max']]"
   ]
  },
  {
   "cell_type": "code",
   "execution_count": 76,
   "metadata": {
    "collapsed": false
   },
   "outputs": [],
   "source": [
    "cols_to_norm = ['from_user_followers_count','from_user_friends_count', 'from_user_listed_count', 'from_user_statuses_count', 'entities_mentions_count']\n",
    "df2[cols_to_norm] = df2[cols_to_norm].apply(lambda x: (x - x.mean()) / (x.std()))"
   ]
  },
  {
   "cell_type": "code",
   "execution_count": 77,
   "metadata": {
    "collapsed": false
   },
   "outputs": [
    {
     "data": {
      "text/html": [
       "<div>\n",
       "<table border=\"1\" class=\"dataframe\">\n",
       "  <thead>\n",
       "    <tr style=\"text-align: right;\">\n",
       "      <th></th>\n",
       "      <th>count</th>\n",
       "      <th>mean</th>\n",
       "      <th>std</th>\n",
       "      <th>min</th>\n",
       "      <th>max</th>\n",
       "    </tr>\n",
       "  </thead>\n",
       "  <tbody>\n",
       "    <tr>\n",
       "      <th>retweet_count</th>\n",
       "      <td>1869.00</td>\n",
       "      <td>2.79</td>\n",
       "      <td>8.63</td>\n",
       "      <td>0.00</td>\n",
       "      <td>136.00</td>\n",
       "    </tr>\n",
       "    <tr>\n",
       "      <th>retweet_dummy</th>\n",
       "      <td>1869.00</td>\n",
       "      <td>0.36</td>\n",
       "      <td>0.48</td>\n",
       "      <td>0.00</td>\n",
       "      <td>1.00</td>\n",
       "    </tr>\n",
       "    <tr>\n",
       "      <th>mtot</th>\n",
       "      <td>1869.00</td>\n",
       "      <td>0.06</td>\n",
       "      <td>0.23</td>\n",
       "      <td>0.00</td>\n",
       "      <td>1.00</td>\n",
       "    </tr>\n",
       "    <tr>\n",
       "      <th>exception_mag</th>\n",
       "      <td>1869.00</td>\n",
       "      <td>0.00</td>\n",
       "      <td>0.00</td>\n",
       "      <td>0.00</td>\n",
       "      <td>0.00</td>\n",
       "    </tr>\n",
       "    <tr>\n",
       "      <th>kauffman</th>\n",
       "      <td>1869.00</td>\n",
       "      <td>0.05</td>\n",
       "      <td>0.23</td>\n",
       "      <td>0.00</td>\n",
       "      <td>1.00</td>\n",
       "    </tr>\n",
       "    <tr>\n",
       "      <th>mention_dummy</th>\n",
       "      <td>1869.00</td>\n",
       "      <td>0.18</td>\n",
       "      <td>0.38</td>\n",
       "      <td>0.00</td>\n",
       "      <td>1.00</td>\n",
       "    </tr>\n",
       "    <tr>\n",
       "      <th>url_dummy</th>\n",
       "      <td>1869.00</td>\n",
       "      <td>0.54</td>\n",
       "      <td>0.50</td>\n",
       "      <td>0.00</td>\n",
       "      <td>1.00</td>\n",
       "    </tr>\n",
       "    <tr>\n",
       "      <th>monday</th>\n",
       "      <td>1869.00</td>\n",
       "      <td>0.13</td>\n",
       "      <td>0.34</td>\n",
       "      <td>0.00</td>\n",
       "      <td>1.00</td>\n",
       "    </tr>\n",
       "    <tr>\n",
       "      <th>tuesday</th>\n",
       "      <td>1869.00</td>\n",
       "      <td>0.13</td>\n",
       "      <td>0.33</td>\n",
       "      <td>0.00</td>\n",
       "      <td>1.00</td>\n",
       "    </tr>\n",
       "    <tr>\n",
       "      <th>wednesday</th>\n",
       "      <td>1869.00</td>\n",
       "      <td>0.14</td>\n",
       "      <td>0.35</td>\n",
       "      <td>0.00</td>\n",
       "      <td>1.00</td>\n",
       "    </tr>\n",
       "    <tr>\n",
       "      <th>thursday</th>\n",
       "      <td>1869.00</td>\n",
       "      <td>0.15</td>\n",
       "      <td>0.36</td>\n",
       "      <td>0.00</td>\n",
       "      <td>1.00</td>\n",
       "    </tr>\n",
       "    <tr>\n",
       "      <th>friday</th>\n",
       "      <td>1869.00</td>\n",
       "      <td>0.15</td>\n",
       "      <td>0.36</td>\n",
       "      <td>0.00</td>\n",
       "      <td>1.00</td>\n",
       "    </tr>\n",
       "    <tr>\n",
       "      <th>saturday</th>\n",
       "      <td>1869.00</td>\n",
       "      <td>0.15</td>\n",
       "      <td>0.36</td>\n",
       "      <td>0.00</td>\n",
       "      <td>1.00</td>\n",
       "    </tr>\n",
       "    <tr>\n",
       "      <th>sunday</th>\n",
       "      <td>1869.00</td>\n",
       "      <td>0.15</td>\n",
       "      <td>0.35</td>\n",
       "      <td>0.00</td>\n",
       "      <td>1.00</td>\n",
       "    </tr>\n",
       "    <tr>\n",
       "      <th>morning</th>\n",
       "      <td>1869.00</td>\n",
       "      <td>0.30</td>\n",
       "      <td>0.46</td>\n",
       "      <td>0.00</td>\n",
       "      <td>1.00</td>\n",
       "    </tr>\n",
       "    <tr>\n",
       "      <th>day</th>\n",
       "      <td>1869.00</td>\n",
       "      <td>0.31</td>\n",
       "      <td>0.46</td>\n",
       "      <td>0.00</td>\n",
       "      <td>1.00</td>\n",
       "    </tr>\n",
       "    <tr>\n",
       "      <th>evening</th>\n",
       "      <td>1869.00</td>\n",
       "      <td>0.32</td>\n",
       "      <td>0.47</td>\n",
       "      <td>0.00</td>\n",
       "      <td>1.00</td>\n",
       "    </tr>\n",
       "    <tr>\n",
       "      <th>night</th>\n",
       "      <td>1869.00</td>\n",
       "      <td>0.07</td>\n",
       "      <td>0.26</td>\n",
       "      <td>0.00</td>\n",
       "      <td>1.00</td>\n",
       "    </tr>\n",
       "    <tr>\n",
       "      <th>from_user_followers_count</th>\n",
       "      <td>1869.00</td>\n",
       "      <td>0.00</td>\n",
       "      <td>1.00</td>\n",
       "      <td>-0.33</td>\n",
       "      <td>7.54</td>\n",
       "    </tr>\n",
       "    <tr>\n",
       "      <th>from_user_friends_count</th>\n",
       "      <td>1869.00</td>\n",
       "      <td>0.00</td>\n",
       "      <td>1.00</td>\n",
       "      <td>-0.25</td>\n",
       "      <td>8.64</td>\n",
       "    </tr>\n",
       "    <tr>\n",
       "      <th>from_user_listed_count</th>\n",
       "      <td>1869.00</td>\n",
       "      <td>0.00</td>\n",
       "      <td>1.00</td>\n",
       "      <td>-0.29</td>\n",
       "      <td>9.46</td>\n",
       "    </tr>\n",
       "    <tr>\n",
       "      <th>from_user_statuses_count</th>\n",
       "      <td>1869.00</td>\n",
       "      <td>0.00</td>\n",
       "      <td>1.00</td>\n",
       "      <td>-0.41</td>\n",
       "      <td>10.67</td>\n",
       "    </tr>\n",
       "    <tr>\n",
       "      <th>entities_mentions_count</th>\n",
       "      <td>1869.00</td>\n",
       "      <td>0.00</td>\n",
       "      <td>1.00</td>\n",
       "      <td>-0.37</td>\n",
       "      <td>7.53</td>\n",
       "    </tr>\n",
       "  </tbody>\n",
       "</table>\n",
       "</div>"
      ],
      "text/plain": [
       "                            count  mean  std   min    max\n",
       "retweet_count             1869.00  2.79 8.63  0.00 136.00\n",
       "retweet_dummy             1869.00  0.36 0.48  0.00   1.00\n",
       "mtot                      1869.00  0.06 0.23  0.00   1.00\n",
       "exception_mag             1869.00  0.00 0.00  0.00   0.00\n",
       "kauffman                  1869.00  0.05 0.23  0.00   1.00\n",
       "mention_dummy             1869.00  0.18 0.38  0.00   1.00\n",
       "url_dummy                 1869.00  0.54 0.50  0.00   1.00\n",
       "monday                    1869.00  0.13 0.34  0.00   1.00\n",
       "tuesday                   1869.00  0.13 0.33  0.00   1.00\n",
       "wednesday                 1869.00  0.14 0.35  0.00   1.00\n",
       "thursday                  1869.00  0.15 0.36  0.00   1.00\n",
       "friday                    1869.00  0.15 0.36  0.00   1.00\n",
       "saturday                  1869.00  0.15 0.36  0.00   1.00\n",
       "sunday                    1869.00  0.15 0.35  0.00   1.00\n",
       "morning                   1869.00  0.30 0.46  0.00   1.00\n",
       "day                       1869.00  0.31 0.46  0.00   1.00\n",
       "evening                   1869.00  0.32 0.47  0.00   1.00\n",
       "night                     1869.00  0.07 0.26  0.00   1.00\n",
       "from_user_followers_count 1869.00  0.00 1.00 -0.33   7.54\n",
       "from_user_friends_count   1869.00  0.00 1.00 -0.25   8.64\n",
       "from_user_listed_count    1869.00  0.00 1.00 -0.29   9.46\n",
       "from_user_statuses_count  1869.00  0.00 1.00 -0.41  10.67\n",
       "entities_mentions_count   1869.00  0.00 1.00 -0.37   7.53"
      ]
     },
     "execution_count": 77,
     "metadata": {},
     "output_type": "execute_result"
    }
   ],
   "source": [
    "np.round(df2.describe(), 2).T[['count','mean', 'std', 'min', 'max']]"
   ]
  },
  {
   "cell_type": "code",
   "execution_count": 78,
   "metadata": {
    "collapsed": false
   },
   "outputs": [],
   "source": [
    "# np.round(df2.describe(), 2).T[['count','mean', 'std', 'min', 'max']].to_csv('aaa_HT_SUM_STATS_final_vars_less_manual.csv', sep=',')"
   ]
  },
  {
   "cell_type": "code",
   "execution_count": 79,
   "metadata": {
    "collapsed": true
   },
   "outputs": [],
   "source": [
    "# df2.to_pickle('a_HT_no_retweets_FINAL_VARIABLES_less_manual.pkl')"
   ]
  },
  {
   "cell_type": "code",
   "execution_count": 80,
   "metadata": {
    "collapsed": false
   },
   "outputs": [],
   "source": [
    "# save the final variables dataset in csv format to make the dataset portable\n",
    "# df2.to_csv('HT_orig_less_manual.csv', sep=',')"
   ]
  },
  {
   "cell_type": "markdown",
   "metadata": {
    "collapsed": false
   },
   "source": [
    "---\n",
    "<br>\n",
    "><br><p style='font-size: large;'>That's it. Now that we've obtained the variables we can in Python, the next step is to hand code the account-type variables used in the study. With the `mtot`, `exception_mag` and `kauffman` variables, this series will be mutually exclusive & jointly exhaustive</p><br>\n"
   ]
  }
 ],
 "metadata": {
  "anaconda-cloud": {},
  "kernelspec": {
   "display_name": "Python [default]",
   "language": "python",
   "name": "python2"
  },
  "language_info": {
   "codemirror_mode": {
    "name": "ipython",
    "version": 2
   },
   "file_extension": ".py",
   "mimetype": "text/x-python",
   "name": "python",
   "nbconvert_exporter": "python",
   "pygments_lexer": "ipython2",
   "version": "2.7.12"
  }
 },
 "nbformat": 4,
 "nbformat_minor": 1
}
