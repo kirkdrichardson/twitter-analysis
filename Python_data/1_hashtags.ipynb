{
 "cells": [
  {
   "cell_type": "markdown",
   "metadata": {},
   "source": [
    "# <h1 style=\"text-align: center; text-decoration: underline\">Exploring Hashtag Usage</h1>\n",
    "<br>\n",
    "<br>\n",
    "><p style='font-size: large'>We'll take a look at the hashtags represented in the HT-full dataset. We'll split original tweets and retweets into two separate dataframes, so that we can compare them side by side in the paper</p>"
   ]
  },
  {
   "cell_type": "markdown",
   "metadata": {},
   "source": [
    "### Import the Packages We'll be Using & Set Some Formatting Options\n"
   ]
  },
  {
   "cell_type": "code",
   "execution_count": 63,
   "metadata": {
    "collapsed": true
   },
   "outputs": [],
   "source": [
    "import pandas as pd\n",
    "import numpy as np\n",
    "from pandas import DataFrame\n",
    "from pandas import Series"
   ]
  },
  {
   "cell_type": "code",
   "execution_count": 64,
   "metadata": {
    "collapsed": true
   },
   "outputs": [],
   "source": [
    "pd.set_option('display.max_columns', None)"
   ]
  },
  {
   "cell_type": "code",
   "execution_count": 65,
   "metadata": {
    "collapsed": true
   },
   "outputs": [],
   "source": [
    "import matplotlib"
   ]
  },
  {
   "cell_type": "code",
   "execution_count": 66,
   "metadata": {
    "collapsed": true
   },
   "outputs": [],
   "source": [
    "import matplotlib.pyplot as plt"
   ]
  },
  {
   "cell_type": "code",
   "execution_count": 67,
   "metadata": {
    "collapsed": true
   },
   "outputs": [],
   "source": [
    "from pylab import *"
   ]
  },
  {
   "cell_type": "code",
   "execution_count": 68,
   "metadata": {
    "collapsed": true
   },
   "outputs": [],
   "source": [
    "%matplotlib inline"
   ]
  },
  {
   "cell_type": "code",
   "execution_count": 69,
   "metadata": {
    "collapsed": true
   },
   "outputs": [],
   "source": [
    "import seaborn as sns"
   ]
  },
  {
   "cell_type": "code",
   "execution_count": 70,
   "metadata": {
    "collapsed": true
   },
   "outputs": [],
   "source": [
    "# adjusts default size of graphs\n",
    "plt.rcParams['figure.figsize'] = (15, 5)"
   ]
  },
  {
   "cell_type": "markdown",
   "metadata": {},
   "source": [
    "<br>\n",
    "## Read in the Data & Separate Original Tweets from Retweets\n",
    "<br>"
   ]
  },
  {
   "cell_type": "code",
   "execution_count": 71,
   "metadata": {
    "collapsed": false
   },
   "outputs": [],
   "source": [
    "# Read in the pkl & begin \n",
    "df = pd.read_pickle('./data/a_HT.pkl')"
   ]
  },
  {
   "cell_type": "code",
   "execution_count": 72,
   "metadata": {
    "collapsed": false
   },
   "outputs": [
    {
     "name": "stdout",
     "output_type": "stream",
     "text": [
      "Number of cases: 7669\n"
     ]
    },
    {
     "data": {
      "text/html": [
       "<div>\n",
       "<table border=\"1\" class=\"dataframe\">\n",
       "  <thead>\n",
       "    <tr style=\"text-align: right;\">\n",
       "      <th></th>\n",
       "      <th>id</th>\n",
       "      <th>hash_select</th>\n",
       "      <th>tweet_id</th>\n",
       "      <th>inserted_date</th>\n",
       "      <th>truncated</th>\n",
       "      <th>language</th>\n",
       "      <th>possibly_sensitive</th>\n",
       "      <th>coordinates</th>\n",
       "      <th>retweeted_status</th>\n",
       "      <th>created_at_text</th>\n",
       "      <th>created_at</th>\n",
       "      <th>content</th>\n",
       "      <th>from_user_screen_name</th>\n",
       "      <th>from_user_id</th>\n",
       "      <th>from_user_followers_count</th>\n",
       "      <th>from_user_friends_count</th>\n",
       "      <th>from_user_listed_count</th>\n",
       "      <th>from_user_statuses_count</th>\n",
       "      <th>from_user_description</th>\n",
       "      <th>from_user_location</th>\n",
       "      <th>from_user_created_at</th>\n",
       "      <th>retweet_count</th>\n",
       "      <th>entities_urls</th>\n",
       "      <th>entities_urls_count</th>\n",
       "      <th>entities_hashtags</th>\n",
       "      <th>entities_hashtags_count</th>\n",
       "      <th>entities_mentions</th>\n",
       "      <th>entities_mentions_count</th>\n",
       "      <th>in_reply_to_screen_name</th>\n",
       "      <th>in_reply_to_status_id</th>\n",
       "      <th>source</th>\n",
       "      <th>entities_expanded_urls</th>\n",
       "      <th>json_output</th>\n",
       "      <th>entities_media_count</th>\n",
       "      <th>media_expanded_url</th>\n",
       "      <th>media_url</th>\n",
       "      <th>media_type</th>\n",
       "      <th>video_link</th>\n",
       "      <th>photo_link</th>\n",
       "      <th>twitpic</th>\n",
       "    </tr>\n",
       "  </thead>\n",
       "  <tbody>\n",
       "    <tr>\n",
       "      <th>0</th>\n",
       "      <td>2546</td>\n",
       "      <td>%2523montanamoment</td>\n",
       "      <td>8.550000e+17</td>\n",
       "      <td>35:55.8</td>\n",
       "      <td>0</td>\n",
       "      <td>en</td>\n",
       "      <td>NaN</td>\n",
       "      <td>NaN</td>\n",
       "      <td>THIS IS A RETWEET --&gt; DOUBLE-CHECK JSON</td>\n",
       "      <td>Fri Apr 21 05:32:02 +0000 2017</td>\n",
       "      <td>D</td>\n",
       "      <td>RT @LeonKauffman: The night sky is a fascinati...</td>\n",
       "      <td>J_M1812</td>\n",
       "      <td>245570167.0</td>\n",
       "      <td>261</td>\n",
       "      <td>691</td>\n",
       "      <td>10</td>\n",
       "      <td>2061</td>\n",
       "      <td>Writer, editor, aspiring photographer. Native ...</td>\n",
       "      <td>Montana</td>\n",
       "      <td>Tue Feb 01 00:22:51 +0000 2011</td>\n",
       "      <td>4</td>\n",
       "      <td>NaN</td>\n",
       "      <td>0</td>\n",
       "      <td>MontanaMoment</td>\n",
       "      <td>1</td>\n",
       "      <td>LeonKauffman</td>\n",
       "      <td>1</td>\n",
       "      <td>NaN</td>\n",
       "      <td>NaN</td>\n",
       "      <td>&lt;a href=\"http://twitter.com/download/iphone\" r...</td>\n",
       "      <td>NaN</td>\n",
       "      <td>{u'contributors': None, u'truncated': False, u...</td>\n",
       "      <td>NaN</td>\n",
       "      <td>NaN</td>\n",
       "      <td>NaN</td>\n",
       "      <td>NaN</td>\n",
       "      <td>0</td>\n",
       "      <td>0</td>\n",
       "      <td>0</td>\n",
       "    </tr>\n",
       "  </tbody>\n",
       "</table>\n",
       "</div>"
      ],
      "text/plain": [
       "     id         hash_select      tweet_id inserted_date  truncated language  \\\n",
       "0  2546  %2523montanamoment  8.550000e+17       35:55.8          0       en   \n",
       "\n",
       "   possibly_sensitive coordinates                         retweeted_status  \\\n",
       "0                 NaN         NaN  THIS IS A RETWEET --> DOUBLE-CHECK JSON   \n",
       "\n",
       "                  created_at_text created_at  \\\n",
       "0  Fri Apr 21 05:32:02 +0000 2017          D   \n",
       "\n",
       "                                             content from_user_screen_name  \\\n",
       "0  RT @LeonKauffman: The night sky is a fascinati...               J_M1812   \n",
       "\n",
       "   from_user_id  from_user_followers_count  from_user_friends_count  \\\n",
       "0   245570167.0                        261                      691   \n",
       "\n",
       "   from_user_listed_count  from_user_statuses_count  \\\n",
       "0                      10                      2061   \n",
       "\n",
       "                               from_user_description from_user_location  \\\n",
       "0  Writer, editor, aspiring photographer. Native ...            Montana   \n",
       "\n",
       "             from_user_created_at  retweet_count entities_urls  \\\n",
       "0  Tue Feb 01 00:22:51 +0000 2011              4           NaN   \n",
       "\n",
       "   entities_urls_count entities_hashtags  entities_hashtags_count  \\\n",
       "0                    0     MontanaMoment                        1   \n",
       "\n",
       "  entities_mentions  entities_mentions_count in_reply_to_screen_name  \\\n",
       "0      LeonKauffman                        1                     NaN   \n",
       "\n",
       "   in_reply_to_status_id                                             source  \\\n",
       "0                    NaN  <a href=\"http://twitter.com/download/iphone\" r...   \n",
       "\n",
       "  entities_expanded_urls                                        json_output  \\\n",
       "0                    NaN  {u'contributors': None, u'truncated': False, u...   \n",
       "\n",
       "   entities_media_count media_expanded_url media_url media_type  video_link  \\\n",
       "0                   NaN                NaN       NaN        NaN           0   \n",
       "\n",
       "   photo_link  twitpic  \n",
       "0           0        0  "
      ]
     },
     "execution_count": 72,
     "metadata": {},
     "output_type": "execute_result"
    }
   ],
   "source": [
    "print \"Number of cases:\", len(df)\n",
    "df.head(1)"
   ]
  },
  {
   "cell_type": "code",
   "execution_count": 73,
   "metadata": {
    "collapsed": false
   },
   "outputs": [
    {
     "data": {
      "text/plain": [
       "array(['THIS IS A RETWEET --> DOUBLE-CHECK JSON', nan], dtype=object)"
      ]
     },
     "execution_count": 73,
     "metadata": {},
     "output_type": "execute_result"
    }
   ],
   "source": [
    "# The retweeted_status variable of the dataset is binary in that it contains either the string 'THIS IS A RETWEET' or the nan (not a number) value, meaning that a tweet is not a retweet\n",
    "pd.unique(df.retweeted_status.ravel())"
   ]
  },
  {
   "cell_type": "code",
   "execution_count": 74,
   "metadata": {
    "collapsed": false
   },
   "outputs": [
    {
     "name": "stdout",
     "output_type": "stream",
     "text": [
      "Of  7669  tweets,  5482  are retweets.\n",
      "2187  are not retweets\n",
      "That is, 71.5% of the hashtag tweets are retweets\n"
     ]
    }
   ],
   "source": [
    "# by default, the dropna parameter of the count command (pandas Series) is true, meaning all NaN values are not included in \n",
    "# the resulting object. Here, we see that the majority of the 'visitMontana' tweets are retweets\n",
    "\n",
    "print \"Of \", str(len(df)), \" tweets, \", str(df.retweeted_status.count()), \" are retweets.\"\n",
    "print str(len(df) - df.retweeted_status.count()), \" are not retweets\"\n",
    "\n",
    "print \"That is, \" + str(round(100*(df.retweeted_status.count()/float(len(df))), 1)) + \"% of the hashtag tweets are retweets\""
   ]
  },
  {
   "cell_type": "code",
   "execution_count": 75,
   "metadata": {
    "collapsed": false
   },
   "outputs": [
    {
     "name": "stdout",
     "output_type": "stream",
     "text": [
      "7669 total tweets\n",
      "2187 original tweets\n",
      "5482 total retweets\n"
     ]
    },
    {
     "data": {
      "text/html": [
       "<div>\n",
       "<table border=\"1\" class=\"dataframe\">\n",
       "  <thead>\n",
       "    <tr style=\"text-align: right;\">\n",
       "      <th></th>\n",
       "      <th>id</th>\n",
       "      <th>hash_select</th>\n",
       "      <th>tweet_id</th>\n",
       "      <th>inserted_date</th>\n",
       "      <th>truncated</th>\n",
       "      <th>language</th>\n",
       "      <th>possibly_sensitive</th>\n",
       "      <th>coordinates</th>\n",
       "      <th>retweeted_status</th>\n",
       "      <th>created_at_text</th>\n",
       "      <th>created_at</th>\n",
       "      <th>content</th>\n",
       "      <th>from_user_screen_name</th>\n",
       "      <th>from_user_id</th>\n",
       "      <th>from_user_followers_count</th>\n",
       "      <th>from_user_friends_count</th>\n",
       "      <th>from_user_listed_count</th>\n",
       "      <th>from_user_statuses_count</th>\n",
       "      <th>from_user_description</th>\n",
       "      <th>from_user_location</th>\n",
       "      <th>from_user_created_at</th>\n",
       "      <th>retweet_count</th>\n",
       "      <th>entities_urls</th>\n",
       "      <th>entities_urls_count</th>\n",
       "      <th>entities_hashtags</th>\n",
       "      <th>entities_hashtags_count</th>\n",
       "      <th>entities_mentions</th>\n",
       "      <th>entities_mentions_count</th>\n",
       "      <th>in_reply_to_screen_name</th>\n",
       "      <th>in_reply_to_status_id</th>\n",
       "      <th>source</th>\n",
       "      <th>entities_expanded_urls</th>\n",
       "      <th>json_output</th>\n",
       "      <th>entities_media_count</th>\n",
       "      <th>media_expanded_url</th>\n",
       "      <th>media_url</th>\n",
       "      <th>media_type</th>\n",
       "      <th>video_link</th>\n",
       "      <th>photo_link</th>\n",
       "      <th>twitpic</th>\n",
       "    </tr>\n",
       "  </thead>\n",
       "  <tbody>\n",
       "    <tr>\n",
       "      <th>9</th>\n",
       "      <td>2555</td>\n",
       "      <td>%2523montanamoment</td>\n",
       "      <td>8.550000e+17</td>\n",
       "      <td>35:57.3</td>\n",
       "      <td>0</td>\n",
       "      <td>en</td>\n",
       "      <td>0.0</td>\n",
       "      <td>NaN</td>\n",
       "      <td>NaN</td>\n",
       "      <td>Fri Apr 21 04:21:17 +0000 2017</td>\n",
       "      <td>21:17.0</td>\n",
       "      <td>The night sky is a fascinating place especiall...</td>\n",
       "      <td>LeonKauffman</td>\n",
       "      <td>425125748.0</td>\n",
       "      <td>673</td>\n",
       "      <td>152</td>\n",
       "      <td>39</td>\n",
       "      <td>1616</td>\n",
       "      <td>Hydrologist, photographer, fan of Drexel baske...</td>\n",
       "      <td>Condon, Montana, USA</td>\n",
       "      <td>Wed Nov 30 15:58:25 +0000 2011</td>\n",
       "      <td>4</td>\n",
       "      <td>NaN</td>\n",
       "      <td>0</td>\n",
       "      <td>MontanaMoment</td>\n",
       "      <td>1</td>\n",
       "      <td>NaN</td>\n",
       "      <td>0</td>\n",
       "      <td>NaN</td>\n",
       "      <td>NaN</td>\n",
       "      <td>&lt;a href=\"https://about.twitter.com/products/tw...</td>\n",
       "      <td>NaN</td>\n",
       "      <td>{u'contributors': None, u'truncated': False, u...</td>\n",
       "      <td>1.0</td>\n",
       "      <td>https://twitter.com/LeonKauffman/status/855275...</td>\n",
       "      <td>http://pbs.twimg.com/media/C96LaxcUQAEMOQl.jpg</td>\n",
       "      <td>photo</td>\n",
       "      <td>0</td>\n",
       "      <td>0</td>\n",
       "      <td>0</td>\n",
       "    </tr>\n",
       "    <tr>\n",
       "      <th>10</th>\n",
       "      <td>2556</td>\n",
       "      <td>%2523montanamoment</td>\n",
       "      <td>8.550000e+17</td>\n",
       "      <td>35:57.7</td>\n",
       "      <td>0</td>\n",
       "      <td>en</td>\n",
       "      <td>0.0</td>\n",
       "      <td>NaN</td>\n",
       "      <td>NaN</td>\n",
       "      <td>Fri Apr 21 03:15:27 +0000 2017</td>\n",
       "      <td>15:27.0</td>\n",
       "      <td>Nick's view of the #sunset from Sunset Bench i...</td>\n",
       "      <td>ErinWx</td>\n",
       "      <td>163660638.0</td>\n",
       "      <td>632</td>\n",
       "      <td>243</td>\n",
       "      <td>47</td>\n",
       "      <td>10327</td>\n",
       "      <td>Chief Meteorologist for CBS affiliate KPAX-TV ...</td>\n",
       "      <td>Missoula, MT</td>\n",
       "      <td>Wed Jul 07 00:05:20 +0000 2010</td>\n",
       "      <td>0</td>\n",
       "      <td>NaN</td>\n",
       "      <td>0</td>\n",
       "      <td>sunset, Bitterroot, mtwx, Montana, MontanaMoment</td>\n",
       "      <td>5</td>\n",
       "      <td>NaN</td>\n",
       "      <td>0</td>\n",
       "      <td>NaN</td>\n",
       "      <td>NaN</td>\n",
       "      <td>&lt;a href=\"http://www.socialnewsdesk.com\" rel=\"n...</td>\n",
       "      <td>NaN</td>\n",
       "      <td>{u'contributors': None, u'truncated': False, u...</td>\n",
       "      <td>1.0</td>\n",
       "      <td>https://twitter.com/ErinWx/status/855258652323...</td>\n",
       "      <td>http://pbs.twimg.com/media/C959NaAXcAAuGyH.jpg</td>\n",
       "      <td>photo</td>\n",
       "      <td>0</td>\n",
       "      <td>0</td>\n",
       "      <td>0</td>\n",
       "    </tr>\n",
       "  </tbody>\n",
       "</table>\n",
       "</div>"
      ],
      "text/plain": [
       "      id         hash_select      tweet_id inserted_date  truncated language  \\\n",
       "9   2555  %2523montanamoment  8.550000e+17       35:57.3          0       en   \n",
       "10  2556  %2523montanamoment  8.550000e+17       35:57.7          0       en   \n",
       "\n",
       "    possibly_sensitive coordinates retweeted_status  \\\n",
       "9                  0.0         NaN              NaN   \n",
       "10                 0.0         NaN              NaN   \n",
       "\n",
       "                   created_at_text created_at  \\\n",
       "9   Fri Apr 21 04:21:17 +0000 2017    21:17.0   \n",
       "10  Fri Apr 21 03:15:27 +0000 2017    15:27.0   \n",
       "\n",
       "                                              content from_user_screen_name  \\\n",
       "9   The night sky is a fascinating place especiall...          LeonKauffman   \n",
       "10  Nick's view of the #sunset from Sunset Bench i...                ErinWx   \n",
       "\n",
       "    from_user_id  from_user_followers_count  from_user_friends_count  \\\n",
       "9    425125748.0                        673                      152   \n",
       "10   163660638.0                        632                      243   \n",
       "\n",
       "    from_user_listed_count  from_user_statuses_count  \\\n",
       "9                       39                      1616   \n",
       "10                      47                     10327   \n",
       "\n",
       "                                from_user_description    from_user_location  \\\n",
       "9   Hydrologist, photographer, fan of Drexel baske...  Condon, Montana, USA   \n",
       "10  Chief Meteorologist for CBS affiliate KPAX-TV ...          Missoula, MT   \n",
       "\n",
       "              from_user_created_at  retweet_count entities_urls  \\\n",
       "9   Wed Nov 30 15:58:25 +0000 2011              4           NaN   \n",
       "10  Wed Jul 07 00:05:20 +0000 2010              0           NaN   \n",
       "\n",
       "    entities_urls_count                                 entities_hashtags  \\\n",
       "9                     0                                     MontanaMoment   \n",
       "10                    0  sunset, Bitterroot, mtwx, Montana, MontanaMoment   \n",
       "\n",
       "    entities_hashtags_count entities_mentions  entities_mentions_count  \\\n",
       "9                         1               NaN                        0   \n",
       "10                        5               NaN                        0   \n",
       "\n",
       "   in_reply_to_screen_name  in_reply_to_status_id  \\\n",
       "9                      NaN                    NaN   \n",
       "10                     NaN                    NaN   \n",
       "\n",
       "                                               source entities_expanded_urls  \\\n",
       "9   <a href=\"https://about.twitter.com/products/tw...                    NaN   \n",
       "10  <a href=\"http://www.socialnewsdesk.com\" rel=\"n...                    NaN   \n",
       "\n",
       "                                          json_output  entities_media_count  \\\n",
       "9   {u'contributors': None, u'truncated': False, u...                   1.0   \n",
       "10  {u'contributors': None, u'truncated': False, u...                   1.0   \n",
       "\n",
       "                                   media_expanded_url  \\\n",
       "9   https://twitter.com/LeonKauffman/status/855275...   \n",
       "10  https://twitter.com/ErinWx/status/855258652323...   \n",
       "\n",
       "                                         media_url media_type  video_link  \\\n",
       "9   http://pbs.twimg.com/media/C96LaxcUQAEMOQl.jpg      photo           0   \n",
       "10  http://pbs.twimg.com/media/C959NaAXcAAuGyH.jpg      photo           0   \n",
       "\n",
       "    photo_link  twitpic  \n",
       "9            0        0  \n",
       "10           0        0  "
      ]
     },
     "execution_count": 75,
     "metadata": {},
     "output_type": "execute_result"
    }
   ],
   "source": [
    "df_original = df[df['retweeted_status'] != 'THIS IS A RETWEET --> DOUBLE-CHECK JSON'] # create new df w/ only original tweets\n",
    "print len(df), \"total tweets\"\n",
    "print len(df_original), \"original tweets\"\n",
    "print len (df) - len(df_original), \"total retweets\"\n",
    "df_original.head(2)"
   ]
  },
  {
   "cell_type": "code",
   "execution_count": 76,
   "metadata": {
    "collapsed": false
   },
   "outputs": [
    {
     "name": "stdout",
     "output_type": "stream",
     "text": [
      "The new N is 1869\n"
     ]
    }
   ],
   "source": [
    "# drop exception_mag cases due to their outlier status (no retweets, 318 cases; see paper for more info)\n",
    "\n",
    "df_original = df_original[df_original['from_user_screen_name'] != 'TheExceptionMag']\n",
    "print \"The new N is\", len(df_original)"
   ]
  },
  {
   "cell_type": "code",
   "execution_count": 77,
   "metadata": {
    "collapsed": false
   },
   "outputs": [],
   "source": [
    "# save this df to import later\n",
    "# df_original.to_pickle('a_HT_no_retweets.pkl')"
   ]
  },
  {
   "cell_type": "markdown",
   "metadata": {},
   "source": [
    "<br>\n",
    "## Analyzing Hashtags as part of RQ1:\n",
    "<br>\n",
    "><p style='font-size: large'>Now that we have a dataset that contains only original tweets, excluding exception_mag (n=1,869), we can explore how hashtags are used among those cases that we will be including in the regression analyses estimating predicted retweets."
   ]
  },
  {
   "cell_type": "code",
   "execution_count": 78,
   "metadata": {
    "collapsed": false
   },
   "outputs": [
    {
     "data": {
      "text/plain": [
       "count    1869.000000\n",
       "mean        3.235955\n",
       "std         2.268505\n",
       "min         0.000000\n",
       "25%         1.000000\n",
       "50%         3.000000\n",
       "75%         5.000000\n",
       "max        12.000000\n",
       "Name: entities_hashtags_count, dtype: float64"
      ]
     },
     "execution_count": 78,
     "metadata": {},
     "output_type": "execute_result"
    }
   ],
   "source": [
    "# entitties_hashtags_count is created from the Twitter API's entities_hashtags variable, which includes all hashtags included\n",
    "# in each tweet. entities_hashtags_count is the count of tweets in each hashtag\n",
    "\n",
    "df_original['entities_hashtags_count'].describe()"
   ]
  },
  {
   "cell_type": "code",
   "execution_count": 79,
   "metadata": {
    "collapsed": false
   },
   "outputs": [
    {
     "name": "stdout",
     "output_type": "stream",
     "text": [
      "So, our 1869 tweets contain an average of 3.24 hashtags.\n"
     ]
    }
   ],
   "source": [
    "print \"So, our\", len(df_original), \"tweets contain an average of\", round(df_original['entities_hashtags_count'].mean(), 2), \"hashtags.\""
   ]
  },
  {
   "cell_type": "markdown",
   "metadata": {},
   "source": [
    "><p style='font-size:large'>However, the high standard deviation suggests that this average doesn't provide a full picture of centrality. Plotting the frequency of `hashtag_count` below shows that the use of a single hashtag is by far the most popular</p>\n",
    "</br>\n",
    "><p>Note: since the tweets are selected based on inclusion of the hashtag 'MontanaMoment', the 1 category in the chart below are those tweets that only use the hashtag of interest</p>"
   ]
  },
  {
   "cell_type": "code",
   "execution_count": 80,
   "metadata": {
    "collapsed": false
   },
   "outputs": [
    {
     "data": {
      "text/plain": [
       "<matplotlib.axes._subplots.AxesSubplot at 0x15ecba90>"
      ]
     },
     "execution_count": 80,
     "metadata": {},
     "output_type": "execute_result"
    },
    {
     "data": {
      "image/png": "[encoded data removed]",
      "text/plain": [
       "<matplotlib.figure.Figure at 0x15ecbc50>"
      ]
     },
     "metadata": {},
     "output_type": "display_data"
    }
   ],
   "source": [
    "df_original['entities_hashtags_count'].value_counts().plot(kind='bar')"
   ]
  },
  {
   "cell_type": "code",
   "execution_count": 81,
   "metadata": {
    "collapsed": false
   },
   "outputs": [
    {
     "name": "stdout",
     "output_type": "stream",
     "text": [
      "There are only 545 unique users in df_original\n",
      "In contrast, there are 3100 users in the full df\n",
      "\n",
      "It appears a smaller percentage of regular users drive traffic.\n"
     ]
    }
   ],
   "source": [
    "print \"There are only\", len(pd.unique(df_original.from_user_screen_name.ravel())), \"unique users in df_original\"\n",
    "print \"In contrast, there are\", len(pd.unique(df.from_user_screen_name.ravel())), \"users in the full df\"\n",
    "print \"\\nIt appears a smaller percentage of regular users drive traffic.\""
   ]
  },
  {
   "cell_type": "code",
   "execution_count": 82,
   "metadata": {
    "collapsed": false
   },
   "outputs": [
    {
     "data": {
      "text/plain": [
       "9                                         MontanaMoment\n",
       "10     sunset, Bitterroot, mtwx, Montana, MontanaMoment\n",
       "11     sunset, Bitterroot, mtwx, Montana, MontanaMoment\n",
       "22    montanamoment, lastbestbox, montana, montanahi...\n",
       "24                                        MontanaMoment\n",
       "Name: entities_hashtags, dtype: object"
      ]
     },
     "execution_count": 82,
     "metadata": {},
     "output_type": "execute_result"
    }
   ],
   "source": [
    "# Quick view of the entities_hashtags variable\n",
    "\n",
    "df_original['entities_hashtags'].head()"
   ]
  },
  {
   "cell_type": "code",
   "execution_count": 83,
   "metadata": {
    "collapsed": false
   },
   "outputs": [
    {
     "name": "stdout",
     "output_type": "stream",
     "text": [
      "unique hashtags are different between datasets:  True\n",
      "There are  78  fewer hashtags in the dataset without retweets (df_original)\n"
     ]
    }
   ],
   "source": [
    "print \"unique hashtags are different between datasets: \", len(pd.unique(df.entities_hashtags.ravel())) != len(pd.unique(df_original.entities_hashtags.ravel()))\n",
    "print \"There are \", len(pd.unique(df.entities_hashtags.ravel())) - len(pd.unique(df_original.entities_hashtags.ravel())), \" fewer hashtags in the dataset without retweets (df_original)\""
   ]
  },
  {
   "cell_type": "markdown",
   "metadata": {},
   "source": [
    "### By usage numbers:\n",
    "   ><p>    First, we'll create a list of all the hashtags, count how many times each is used based on values, generate percentages for how frequently most hashtags are used, and create a graph of the top ten hashtags to include in the paper."
   ]
  },
  {
   "cell_type": "code",
   "execution_count": 84,
   "metadata": {
    "collapsed": false
   },
   "outputs": [
    {
     "name": "stdout",
     "output_type": "stream",
     "text": [
      "6048\n"
     ]
    },
    {
     "data": {
      "text/plain": [
       "['#montanamoment', '#sunset', '#bitterroot', '#mtwx', '#montana']"
      ]
     },
     "execution_count": 84,
     "metadata": {},
     "output_type": "execute_result"
    }
   ],
   "source": [
    "# loops through the entities_hashtags variable. If cell != empty, separate hashtags, add # to beginning, remove\n",
    "# commas from end, make everything lowercase, add formated tag to list [original function thanks to gdSaxton @ https://github.com/gdsaxton/PANDAS]\n",
    "\n",
    "hashtag_list = []                          #CREATE EMPTY LIST \n",
    "for i in df_original.entities_hashtags:    #LOOP OVER EVERY CELL IN ENTITIES_HASHTAGS\n",
    "    if pd.notnull(i):                      #IF CELL NOT EMPTY\n",
    "        tags = i.split()                   #SPLIT EACH CELL INTO SEPARATE HASHTAGS\n",
    "        for t in tags:                     #FOR EACH TAG IN THE CELL\n",
    "            t = \"#\"+t                      #ADD '#' SYMBOL TO BEGINNING OF EACH TAG\n",
    "            t = t.replace(',', '')         #REMOVE COMMAS FROM END OF TAGS\n",
    "            t = t.lower()                  #MAKE TAG LOWER CASE\n",
    "            hashtag_list.append(t)         #ADD TAG TO OUR LIST\n",
    "print len(hashtag_list)                    #PRINT NUMBER OF ITEMS IN OUR LIST\n",
    "hashtag_list[:5]                          #SHOW THE FIRST 10 ITEMS OF THE LIST"
   ]
  },
  {
   "cell_type": "code",
   "execution_count": 85,
   "metadata": {
    "collapsed": false
   },
   "outputs": [
    {
     "data": {
      "text/plain": [
       "#montanamoment         1738\n",
       "#montana                669\n",
       "#photography            104\n",
       "#bozeman                102\n",
       "#bozemanmontana          73\n",
       "#homeimprovementsmt      73\n",
       "#mtwx                    72\n",
       "#missoula                58\n",
       "#birds                   51\n",
       "#winter                  49\n",
       "#bigskycountry           47\n",
       "#travel                  47\n",
       "#sunrise                 46\n",
       "#wildlife                40\n",
       "#msu                     40\n",
       "#sunset                  40\n",
       "#nature                  34\n",
       "#mountains               31\n",
       "#optoutside              28\n",
       "#snow                    28\n",
       "#spring                  26\n",
       "#wildandfree             25\n",
       "#bitterroot              23\n",
       "#bigsky                  21\n",
       "#glaciermt               20\n",
       "#longearedowl            19\n",
       "#owls                    18\n",
       "#ski                     17\n",
       "#clouds                  16\n",
       "#adventure               16\n",
       "                       ... \n",
       "#nationalforest           1\n",
       "#negotiation              1\n",
       "#registered               1\n",
       "#snowangel                1\n",
       "#goldenbears              1\n",
       "#dirtroads                1\n",
       "#teamtokina               1\n",
       "#streetphoto              1\n",
       "#betamotor                1\n",
       "#fitness                  1\n",
       "#swan                     1\n",
       "#pelicanpoint             1\n",
       "#theresistance            1\n",
       "#necklace                 1\n",
       "#seasonsgreetings         1\n",
       "#winters                  1\n",
       "#showdownmontana          1\n",
       "#inversion                1\n",
       "#sledding                 1\n",
       "#lifeinmt                 1\n",
       "#graphicdesign            1\n",
       "#youtube                  1\n",
       "#climbglacier             1\n",
       "#letbuffaloroam           1\n",
       "#peoplenotparty           1\n",
       "#winterexplorations       1\n",
       "#aldeahulago              1\n",
       "#mountainbiking           1\n",
       "#blackbeauties            1\n",
       "#406life                  1\n",
       "dtype: int64"
      ]
     },
     "execution_count": 85,
     "metadata": {},
     "output_type": "execute_result"
    }
   ],
   "source": [
    "# convert to a pandas Series object to use value_counts() function to count the values for each hashtag\n",
    "\n",
    "Series(hashtag_list).value_counts()"
   ]
  },
  {
   "cell_type": "code",
   "execution_count": 86,
   "metadata": {
    "collapsed": false
   },
   "outputs": [
    {
     "name": "stdout",
     "output_type": "stream",
     "text": [
      "1272\n"
     ]
    },
    {
     "data": {
      "text/html": [
       "<div>\n",
       "<table border=\"1\" class=\"dataframe\">\n",
       "  <thead>\n",
       "    <tr style=\"text-align: right;\">\n",
       "      <th></th>\n",
       "      <th>tag_cnt</th>\n",
       "    </tr>\n",
       "  </thead>\n",
       "  <tbody>\n",
       "    <tr>\n",
       "      <th>#montanamoment</th>\n",
       "      <td>1738</td>\n",
       "    </tr>\n",
       "    <tr>\n",
       "      <th>#montana</th>\n",
       "      <td>669</td>\n",
       "    </tr>\n",
       "    <tr>\n",
       "      <th>#photography</th>\n",
       "      <td>104</td>\n",
       "    </tr>\n",
       "    <tr>\n",
       "      <th>#bozeman</th>\n",
       "      <td>102</td>\n",
       "    </tr>\n",
       "    <tr>\n",
       "      <th>#bozemanmontana</th>\n",
       "      <td>73</td>\n",
       "    </tr>\n",
       "    <tr>\n",
       "      <th>#homeimprovementsmt</th>\n",
       "      <td>73</td>\n",
       "    </tr>\n",
       "    <tr>\n",
       "      <th>#mtwx</th>\n",
       "      <td>72</td>\n",
       "    </tr>\n",
       "    <tr>\n",
       "      <th>#missoula</th>\n",
       "      <td>58</td>\n",
       "    </tr>\n",
       "    <tr>\n",
       "      <th>#birds</th>\n",
       "      <td>51</td>\n",
       "    </tr>\n",
       "    <tr>\n",
       "      <th>#winter</th>\n",
       "      <td>49</td>\n",
       "    </tr>\n",
       "    <tr>\n",
       "      <th>#bigskycountry</th>\n",
       "      <td>47</td>\n",
       "    </tr>\n",
       "    <tr>\n",
       "      <th>#travel</th>\n",
       "      <td>47</td>\n",
       "    </tr>\n",
       "    <tr>\n",
       "      <th>#sunrise</th>\n",
       "      <td>46</td>\n",
       "    </tr>\n",
       "    <tr>\n",
       "      <th>#wildlife</th>\n",
       "      <td>40</td>\n",
       "    </tr>\n",
       "    <tr>\n",
       "      <th>#msu</th>\n",
       "      <td>40</td>\n",
       "    </tr>\n",
       "    <tr>\n",
       "      <th>#sunset</th>\n",
       "      <td>40</td>\n",
       "    </tr>\n",
       "    <tr>\n",
       "      <th>#nature</th>\n",
       "      <td>34</td>\n",
       "    </tr>\n",
       "    <tr>\n",
       "      <th>#mountains</th>\n",
       "      <td>31</td>\n",
       "    </tr>\n",
       "    <tr>\n",
       "      <th>#optoutside</th>\n",
       "      <td>28</td>\n",
       "    </tr>\n",
       "    <tr>\n",
       "      <th>#snow</th>\n",
       "      <td>28</td>\n",
       "    </tr>\n",
       "    <tr>\n",
       "      <th>#spring</th>\n",
       "      <td>26</td>\n",
       "    </tr>\n",
       "    <tr>\n",
       "      <th>#wildandfree</th>\n",
       "      <td>25</td>\n",
       "    </tr>\n",
       "    <tr>\n",
       "      <th>#bitterroot</th>\n",
       "      <td>23</td>\n",
       "    </tr>\n",
       "    <tr>\n",
       "      <th>#bigsky</th>\n",
       "      <td>21</td>\n",
       "    </tr>\n",
       "    <tr>\n",
       "      <th>#glaciermt</th>\n",
       "      <td>20</td>\n",
       "    </tr>\n",
       "    <tr>\n",
       "      <th>#longearedowl</th>\n",
       "      <td>19</td>\n",
       "    </tr>\n",
       "    <tr>\n",
       "      <th>#owls</th>\n",
       "      <td>18</td>\n",
       "    </tr>\n",
       "    <tr>\n",
       "      <th>#ski</th>\n",
       "      <td>17</td>\n",
       "    </tr>\n",
       "    <tr>\n",
       "      <th>#clouds</th>\n",
       "      <td>16</td>\n",
       "    </tr>\n",
       "    <tr>\n",
       "      <th>#adventure</th>\n",
       "      <td>16</td>\n",
       "    </tr>\n",
       "    <tr>\n",
       "      <th>...</th>\n",
       "      <td>...</td>\n",
       "    </tr>\n",
       "    <tr>\n",
       "      <th>#nationalforest</th>\n",
       "      <td>1</td>\n",
       "    </tr>\n",
       "    <tr>\n",
       "      <th>#negotiation</th>\n",
       "      <td>1</td>\n",
       "    </tr>\n",
       "    <tr>\n",
       "      <th>#registered</th>\n",
       "      <td>1</td>\n",
       "    </tr>\n",
       "    <tr>\n",
       "      <th>#snowangel</th>\n",
       "      <td>1</td>\n",
       "    </tr>\n",
       "    <tr>\n",
       "      <th>#goldenbears</th>\n",
       "      <td>1</td>\n",
       "    </tr>\n",
       "    <tr>\n",
       "      <th>#dirtroads</th>\n",
       "      <td>1</td>\n",
       "    </tr>\n",
       "    <tr>\n",
       "      <th>#teamtokina</th>\n",
       "      <td>1</td>\n",
       "    </tr>\n",
       "    <tr>\n",
       "      <th>#streetphoto</th>\n",
       "      <td>1</td>\n",
       "    </tr>\n",
       "    <tr>\n",
       "      <th>#betamotor</th>\n",
       "      <td>1</td>\n",
       "    </tr>\n",
       "    <tr>\n",
       "      <th>#fitness</th>\n",
       "      <td>1</td>\n",
       "    </tr>\n",
       "    <tr>\n",
       "      <th>#swan</th>\n",
       "      <td>1</td>\n",
       "    </tr>\n",
       "    <tr>\n",
       "      <th>#pelicanpoint</th>\n",
       "      <td>1</td>\n",
       "    </tr>\n",
       "    <tr>\n",
       "      <th>#theresistance</th>\n",
       "      <td>1</td>\n",
       "    </tr>\n",
       "    <tr>\n",
       "      <th>#necklace</th>\n",
       "      <td>1</td>\n",
       "    </tr>\n",
       "    <tr>\n",
       "      <th>#seasonsgreetings</th>\n",
       "      <td>1</td>\n",
       "    </tr>\n",
       "    <tr>\n",
       "      <th>#winters</th>\n",
       "      <td>1</td>\n",
       "    </tr>\n",
       "    <tr>\n",
       "      <th>#showdownmontana</th>\n",
       "      <td>1</td>\n",
       "    </tr>\n",
       "    <tr>\n",
       "      <th>#inversion</th>\n",
       "      <td>1</td>\n",
       "    </tr>\n",
       "    <tr>\n",
       "      <th>#sledding</th>\n",
       "      <td>1</td>\n",
       "    </tr>\n",
       "    <tr>\n",
       "      <th>#lifeinmt</th>\n",
       "      <td>1</td>\n",
       "    </tr>\n",
       "    <tr>\n",
       "      <th>#graphicdesign</th>\n",
       "      <td>1</td>\n",
       "    </tr>\n",
       "    <tr>\n",
       "      <th>#youtube</th>\n",
       "      <td>1</td>\n",
       "    </tr>\n",
       "    <tr>\n",
       "      <th>#climbglacier</th>\n",
       "      <td>1</td>\n",
       "    </tr>\n",
       "    <tr>\n",
       "      <th>#letbuffaloroam</th>\n",
       "      <td>1</td>\n",
       "    </tr>\n",
       "    <tr>\n",
       "      <th>#peoplenotparty</th>\n",
       "      <td>1</td>\n",
       "    </tr>\n",
       "    <tr>\n",
       "      <th>#winterexplorations</th>\n",
       "      <td>1</td>\n",
       "    </tr>\n",
       "    <tr>\n",
       "      <th>#aldeahulago</th>\n",
       "      <td>1</td>\n",
       "    </tr>\n",
       "    <tr>\n",
       "      <th>#mountainbiking</th>\n",
       "      <td>1</td>\n",
       "    </tr>\n",
       "    <tr>\n",
       "      <th>#blackbeauties</th>\n",
       "      <td>1</td>\n",
       "    </tr>\n",
       "    <tr>\n",
       "      <th>#406life</th>\n",
       "      <td>1</td>\n",
       "    </tr>\n",
       "  </tbody>\n",
       "</table>\n",
       "<p>1272 rows × 1 columns</p>\n",
       "</div>"
      ],
      "text/plain": [
       "                     tag_cnt\n",
       "#montanamoment          1738\n",
       "#montana                 669\n",
       "#photography             104\n",
       "#bozeman                 102\n",
       "#bozemanmontana           73\n",
       "#homeimprovementsmt       73\n",
       "#mtwx                     72\n",
       "#missoula                 58\n",
       "#birds                    51\n",
       "#winter                   49\n",
       "#bigskycountry            47\n",
       "#travel                   47\n",
       "#sunrise                  46\n",
       "#wildlife                 40\n",
       "#msu                      40\n",
       "#sunset                   40\n",
       "#nature                   34\n",
       "#mountains                31\n",
       "#optoutside               28\n",
       "#snow                     28\n",
       "#spring                   26\n",
       "#wildandfree              25\n",
       "#bitterroot               23\n",
       "#bigsky                   21\n",
       "#glaciermt                20\n",
       "#longearedowl             19\n",
       "#owls                     18\n",
       "#ski                      17\n",
       "#clouds                   16\n",
       "#adventure                16\n",
       "...                      ...\n",
       "#nationalforest            1\n",
       "#negotiation               1\n",
       "#registered                1\n",
       "#snowangel                 1\n",
       "#goldenbears               1\n",
       "#dirtroads                 1\n",
       "#teamtokina                1\n",
       "#streetphoto               1\n",
       "#betamotor                 1\n",
       "#fitness                   1\n",
       "#swan                      1\n",
       "#pelicanpoint              1\n",
       "#theresistance             1\n",
       "#necklace                  1\n",
       "#seasonsgreetings          1\n",
       "#winters                   1\n",
       "#showdownmontana           1\n",
       "#inversion                 1\n",
       "#sledding                  1\n",
       "#lifeinmt                  1\n",
       "#graphicdesign             1\n",
       "#youtube                   1\n",
       "#climbglacier              1\n",
       "#letbuffaloroam            1\n",
       "#peoplenotparty            1\n",
       "#winterexplorations        1\n",
       "#aldeahulago               1\n",
       "#mountainbiking            1\n",
       "#blackbeauties             1\n",
       "#406life                   1\n",
       "\n",
       "[1272 rows x 1 columns]"
      ]
     },
     "execution_count": 86,
     "metadata": {},
     "output_type": "execute_result"
    }
   ],
   "source": [
    "# we have 1,272 hashtags in the hash_cnt df (less than the 'count' of hashtags, because these are separated by unique value)\n",
    "\n",
    "hash_cnt = DataFrame(Series(hashtag_list).value_counts())\n",
    "hash_cnt.columns = ['tag_cnt']\n",
    "print len(hash_cnt)\n",
    "hash_cnt"
   ]
  },
  {
   "cell_type": "code",
   "execution_count": 87,
   "metadata": {
    "collapsed": true
   },
   "outputs": [],
   "source": [
    "# hash_cnt.to_csv('HT_no_retweets_hash_cnt.csv')"
   ]
  },
  {
   "cell_type": "markdown",
   "metadata": {},
   "source": [
    "### It seems the hashtags are not normally distributed\n",
    ">see (https://en.wikipedia.org/wiki/Power_law)"
   ]
  },
  {
   "cell_type": "code",
   "execution_count": 88,
   "metadata": {
    "collapsed": false
   },
   "outputs": [
    {
     "data": {
      "text/plain": [
       "<matplotlib.axes._subplots.AxesSubplot at 0x16edf8d0>"
      ]
     },
     "execution_count": 88,
     "metadata": {},
     "output_type": "execute_result"
    },
    {
     "data": {
      "image/png": "[encoded data removed]",
      "text/plain": [
       "<matplotlib.figure.Figure at 0x1056df60>"
      ]
     },
     "metadata": {},
     "output_type": "display_data"
    }
   ],
   "source": [
    "hash_cnt['tag_cnt'].plot()"
   ]
  },
  {
   "cell_type": "code",
   "execution_count": 89,
   "metadata": {
    "collapsed": false
   },
   "outputs": [
    {
     "data": {
      "text/plain": [
       "1       0.626572\n",
       "2       0.150157\n",
       "3       0.072327\n",
       "4       0.040881\n",
       "5       0.023585\n",
       "6       0.017296\n",
       "7       0.017296\n",
       "8       0.008648\n",
       "10      0.004717\n",
       "9       0.003931\n",
       "16      0.003145\n",
       "40      0.002358\n",
       "11      0.002358\n",
       "12      0.002358\n",
       "73      0.001572\n",
       "47      0.001572\n",
       "28      0.001572\n",
       "13      0.001572\n",
       "14      0.001572\n",
       "15      0.001572\n",
       "17      0.000786\n",
       "1738    0.000786\n",
       "18      0.000786\n",
       "46      0.000786\n",
       "104     0.000786\n",
       "102     0.000786\n",
       "72      0.000786\n",
       "58      0.000786\n",
       "51      0.000786\n",
       "49      0.000786\n",
       "34      0.000786\n",
       "19      0.000786\n",
       "31      0.000786\n",
       "26      0.000786\n",
       "25      0.000786\n",
       "23      0.000786\n",
       "21      0.000786\n",
       "669     0.000786\n",
       "20      0.000786\n",
       "Name: tag_cnt, dtype: float64"
      ]
     },
     "execution_count": 89,
     "metadata": {},
     "output_type": "execute_result"
    }
   ],
   "source": [
    "# value_counts() shows the number of times each hashtag is used. The normalize parameter displays the percentage\n",
    "# i.e., 63% of the hashtags are used only once & 15 percent are used only twice. Only 7% are used thrice. less than 1% are used\n",
    "# more than 8 times\n",
    "\n",
    "hash_cnt['tag_cnt'].value_counts(normalize=True)"
   ]
  },
  {
   "cell_type": "code",
   "execution_count": 90,
   "metadata": {
    "collapsed": false
   },
   "outputs": [
    {
     "data": {
      "image/png": "[encoded data removed]",
      "text/plain": [
       "<matplotlib.figure.Figure at 0x16ffa198>"
      ]
     },
     "metadata": {},
     "output_type": "display_data"
    }
   ],
   "source": [
    "# among the original tweets, 'montana' is used frequently in association with 'montanamoment',\n",
    "# but there are no other strong patterns\n",
    "\n",
    "hash_cnt['tag_cnt'][:10].plot(kind='bar')\n",
    "axhline(0, color='k')\n",
    "title('Top 10 hashtags', fontsize=20)\n",
    "xticks(fontsize = 12,rotation = 20, ha='right')\n",
    "# savefig('graph_HT_hashtags_no_retweets_top_ten_hashtags.png', bbox_inches='tight', dpi=300, format='png')\n",
    "show()"
   ]
  },
  {
   "cell_type": "markdown",
   "metadata": {
    "collapsed": true
   },
   "source": [
    "<br>\n",
    "<br>\n",
    "<br>\n",
    "<br>\n",
    "<br>\n",
    "# Now, Let's do the same analysis using only retweets. \n",
    "---\n",
    "\n",
    ">The easiest way to do this is by modifying which dataframe is imported in the beginning of the script. If you would like to recreate this with another file, you would simply insert your file in the dataframe assignment  `df_new = pd.read_pickle('your_version_here.pkl')`\n",
    "<br><br>\n",
    "This is how we'll analyze hashtags for the retweets below. Since we have markdown cells & other study-specific informating hard-coded into these scripts, it makes sense to present all the information independently. This also releases others from the burden of downloading Jupyter, modifying, and testing scripts to recreate aspects of the study. \n",
    "<br><br>\n",
    "However, the point is that the power of creating scripts such as this is that any version of the dataset (if it has the same variables called, etc.) can be tested according to specifications previously created. Jupyter notebooks are particularly useful for the ability to style the presentation, and in allowing non-technical users to view the research processes without needing to run a script.\n",
    "<br>\n",
    "---\n",
    "\n"
   ]
  },
  {
   "cell_type": "markdown",
   "metadata": {},
   "source": [
    "## Hashtags represented in the dataset (Retweets only)\n",
    "\n",
    "<br>\n",
    "><p style='font-size: medium; '>It will be useful to get a sense of which/how many hashtags are used in conjunction with *#MontanaMoment*. Of particular interest is whether or not there is any great divergence in hashtag use between original tweets and retweets. If there are only minimal differences, there will be more justification for focusing primarily on original tweets in trying to determine the characteristics of the electronic word-of-mouth associated with Montana as a tourist destination.</p> \n",
    "<br><br>\n",
    "<p style='font-size: medium'>We've already imported the packages we'll use & we already have the dataframe we'll use to create the retweets (`df`). Just like we built `df_original` from `df`, we'll create `df_retweets` to isolate retweets from original tweets</p>"
   ]
  },
  {
   "cell_type": "code",
   "execution_count": 91,
   "metadata": {
    "collapsed": false
   },
   "outputs": [
    {
     "name": "stdout",
     "output_type": "stream",
     "text": [
      "7669 cases\n"
     ]
    },
    {
     "data": {
      "text/html": [
       "<div>\n",
       "<table border=\"1\" class=\"dataframe\">\n",
       "  <thead>\n",
       "    <tr style=\"text-align: right;\">\n",
       "      <th></th>\n",
       "      <th>id</th>\n",
       "      <th>hash_select</th>\n",
       "      <th>tweet_id</th>\n",
       "      <th>inserted_date</th>\n",
       "      <th>truncated</th>\n",
       "      <th>language</th>\n",
       "      <th>possibly_sensitive</th>\n",
       "      <th>coordinates</th>\n",
       "      <th>retweeted_status</th>\n",
       "      <th>created_at_text</th>\n",
       "      <th>created_at</th>\n",
       "      <th>content</th>\n",
       "      <th>from_user_screen_name</th>\n",
       "      <th>from_user_id</th>\n",
       "      <th>from_user_followers_count</th>\n",
       "      <th>from_user_friends_count</th>\n",
       "      <th>from_user_listed_count</th>\n",
       "      <th>from_user_statuses_count</th>\n",
       "      <th>from_user_description</th>\n",
       "      <th>from_user_location</th>\n",
       "      <th>from_user_created_at</th>\n",
       "      <th>retweet_count</th>\n",
       "      <th>entities_urls</th>\n",
       "      <th>entities_urls_count</th>\n",
       "      <th>entities_hashtags</th>\n",
       "      <th>entities_hashtags_count</th>\n",
       "      <th>entities_mentions</th>\n",
       "      <th>entities_mentions_count</th>\n",
       "      <th>in_reply_to_screen_name</th>\n",
       "      <th>in_reply_to_status_id</th>\n",
       "      <th>source</th>\n",
       "      <th>entities_expanded_urls</th>\n",
       "      <th>json_output</th>\n",
       "      <th>entities_media_count</th>\n",
       "      <th>media_expanded_url</th>\n",
       "      <th>media_url</th>\n",
       "      <th>media_type</th>\n",
       "      <th>video_link</th>\n",
       "      <th>photo_link</th>\n",
       "      <th>twitpic</th>\n",
       "    </tr>\n",
       "  </thead>\n",
       "  <tbody>\n",
       "    <tr>\n",
       "      <th>0</th>\n",
       "      <td>2546</td>\n",
       "      <td>%2523montanamoment</td>\n",
       "      <td>8.550000e+17</td>\n",
       "      <td>35:55.8</td>\n",
       "      <td>0</td>\n",
       "      <td>en</td>\n",
       "      <td>NaN</td>\n",
       "      <td>NaN</td>\n",
       "      <td>THIS IS A RETWEET --&gt; DOUBLE-CHECK JSON</td>\n",
       "      <td>Fri Apr 21 05:32:02 +0000 2017</td>\n",
       "      <td>D</td>\n",
       "      <td>RT @LeonKauffman: The night sky is a fascinati...</td>\n",
       "      <td>J_M1812</td>\n",
       "      <td>245570167.0</td>\n",
       "      <td>261</td>\n",
       "      <td>691</td>\n",
       "      <td>10</td>\n",
       "      <td>2061</td>\n",
       "      <td>Writer, editor, aspiring photographer. Native ...</td>\n",
       "      <td>Montana</td>\n",
       "      <td>Tue Feb 01 00:22:51 +0000 2011</td>\n",
       "      <td>4</td>\n",
       "      <td>NaN</td>\n",
       "      <td>0</td>\n",
       "      <td>MontanaMoment</td>\n",
       "      <td>1</td>\n",
       "      <td>LeonKauffman</td>\n",
       "      <td>1</td>\n",
       "      <td>NaN</td>\n",
       "      <td>NaN</td>\n",
       "      <td>&lt;a href=\"http://twitter.com/download/iphone\" r...</td>\n",
       "      <td>NaN</td>\n",
       "      <td>{u'contributors': None, u'truncated': False, u...</td>\n",
       "      <td>NaN</td>\n",
       "      <td>NaN</td>\n",
       "      <td>NaN</td>\n",
       "      <td>NaN</td>\n",
       "      <td>0</td>\n",
       "      <td>0</td>\n",
       "      <td>0</td>\n",
       "    </tr>\n",
       "  </tbody>\n",
       "</table>\n",
       "</div>"
      ],
      "text/plain": [
       "     id         hash_select      tweet_id inserted_date  truncated language  \\\n",
       "0  2546  %2523montanamoment  8.550000e+17       35:55.8          0       en   \n",
       "\n",
       "   possibly_sensitive coordinates                         retweeted_status  \\\n",
       "0                 NaN         NaN  THIS IS A RETWEET --> DOUBLE-CHECK JSON   \n",
       "\n",
       "                  created_at_text created_at  \\\n",
       "0  Fri Apr 21 05:32:02 +0000 2017          D   \n",
       "\n",
       "                                             content from_user_screen_name  \\\n",
       "0  RT @LeonKauffman: The night sky is a fascinati...               J_M1812   \n",
       "\n",
       "   from_user_id  from_user_followers_count  from_user_friends_count  \\\n",
       "0   245570167.0                        261                      691   \n",
       "\n",
       "   from_user_listed_count  from_user_statuses_count  \\\n",
       "0                      10                      2061   \n",
       "\n",
       "                               from_user_description from_user_location  \\\n",
       "0  Writer, editor, aspiring photographer. Native ...            Montana   \n",
       "\n",
       "             from_user_created_at  retweet_count entities_urls  \\\n",
       "0  Tue Feb 01 00:22:51 +0000 2011              4           NaN   \n",
       "\n",
       "   entities_urls_count entities_hashtags  entities_hashtags_count  \\\n",
       "0                    0     MontanaMoment                        1   \n",
       "\n",
       "  entities_mentions  entities_mentions_count in_reply_to_screen_name  \\\n",
       "0      LeonKauffman                        1                     NaN   \n",
       "\n",
       "   in_reply_to_status_id                                             source  \\\n",
       "0                    NaN  <a href=\"http://twitter.com/download/iphone\" r...   \n",
       "\n",
       "  entities_expanded_urls                                        json_output  \\\n",
       "0                    NaN  {u'contributors': None, u'truncated': False, u...   \n",
       "\n",
       "   entities_media_count media_expanded_url media_url media_type  video_link  \\\n",
       "0                   NaN                NaN       NaN        NaN           0   \n",
       "\n",
       "   photo_link  twitpic  \n",
       "0           0        0  "
      ]
     },
     "execution_count": 91,
     "metadata": {},
     "output_type": "execute_result"
    }
   ],
   "source": [
    "# verify that we have the right df:\n",
    "print len(df), 'cases'\n",
    "df.head(1)"
   ]
  },
  {
   "cell_type": "code",
   "execution_count": 92,
   "metadata": {
    "collapsed": false
   },
   "outputs": [
    {
     "name": "stdout",
     "output_type": "stream",
     "text": [
      "7669\n",
      "5482\n",
      "2187\n"
     ]
    },
    {
     "data": {
      "text/html": [
       "<div>\n",
       "<table border=\"1\" class=\"dataframe\">\n",
       "  <thead>\n",
       "    <tr style=\"text-align: right;\">\n",
       "      <th></th>\n",
       "      <th>id</th>\n",
       "      <th>hash_select</th>\n",
       "      <th>tweet_id</th>\n",
       "      <th>inserted_date</th>\n",
       "      <th>truncated</th>\n",
       "      <th>language</th>\n",
       "      <th>possibly_sensitive</th>\n",
       "      <th>coordinates</th>\n",
       "      <th>retweeted_status</th>\n",
       "      <th>created_at_text</th>\n",
       "      <th>created_at</th>\n",
       "      <th>content</th>\n",
       "      <th>from_user_screen_name</th>\n",
       "      <th>from_user_id</th>\n",
       "      <th>from_user_followers_count</th>\n",
       "      <th>from_user_friends_count</th>\n",
       "      <th>from_user_listed_count</th>\n",
       "      <th>from_user_statuses_count</th>\n",
       "      <th>from_user_description</th>\n",
       "      <th>from_user_location</th>\n",
       "      <th>from_user_created_at</th>\n",
       "      <th>retweet_count</th>\n",
       "      <th>entities_urls</th>\n",
       "      <th>entities_urls_count</th>\n",
       "      <th>entities_hashtags</th>\n",
       "      <th>entities_hashtags_count</th>\n",
       "      <th>entities_mentions</th>\n",
       "      <th>entities_mentions_count</th>\n",
       "      <th>in_reply_to_screen_name</th>\n",
       "      <th>in_reply_to_status_id</th>\n",
       "      <th>source</th>\n",
       "      <th>entities_expanded_urls</th>\n",
       "      <th>json_output</th>\n",
       "      <th>entities_media_count</th>\n",
       "      <th>media_expanded_url</th>\n",
       "      <th>media_url</th>\n",
       "      <th>media_type</th>\n",
       "      <th>video_link</th>\n",
       "      <th>photo_link</th>\n",
       "      <th>twitpic</th>\n",
       "    </tr>\n",
       "  </thead>\n",
       "  <tbody>\n",
       "    <tr>\n",
       "      <th>0</th>\n",
       "      <td>2546</td>\n",
       "      <td>%2523montanamoment</td>\n",
       "      <td>8.550000e+17</td>\n",
       "      <td>35:55.8</td>\n",
       "      <td>0</td>\n",
       "      <td>en</td>\n",
       "      <td>NaN</td>\n",
       "      <td>NaN</td>\n",
       "      <td>THIS IS A RETWEET --&gt; DOUBLE-CHECK JSON</td>\n",
       "      <td>Fri Apr 21 05:32:02 +0000 2017</td>\n",
       "      <td>D</td>\n",
       "      <td>RT @LeonKauffman: The night sky is a fascinati...</td>\n",
       "      <td>J_M1812</td>\n",
       "      <td>245570167.0</td>\n",
       "      <td>261</td>\n",
       "      <td>691</td>\n",
       "      <td>10</td>\n",
       "      <td>2061</td>\n",
       "      <td>Writer, editor, aspiring photographer. Native ...</td>\n",
       "      <td>Montana</td>\n",
       "      <td>Tue Feb 01 00:22:51 +0000 2011</td>\n",
       "      <td>4</td>\n",
       "      <td>NaN</td>\n",
       "      <td>0</td>\n",
       "      <td>MontanaMoment</td>\n",
       "      <td>1</td>\n",
       "      <td>LeonKauffman</td>\n",
       "      <td>1</td>\n",
       "      <td>NaN</td>\n",
       "      <td>NaN</td>\n",
       "      <td>&lt;a href=\"http://twitter.com/download/iphone\" r...</td>\n",
       "      <td>NaN</td>\n",
       "      <td>{u'contributors': None, u'truncated': False, u...</td>\n",
       "      <td>NaN</td>\n",
       "      <td>NaN</td>\n",
       "      <td>NaN</td>\n",
       "      <td>NaN</td>\n",
       "      <td>0</td>\n",
       "      <td>0</td>\n",
       "      <td>0</td>\n",
       "    </tr>\n",
       "  </tbody>\n",
       "</table>\n",
       "</div>"
      ],
      "text/plain": [
       "     id         hash_select      tweet_id inserted_date  truncated language  \\\n",
       "0  2546  %2523montanamoment  8.550000e+17       35:55.8          0       en   \n",
       "\n",
       "   possibly_sensitive coordinates                         retweeted_status  \\\n",
       "0                 NaN         NaN  THIS IS A RETWEET --> DOUBLE-CHECK JSON   \n",
       "\n",
       "                  created_at_text created_at  \\\n",
       "0  Fri Apr 21 05:32:02 +0000 2017          D   \n",
       "\n",
       "                                             content from_user_screen_name  \\\n",
       "0  RT @LeonKauffman: The night sky is a fascinati...               J_M1812   \n",
       "\n",
       "   from_user_id  from_user_followers_count  from_user_friends_count  \\\n",
       "0   245570167.0                        261                      691   \n",
       "\n",
       "   from_user_listed_count  from_user_statuses_count  \\\n",
       "0                      10                      2061   \n",
       "\n",
       "                               from_user_description from_user_location  \\\n",
       "0  Writer, editor, aspiring photographer. Native ...            Montana   \n",
       "\n",
       "             from_user_created_at  retweet_count entities_urls  \\\n",
       "0  Tue Feb 01 00:22:51 +0000 2011              4           NaN   \n",
       "\n",
       "   entities_urls_count entities_hashtags  entities_hashtags_count  \\\n",
       "0                    0     MontanaMoment                        1   \n",
       "\n",
       "  entities_mentions  entities_mentions_count in_reply_to_screen_name  \\\n",
       "0      LeonKauffman                        1                     NaN   \n",
       "\n",
       "   in_reply_to_status_id                                             source  \\\n",
       "0                    NaN  <a href=\"http://twitter.com/download/iphone\" r...   \n",
       "\n",
       "  entities_expanded_urls                                        json_output  \\\n",
       "0                    NaN  {u'contributors': None, u'truncated': False, u...   \n",
       "\n",
       "   entities_media_count media_expanded_url media_url media_type  video_link  \\\n",
       "0                   NaN                NaN       NaN        NaN           0   \n",
       "\n",
       "   photo_link  twitpic  \n",
       "0           0        0  "
      ]
     },
     "execution_count": 92,
     "metadata": {},
     "output_type": "execute_result"
    }
   ],
   "source": [
    "df_retweets = df[df['retweeted_status'] == 'THIS IS A RETWEET --> DOUBLE-CHECK JSON']\n",
    "print len(df)\n",
    "print len(df_retweets)\n",
    "print len (df) - len(df_retweets)\n",
    "df_retweets.head(1)"
   ]
  },
  {
   "cell_type": "markdown",
   "metadata": {},
   "source": [
    "### We now have the three dataframes used in the hashtag comparisons:"
   ]
  },
  {
   "cell_type": "code",
   "execution_count": 93,
   "metadata": {
    "collapsed": false
   },
   "outputs": [
    {
     "name": "stdout",
     "output_type": "stream",
     "text": [
      "df: 7669 cases\n",
      "df_original: 1869 cases\n",
      "df_retweets: 5482 cases\n"
     ]
    }
   ],
   "source": [
    "print 'df:', len(df), 'cases'\n",
    "print 'df_original:', len(df_original), 'cases'\n",
    "print 'df_retweets:', len(df_retweets), 'cases' # since exception_mag has no retweets, there are no cases to drop from df_retweets"
   ]
  },
  {
   "cell_type": "code",
   "execution_count": 94,
   "metadata": {
    "collapsed": true
   },
   "outputs": [],
   "source": [
    "# save this df to import later\n",
    "#df_retweets.to_pickle('a_HT_retweetsONLY.pkl')"
   ]
  },
  {
   "cell_type": "markdown",
   "metadata": {},
   "source": [
    "### Let's examine the hashtag characteristics of our retweet-only dataframe"
   ]
  },
  {
   "cell_type": "code",
   "execution_count": 95,
   "metadata": {
    "collapsed": false
   },
   "outputs": [
    {
     "data": {
      "text/plain": [
       "count    5482.000000\n",
       "mean        1.778366\n",
       "std         1.417545\n",
       "min         1.000000\n",
       "25%         1.000000\n",
       "50%         1.000000\n",
       "75%         2.000000\n",
       "max        11.000000\n",
       "Name: entities_hashtags_count, dtype: float64"
      ]
     },
     "execution_count": 95,
     "metadata": {},
     "output_type": "execute_result"
    }
   ],
   "source": [
    "# entitties_hashtags_count is created from the Twitter's entities_hashtags variable, which includes all hashtags included\n",
    "# in each tweet. entities_hashtags_count is the count of tweets in each hashtag\n",
    "\n",
    "\n",
    "df_retweets['entities_hashtags_count'].describe()"
   ]
  },
  {
   "cell_type": "code",
   "execution_count": 96,
   "metadata": {
    "collapsed": false
   },
   "outputs": [
    {
     "data": {
      "text/plain": [
       "<matplotlib.axes._subplots.AxesSubplot at 0x16fff278>"
      ]
     },
     "execution_count": 96,
     "metadata": {},
     "output_type": "execute_result"
    },
    {
     "data": {
      "image/png": "[encoded data removed]",
      "text/plain": [
       "<matplotlib.figure.Figure at 0x17158dd8>"
      ]
     },
     "metadata": {},
     "output_type": "display_data"
    }
   ],
   "source": [
    "# frequency of number of hashtags used in each retweet \n",
    "\n",
    "# a single hashtag is still the most popular (no surprises since tweet selection is predicated on the inclusion of #MontanaMoment)\n",
    "\n",
    "df_retweets['entities_hashtags_count'].value_counts().plot(kind='bar')"
   ]
  },
  {
   "cell_type": "code",
   "execution_count": 97,
   "metadata": {
    "collapsed": false
   },
   "outputs": [
    {
     "name": "stdout",
     "output_type": "stream",
     "text": [
      "There are only  2645  unique users in df_retweets\n",
      "There are 3100 users in the full df\n"
     ]
    }
   ],
   "source": [
    "print \"There are only \", len(pd.unique(df_retweets.from_user_screen_name.ravel())), \" unique users in df_retweets\"\n",
    "print \"There are\", len(pd.unique(df.from_user_screen_name.ravel())), \"users in the full df\""
   ]
  },
  {
   "cell_type": "code",
   "execution_count": 98,
   "metadata": {
    "collapsed": false
   },
   "outputs": [
    {
     "name": "stdout",
     "output_type": "stream",
     "text": [
      "9749\n"
     ]
    },
    {
     "data": {
      "text/plain": [
       "['#montanamoment',\n",
       " '#montanamoment',\n",
       " '#montanamoment',\n",
       " '#montanamoment',\n",
       " '#montanamoment',\n",
       " '#montanamoment',\n",
       " '#montanamoment',\n",
       " '#snow',\n",
       " '#spring',\n",
       " '#montanamoment']"
      ]
     },
     "execution_count": 98,
     "metadata": {},
     "output_type": "execute_result"
    }
   ],
   "source": [
    "# loops through the entities_hashtags variable. If cell != empty, separate hashtags, add # to beginning, remove\n",
    "# commas from end, make everything lowercase, add formated tag to list\n",
    "\n",
    "# we have a total of 9,749 hashtags\n",
    "\n",
    "hashtag_list = []                          #CREATE EMPTY LIST \n",
    "for i in df_retweets.entities_hashtags:    #LOOP OVER EVERY CELL IN ENTITIES_HASHTAGS\n",
    "    if pd.notnull(i):                      #IF CELL NOT EMPTY\n",
    "        tags = i.split()                   #SPLIT EACH CELL INTO SEPARATE HASHTAGS\n",
    "        for t in tags:                     #FOR EACH TAG IN THE CELL\n",
    "            t = \"#\"+t                      #ADD '#' SYMBOL TO BEGINNING OF EACH TAG\n",
    "            t = t.replace(',', '')         #REMOVE COMMAS FROM END OF TAGS\n",
    "            t = t.lower()                  #MAKE TAG LOWER CASE\n",
    "            hashtag_list.append(t)         #ADD TAG TO OUR LIST\n",
    "print len(hashtag_list)                    #PRINT NUMBER OF ITEMS IN OUR LIST\n",
    "hashtag_list[:10]                          #SHOW THE FIRST 10 ITEMS OF THE LIST"
   ]
  },
  {
   "cell_type": "code",
   "execution_count": 99,
   "metadata": {
    "collapsed": false
   },
   "outputs": [
    {
     "name": "stdout",
     "output_type": "stream",
     "text": [
      "426\n"
     ]
    },
    {
     "data": {
      "text/html": [
       "<div>\n",
       "<table border=\"1\" class=\"dataframe\">\n",
       "  <thead>\n",
       "    <tr style=\"text-align: right;\">\n",
       "      <th></th>\n",
       "      <th>tag_cnt</th>\n",
       "    </tr>\n",
       "  </thead>\n",
       "  <tbody>\n",
       "    <tr>\n",
       "      <th>#montanamoment</th>\n",
       "      <td>5482</td>\n",
       "    </tr>\n",
       "    <tr>\n",
       "      <th>#montana</th>\n",
       "      <td>646</td>\n",
       "    </tr>\n",
       "    <tr>\n",
       "      <th>#phenomonal</th>\n",
       "      <td>143</td>\n",
       "    </tr>\n",
       "    <tr>\n",
       "      <th>#missoula</th>\n",
       "      <td>119</td>\n",
       "    </tr>\n",
       "    <tr>\n",
       "      <th>#winter</th>\n",
       "      <td>115</td>\n",
       "    </tr>\n",
       "    <tr>\n",
       "      <th>#calminthestorm</th>\n",
       "      <td>112</td>\n",
       "    </tr>\n",
       "    <tr>\n",
       "      <th>#snowywalks</th>\n",
       "      <td>112</td>\n",
       "    </tr>\n",
       "    <tr>\n",
       "      <th>#photography</th>\n",
       "      <td>103</td>\n",
       "    </tr>\n",
       "    <tr>\n",
       "      <th>#canonphotography</th>\n",
       "      <td>87</td>\n",
       "    </tr>\n",
       "    <tr>\n",
       "      <th>#mikewilliamsphotography</th>\n",
       "      <td>78</td>\n",
       "    </tr>\n",
       "    <tr>\n",
       "      <th>#bedandbreakfast</th>\n",
       "      <td>75</td>\n",
       "    </tr>\n",
       "    <tr>\n",
       "      <th>#snowscene</th>\n",
       "      <td>71</td>\n",
       "    </tr>\n",
       "    <tr>\n",
       "      <th>#wildlife</th>\n",
       "      <td>70</td>\n",
       "    </tr>\n",
       "    <tr>\n",
       "      <th>#travel</th>\n",
       "      <td>69</td>\n",
       "    </tr>\n",
       "    <tr>\n",
       "      <th>#sunrise</th>\n",
       "      <td>65</td>\n",
       "    </tr>\n",
       "    <tr>\n",
       "      <th>#glaciermt</th>\n",
       "      <td>60</td>\n",
       "    </tr>\n",
       "    <tr>\n",
       "      <th>#yourshot</th>\n",
       "      <td>52</td>\n",
       "    </tr>\n",
       "    <tr>\n",
       "      <th>#spring</th>\n",
       "      <td>50</td>\n",
       "    </tr>\n",
       "    <tr>\n",
       "      <th>#bigskycountry</th>\n",
       "      <td>49</td>\n",
       "    </tr>\n",
       "    <tr>\n",
       "      <th>#sunset</th>\n",
       "      <td>45</td>\n",
       "    </tr>\n",
       "    <tr>\n",
       "      <th>#snow</th>\n",
       "      <td>43</td>\n",
       "    </tr>\n",
       "    <tr>\n",
       "      <th>#snowy</th>\n",
       "      <td>42</td>\n",
       "    </tr>\n",
       "    <tr>\n",
       "      <th>#stellersjay</th>\n",
       "      <td>39</td>\n",
       "    </tr>\n",
       "    <tr>\n",
       "      <th>#youtube</th>\n",
       "      <td>39</td>\n",
       "    </tr>\n",
       "    <tr>\n",
       "      <th>#amazing</th>\n",
       "      <td>38</td>\n",
       "    </tr>\n",
       "    <tr>\n",
       "      <th>#highcountry</th>\n",
       "      <td>37</td>\n",
       "    </tr>\n",
       "    <tr>\n",
       "      <th>#birding</th>\n",
       "      <td>34</td>\n",
       "    </tr>\n",
       "    <tr>\n",
       "      <th>#visitmontana</th>\n",
       "      <td>31</td>\n",
       "    </tr>\n",
       "    <tr>\n",
       "      <th>#birds</th>\n",
       "      <td>30</td>\n",
       "    </tr>\n",
       "    <tr>\n",
       "      <th>#waitingforthegroundhog</th>\n",
       "      <td>28</td>\n",
       "    </tr>\n",
       "    <tr>\n",
       "      <th>...</th>\n",
       "      <td>...</td>\n",
       "    </tr>\n",
       "    <tr>\n",
       "      <th>#cowboys</th>\n",
       "      <td>1</td>\n",
       "    </tr>\n",
       "    <tr>\n",
       "      <th>#smalltownsbigeats</th>\n",
       "      <td>1</td>\n",
       "    </tr>\n",
       "    <tr>\n",
       "      <th>#sunrise_sunsets_aroundworld</th>\n",
       "      <td>1</td>\n",
       "    </tr>\n",
       "    <tr>\n",
       "      <th>#montanastate</th>\n",
       "      <td>1</td>\n",
       "    </tr>\n",
       "    <tr>\n",
       "      <th>#roadwarrior_dispatch</th>\n",
       "      <td>1</td>\n",
       "    </tr>\n",
       "    <tr>\n",
       "      <th>#themadisonian</th>\n",
       "      <td>1</td>\n",
       "    </tr>\n",
       "    <tr>\n",
       "      <th>#snowmobile</th>\n",
       "      <td>1</td>\n",
       "    </tr>\n",
       "    <tr>\n",
       "      <th>#picoftheday</th>\n",
       "      <td>1</td>\n",
       "    </tr>\n",
       "    <tr>\n",
       "      <th>#golf</th>\n",
       "      <td>1</td>\n",
       "    </tr>\n",
       "    <tr>\n",
       "      <th>#greatfalls</th>\n",
       "      <td>1</td>\n",
       "    </tr>\n",
       "    <tr>\n",
       "      <th>#rams</th>\n",
       "      <td>1</td>\n",
       "    </tr>\n",
       "    <tr>\n",
       "      <th>#peace</th>\n",
       "      <td>1</td>\n",
       "    </tr>\n",
       "    <tr>\n",
       "      <th>#空</th>\n",
       "      <td>1</td>\n",
       "    </tr>\n",
       "    <tr>\n",
       "      <th>#wednesday</th>\n",
       "      <td>1</td>\n",
       "    </tr>\n",
       "    <tr>\n",
       "      <th>#lovewhatyoudo</th>\n",
       "      <td>1</td>\n",
       "    </tr>\n",
       "    <tr>\n",
       "      <th>#frost</th>\n",
       "      <td>1</td>\n",
       "    </tr>\n",
       "    <tr>\n",
       "      <th>#birdphotography</th>\n",
       "      <td>1</td>\n",
       "    </tr>\n",
       "    <tr>\n",
       "      <th>#sport</th>\n",
       "      <td>1</td>\n",
       "    </tr>\n",
       "    <tr>\n",
       "      <th>#tourism</th>\n",
       "      <td>1</td>\n",
       "    </tr>\n",
       "    <tr>\n",
       "      <th>#tokina</th>\n",
       "      <td>1</td>\n",
       "    </tr>\n",
       "    <tr>\n",
       "      <th>#moment</th>\n",
       "      <td>1</td>\n",
       "    </tr>\n",
       "    <tr>\n",
       "      <th>#blacklabsmatter</th>\n",
       "      <td>1</td>\n",
       "    </tr>\n",
       "    <tr>\n",
       "      <th>#bringon2017</th>\n",
       "      <td>1</td>\n",
       "    </tr>\n",
       "    <tr>\n",
       "      <th>#sciencemarchmaryland</th>\n",
       "      <td>1</td>\n",
       "    </tr>\n",
       "    <tr>\n",
       "      <th>#springsnow</th>\n",
       "      <td>1</td>\n",
       "    </tr>\n",
       "    <tr>\n",
       "      <th>#love</th>\n",
       "      <td>1</td>\n",
       "    </tr>\n",
       "    <tr>\n",
       "      <th>#womenthathike</th>\n",
       "      <td>1</td>\n",
       "    </tr>\n",
       "    <tr>\n",
       "      <th>#sheexplores</th>\n",
       "      <td>1</td>\n",
       "    </tr>\n",
       "    <tr>\n",
       "      <th>#lovelive</th>\n",
       "      <td>1</td>\n",
       "    </tr>\n",
       "    <tr>\n",
       "      <th>#skimontana</th>\n",
       "      <td>1</td>\n",
       "    </tr>\n",
       "  </tbody>\n",
       "</table>\n",
       "<p>426 rows × 1 columns</p>\n",
       "</div>"
      ],
      "text/plain": [
       "                              tag_cnt\n",
       "#montanamoment                   5482\n",
       "#montana                          646\n",
       "#phenomonal                       143\n",
       "#missoula                         119\n",
       "#winter                           115\n",
       "#calminthestorm                   112\n",
       "#snowywalks                       112\n",
       "#photography                      103\n",
       "#canonphotography                  87\n",
       "#mikewilliamsphotography           78\n",
       "#bedandbreakfast                   75\n",
       "#snowscene                         71\n",
       "#wildlife                          70\n",
       "#travel                            69\n",
       "#sunrise                           65\n",
       "#glaciermt                         60\n",
       "#yourshot                          52\n",
       "#spring                            50\n",
       "#bigskycountry                     49\n",
       "#sunset                            45\n",
       "#snow                              43\n",
       "#snowy                             42\n",
       "#stellersjay                       39\n",
       "#youtube                           39\n",
       "#amazing                           38\n",
       "#highcountry                       37\n",
       "#birding                           34\n",
       "#visitmontana                      31\n",
       "#birds                             30\n",
       "#waitingforthegroundhog            28\n",
       "...                               ...\n",
       "#cowboys                            1\n",
       "#smalltownsbigeats                  1\n",
       "#sunrise_sunsets_aroundworld        1\n",
       "#montanastate                       1\n",
       "#roadwarrior_dispatch               1\n",
       "#themadisonian                      1\n",
       "#snowmobile                         1\n",
       "#picoftheday                        1\n",
       "#golf                               1\n",
       "#greatfalls                         1\n",
       "#rams                               1\n",
       "#peace                              1\n",
       "#空                                  1\n",
       "#wednesday                          1\n",
       "#lovewhatyoudo                      1\n",
       "#frost                              1\n",
       "#birdphotography                    1\n",
       "#sport                              1\n",
       "#tourism                            1\n",
       "#tokina                             1\n",
       "#moment                             1\n",
       "#blacklabsmatter                    1\n",
       "#bringon2017                        1\n",
       "#sciencemarchmaryland               1\n",
       "#springsnow                         1\n",
       "#love                               1\n",
       "#womenthathike                      1\n",
       "#sheexplores                        1\n",
       "#lovelive                           1\n",
       "#skimontana                         1\n",
       "\n",
       "[426 rows x 1 columns]"
      ]
     },
     "execution_count": 99,
     "metadata": {},
     "output_type": "execute_result"
    }
   ],
   "source": [
    "# convert to a pandas Series object to use value_counts() function to count the values for each hashtag\n",
    "\n",
    "# Of those 9,749 hashtags (426 unique), we see the ones used the most\n",
    "\n",
    "hash_cnt = DataFrame(Series(hashtag_list).value_counts())\n",
    "hash_cnt.columns = ['tag_cnt']\n",
    "print len(hash_cnt)\n",
    "hash_cnt"
   ]
  },
  {
   "cell_type": "code",
   "execution_count": 100,
   "metadata": {
    "collapsed": true
   },
   "outputs": [],
   "source": [
    "# we can save this for later manipulation as we have been doing:\n",
    "# hash_cnt.to_csv('HT_no_retweets_hash_cnt.csv')"
   ]
  },
  {
   "cell_type": "markdown",
   "metadata": {},
   "source": [
    "#### looks like the hashtags for the retweets are not normally distributed\n",
    "  see (https://en.wikipedia.org/wiki/Power_law)"
   ]
  },
  {
   "cell_type": "code",
   "execution_count": 101,
   "metadata": {
    "collapsed": false
   },
   "outputs": [
    {
     "data": {
      "text/plain": [
       "<matplotlib.axes._subplots.AxesSubplot at 0x105e7860>"
      ]
     },
     "execution_count": 101,
     "metadata": {},
     "output_type": "execute_result"
    },
    {
     "data": {
      "image/png": "[encoded data removed]",
      "text/plain": [
       "<matplotlib.figure.Figure at 0x104a6e48>"
      ]
     },
     "metadata": {},
     "output_type": "display_data"
    }
   ],
   "source": [
    "hash_cnt['tag_cnt'].plot()"
   ]
  },
  {
   "cell_type": "markdown",
   "metadata": {},
   "source": [
    "#### We can dive a bit deeper using `value_counts` to see how often a hashtag is used\n",
    "The normalize parameter displays the percentage\n",
    "For example, 39% of the hashtags are used only once & 13 percent are used only twice."
   ]
  },
  {
   "cell_type": "code",
   "execution_count": 102,
   "metadata": {
    "collapsed": false
   },
   "outputs": [
    {
     "data": {
      "text/plain": [
       "1       0.399061\n",
       "2       0.133803\n",
       "3       0.082160\n",
       "4       0.072770\n",
       "5       0.032864\n",
       "12      0.023474\n",
       "9       0.021127\n",
       "7       0.018779\n",
       "11      0.016432\n",
       "8       0.016432\n",
       "6       0.016432\n",
       "14      0.011737\n",
       "17      0.011737\n",
       "22      0.009390\n",
       "13      0.007042\n",
       "15      0.007042\n",
       "18      0.007042\n",
       "21      0.007042\n",
       "10      0.004695\n",
       "27      0.004695\n",
       "20      0.004695\n",
       "25      0.004695\n",
       "26      0.004695\n",
       "28      0.004695\n",
       "112     0.004695\n",
       "39      0.004695\n",
       "34      0.002347\n",
       "52      0.002347\n",
       "646     0.002347\n",
       "119     0.002347\n",
       "115     0.002347\n",
       "103     0.002347\n",
       "87      0.002347\n",
       "78      0.002347\n",
       "75      0.002347\n",
       "71      0.002347\n",
       "70      0.002347\n",
       "69      0.002347\n",
       "65      0.002347\n",
       "60      0.002347\n",
       "16      0.002347\n",
       "31      0.002347\n",
       "50      0.002347\n",
       "49      0.002347\n",
       "19      0.002347\n",
       "45      0.002347\n",
       "43      0.002347\n",
       "42      0.002347\n",
       "23      0.002347\n",
       "24      0.002347\n",
       "38      0.002347\n",
       "37      0.002347\n",
       "143     0.002347\n",
       "30      0.002347\n",
       "5482    0.002347\n",
       "Name: tag_cnt, dtype: float64"
      ]
     },
     "execution_count": 102,
     "metadata": {},
     "output_type": "execute_result"
    }
   ],
   "source": [
    "hash_cnt['tag_cnt'].value_counts(normalize=True)"
   ]
  },
  {
   "cell_type": "code",
   "execution_count": 103,
   "metadata": {
    "collapsed": false
   },
   "outputs": [
    {
     "data": {
      "image/png": "[encoded data removed]",
      "text/plain": [
       "<matplotlib.figure.Figure at 0xa7c6ef0>"
      ]
     },
     "metadata": {},
     "output_type": "display_data"
    }
   ],
   "source": [
    "hash_cnt['tag_cnt'][:10].plot(kind='bar')\n",
    "axhline(0, color='k')\n",
    "title('Top 10 hashtags', fontsize=20)\n",
    "xticks(fontsize = 12,rotation = 20, ha='right')\n",
    "\n",
    "#savefig('graph_HT_hashtags_top_ten_hashtags.png', bbox_inches='tight', dpi=300, format='png')\n",
    "show()"
   ]
  },
  {
   "cell_type": "markdown",
   "metadata": {},
   "source": [
    "<br><br>\n",
    ">### That's all for now! Next we'll begin preparing the data by creating and refining variables for use in the regression analyses\n"
   ]
  }
 ],
 "metadata": {
  "anaconda-cloud": {},
  "kernelspec": {
   "display_name": "Python [default]",
   "language": "python",
   "name": "python2"
  },
  "language_info": {
   "codemirror_mode": {
    "name": "ipython",
    "version": 2
   },
   "file_extension": ".py",
   "mimetype": "text/x-python",
   "name": "python",
   "nbconvert_exporter": "python",
   "pygments_lexer": "ipython2",
   "version": "2.7.12"
  }
 },
 "nbformat": 4,
 "nbformat_minor": 1
}
