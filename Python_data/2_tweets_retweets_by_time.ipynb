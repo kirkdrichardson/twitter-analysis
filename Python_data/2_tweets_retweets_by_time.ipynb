{
 "cells": [
  {
   "cell_type": "markdown",
   "metadata": {},
   "source": [
    "# <h1 style=\"text-align: center; text-decoration: underline\">Tweets & Retweets by Time</h1>\n",
    "<br>\n",
    "<br>\n",
    "><p style='font-size: large'>Similar to the previous notebook, we'll compare original tweets with retweets. Rather than do so on the basis of hashtags, we will explore the time aspects of the two sets. The datetime format of the Python pandas package will allow us to index our dataframes by aspects of time such as month, day, hour, etc.</p>"
   ]
  },
  {
   "cell_type": "markdown",
   "metadata": {},
   "source": [
    "---\n",
    "### Import packages & set options (notice the `calendar` package)"
   ]
  },
  {
   "cell_type": "code",
   "execution_count": 1,
   "metadata": {
    "collapsed": true
   },
   "outputs": [],
   "source": [
    "import numpy as np\n",
    "import pandas as pd\n",
    "from pandas import DataFrame\n",
    "from pandas import Series"
   ]
  },
  {
   "cell_type": "code",
   "execution_count": 2,
   "metadata": {
    "collapsed": false
   },
   "outputs": [],
   "source": [
    "pd.set_option('display.max_columns', None)"
   ]
  },
  {
   "cell_type": "code",
   "execution_count": 3,
   "metadata": {
    "collapsed": true
   },
   "outputs": [],
   "source": [
    "import matplotlib.pyplot as plt"
   ]
  },
  {
   "cell_type": "code",
   "execution_count": 4,
   "metadata": {
    "collapsed": false
   },
   "outputs": [],
   "source": [
    "import matplotlib.pyplot as mpl"
   ]
  },
  {
   "cell_type": "code",
   "execution_count": 5,
   "metadata": {
    "collapsed": false
   },
   "outputs": [],
   "source": [
    "from pylab import *"
   ]
  },
  {
   "cell_type": "code",
   "execution_count": 6,
   "metadata": {
    "collapsed": true
   },
   "outputs": [],
   "source": [
    "import seaborn as sns"
   ]
  },
  {
   "cell_type": "code",
   "execution_count": 7,
   "metadata": {
    "collapsed": true
   },
   "outputs": [],
   "source": [
    "%matplotlib inline"
   ]
  },
  {
   "cell_type": "code",
   "execution_count": 8,
   "metadata": {
    "collapsed": true
   },
   "outputs": [],
   "source": [
    "import calendar"
   ]
  },
  {
   "cell_type": "code",
   "execution_count": 9,
   "metadata": {
    "collapsed": true
   },
   "outputs": [],
   "source": [
    "plt.rcParams['figure.figsize'] = (15, 5)"
   ]
  },
  {
   "cell_type": "code",
   "execution_count": 10,
   "metadata": {
    "collapsed": false
   },
   "outputs": [
    {
     "name": "stdout",
     "output_type": "stream",
     "text": [
      "2187\n"
     ]
    },
    {
     "data": {
      "text/html": [
       "<div>\n",
       "<table border=\"1\" class=\"dataframe\">\n",
       "  <thead>\n",
       "    <tr style=\"text-align: right;\">\n",
       "      <th></th>\n",
       "      <th>id</th>\n",
       "      <th>hash_select</th>\n",
       "      <th>tweet_id</th>\n",
       "      <th>inserted_date</th>\n",
       "      <th>truncated</th>\n",
       "      <th>language</th>\n",
       "      <th>possibly_sensitive</th>\n",
       "      <th>coordinates</th>\n",
       "      <th>retweeted_status</th>\n",
       "      <th>created_at_text</th>\n",
       "      <th>created_at</th>\n",
       "      <th>content</th>\n",
       "      <th>from_user_screen_name</th>\n",
       "      <th>from_user_id</th>\n",
       "      <th>from_user_followers_count</th>\n",
       "      <th>from_user_friends_count</th>\n",
       "      <th>from_user_listed_count</th>\n",
       "      <th>from_user_statuses_count</th>\n",
       "      <th>from_user_description</th>\n",
       "      <th>from_user_location</th>\n",
       "      <th>from_user_created_at</th>\n",
       "      <th>retweet_count</th>\n",
       "      <th>entities_urls</th>\n",
       "      <th>entities_urls_count</th>\n",
       "      <th>entities_hashtags</th>\n",
       "      <th>entities_hashtags_count</th>\n",
       "      <th>entities_mentions</th>\n",
       "      <th>entities_mentions_count</th>\n",
       "      <th>in_reply_to_screen_name</th>\n",
       "      <th>in_reply_to_status_id</th>\n",
       "      <th>source</th>\n",
       "      <th>entities_expanded_urls</th>\n",
       "      <th>json_output</th>\n",
       "      <th>entities_media_count</th>\n",
       "      <th>media_expanded_url</th>\n",
       "      <th>media_url</th>\n",
       "      <th>media_type</th>\n",
       "      <th>video_link</th>\n",
       "      <th>photo_link</th>\n",
       "      <th>twitpic</th>\n",
       "    </tr>\n",
       "  </thead>\n",
       "  <tbody>\n",
       "    <tr>\n",
       "      <th>9</th>\n",
       "      <td>2555</td>\n",
       "      <td>%2523montanamoment</td>\n",
       "      <td>8.550000e+17</td>\n",
       "      <td>35:57.3</td>\n",
       "      <td>0</td>\n",
       "      <td>en</td>\n",
       "      <td>0.0</td>\n",
       "      <td>NaN</td>\n",
       "      <td>NaN</td>\n",
       "      <td>Fri Apr 21 04:21:17 +0000 2017</td>\n",
       "      <td>21:17.0</td>\n",
       "      <td>The night sky is a fascinating place especiall...</td>\n",
       "      <td>LeonKauffman</td>\n",
       "      <td>425125748.0</td>\n",
       "      <td>673</td>\n",
       "      <td>152</td>\n",
       "      <td>39</td>\n",
       "      <td>1616</td>\n",
       "      <td>Hydrologist, photographer, fan of Drexel baske...</td>\n",
       "      <td>Condon, Montana, USA</td>\n",
       "      <td>Wed Nov 30 15:58:25 +0000 2011</td>\n",
       "      <td>4</td>\n",
       "      <td>NaN</td>\n",
       "      <td>0</td>\n",
       "      <td>MontanaMoment</td>\n",
       "      <td>1</td>\n",
       "      <td>NaN</td>\n",
       "      <td>0</td>\n",
       "      <td>NaN</td>\n",
       "      <td>NaN</td>\n",
       "      <td>&lt;a href=\"https://about.twitter.com/products/tw...</td>\n",
       "      <td>NaN</td>\n",
       "      <td>{u'contributors': None, u'truncated': False, u...</td>\n",
       "      <td>1.0</td>\n",
       "      <td>https://twitter.com/LeonKauffman/status/855275...</td>\n",
       "      <td>http://pbs.twimg.com/media/C96LaxcUQAEMOQl.jpg</td>\n",
       "      <td>photo</td>\n",
       "      <td>0</td>\n",
       "      <td>0</td>\n",
       "      <td>0</td>\n",
       "    </tr>\n",
       "  </tbody>\n",
       "</table>\n",
       "</div>"
      ],
      "text/plain": [
       "     id         hash_select      tweet_id inserted_date  truncated language  \\\n",
       "9  2555  %2523montanamoment  8.550000e+17       35:57.3          0       en   \n",
       "\n",
       "   possibly_sensitive coordinates retweeted_status  \\\n",
       "9                 0.0         NaN              NaN   \n",
       "\n",
       "                  created_at_text created_at  \\\n",
       "9  Fri Apr 21 04:21:17 +0000 2017    21:17.0   \n",
       "\n",
       "                                             content from_user_screen_name  \\\n",
       "9  The night sky is a fascinating place especiall...          LeonKauffman   \n",
       "\n",
       "   from_user_id  from_user_followers_count  from_user_friends_count  \\\n",
       "9   425125748.0                        673                      152   \n",
       "\n",
       "   from_user_listed_count  from_user_statuses_count  \\\n",
       "9                      39                      1616   \n",
       "\n",
       "                               from_user_description    from_user_location  \\\n",
       "9  Hydrologist, photographer, fan of Drexel baske...  Condon, Montana, USA   \n",
       "\n",
       "             from_user_created_at  retweet_count entities_urls  \\\n",
       "9  Wed Nov 30 15:58:25 +0000 2011              4           NaN   \n",
       "\n",
       "   entities_urls_count entities_hashtags  entities_hashtags_count  \\\n",
       "9                    0     MontanaMoment                        1   \n",
       "\n",
       "  entities_mentions  entities_mentions_count in_reply_to_screen_name  \\\n",
       "9               NaN                        0                     NaN   \n",
       "\n",
       "   in_reply_to_status_id                                             source  \\\n",
       "9                    NaN  <a href=\"https://about.twitter.com/products/tw...   \n",
       "\n",
       "  entities_expanded_urls                                        json_output  \\\n",
       "9                    NaN  {u'contributors': None, u'truncated': False, u...   \n",
       "\n",
       "   entities_media_count                                 media_expanded_url  \\\n",
       "9                   1.0  https://twitter.com/LeonKauffman/status/855275...   \n",
       "\n",
       "                                        media_url media_type  video_link  \\\n",
       "9  http://pbs.twimg.com/media/C96LaxcUQAEMOQl.jpg      photo           0   \n",
       "\n",
       "   photo_link  twitpic  \n",
       "9           0        0  "
      ]
     },
     "execution_count": 10,
     "metadata": {},
     "output_type": "execute_result"
    }
   ],
   "source": [
    "df = pd.read_pickle('./data/a_HT_no_retweets.pkl')\n",
    "print len(df)\n",
    "df.head(1)"
   ]
  },
  {
   "cell_type": "code",
   "execution_count": 11,
   "metadata": {
    "collapsed": false
   },
   "outputs": [
    {
     "data": {
      "text/plain": [
       "40"
      ]
     },
     "execution_count": 11,
     "metadata": {},
     "output_type": "execute_result"
    }
   ],
   "source": [
    "len (df.columns)"
   ]
  },
  {
   "cell_type": "markdown",
   "metadata": {},
   "source": [
    ">### Now we'll change the UTC timestamp from the Twitter API to the pandas *datetime* format\n",
    "<br>"
   ]
  },
  {
   "cell_type": "code",
   "execution_count": 12,
   "metadata": {
    "collapsed": false
   },
   "outputs": [
    {
     "data": {
      "text/plain": [
       "created_at_text    object\n",
       "created_at         object\n",
       "dtype: object"
      ]
     },
     "execution_count": 12,
     "metadata": {},
     "output_type": "execute_result"
    }
   ],
   "source": [
    "df.dtypes[9:11]"
   ]
  },
  {
   "cell_type": "code",
   "execution_count": 13,
   "metadata": {
    "collapsed": true
   },
   "outputs": [],
   "source": [
    "# change the time variable from text to a usable format\n",
    "df['created_at_text'] = pd.to_datetime(df['created_at_text'])"
   ]
  },
  {
   "cell_type": "code",
   "execution_count": 14,
   "metadata": {
    "collapsed": false
   },
   "outputs": [
    {
     "data": {
      "text/plain": [
       "created_at_text    datetime64[ns]\n",
       "created_at                 object\n",
       "dtype: object"
      ]
     },
     "execution_count": 14,
     "metadata": {},
     "output_type": "execute_result"
    }
   ],
   "source": [
    "#confirmed: now python's datetime format\n",
    "df.dtypes[9:11]"
   ]
  },
  {
   "cell_type": "code",
   "execution_count": 15,
   "metadata": {
    "collapsed": true
   },
   "outputs": [],
   "source": [
    "# index the df to the time variable\n",
    "df = df.set_index(['created_at_text'])"
   ]
  },
  {
   "cell_type": "code",
   "execution_count": 16,
   "metadata": {
    "collapsed": false
   },
   "outputs": [
    {
     "data": {
      "text/html": [
       "<div>\n",
       "<table border=\"1\" class=\"dataframe\">\n",
       "  <thead>\n",
       "    <tr style=\"text-align: right;\">\n",
       "      <th></th>\n",
       "      <th>id</th>\n",
       "      <th>hash_select</th>\n",
       "      <th>tweet_id</th>\n",
       "      <th>inserted_date</th>\n",
       "      <th>truncated</th>\n",
       "      <th>language</th>\n",
       "      <th>possibly_sensitive</th>\n",
       "      <th>coordinates</th>\n",
       "      <th>retweeted_status</th>\n",
       "      <th>created_at</th>\n",
       "      <th>content</th>\n",
       "      <th>from_user_screen_name</th>\n",
       "      <th>from_user_id</th>\n",
       "      <th>from_user_followers_count</th>\n",
       "      <th>from_user_friends_count</th>\n",
       "      <th>from_user_listed_count</th>\n",
       "      <th>from_user_statuses_count</th>\n",
       "      <th>from_user_description</th>\n",
       "      <th>from_user_location</th>\n",
       "      <th>from_user_created_at</th>\n",
       "      <th>retweet_count</th>\n",
       "      <th>entities_urls</th>\n",
       "      <th>entities_urls_count</th>\n",
       "      <th>entities_hashtags</th>\n",
       "      <th>entities_hashtags_count</th>\n",
       "      <th>entities_mentions</th>\n",
       "      <th>entities_mentions_count</th>\n",
       "      <th>in_reply_to_screen_name</th>\n",
       "      <th>in_reply_to_status_id</th>\n",
       "      <th>source</th>\n",
       "      <th>entities_expanded_urls</th>\n",
       "      <th>json_output</th>\n",
       "      <th>entities_media_count</th>\n",
       "      <th>media_expanded_url</th>\n",
       "      <th>media_url</th>\n",
       "      <th>media_type</th>\n",
       "      <th>video_link</th>\n",
       "      <th>photo_link</th>\n",
       "      <th>twitpic</th>\n",
       "    </tr>\n",
       "    <tr>\n",
       "      <th>created_at_text</th>\n",
       "      <th></th>\n",
       "      <th></th>\n",
       "      <th></th>\n",
       "      <th></th>\n",
       "      <th></th>\n",
       "      <th></th>\n",
       "      <th></th>\n",
       "      <th></th>\n",
       "      <th></th>\n",
       "      <th></th>\n",
       "      <th></th>\n",
       "      <th></th>\n",
       "      <th></th>\n",
       "      <th></th>\n",
       "      <th></th>\n",
       "      <th></th>\n",
       "      <th></th>\n",
       "      <th></th>\n",
       "      <th></th>\n",
       "      <th></th>\n",
       "      <th></th>\n",
       "      <th></th>\n",
       "      <th></th>\n",
       "      <th></th>\n",
       "      <th></th>\n",
       "      <th></th>\n",
       "      <th></th>\n",
       "      <th></th>\n",
       "      <th></th>\n",
       "      <th></th>\n",
       "      <th></th>\n",
       "      <th></th>\n",
       "      <th></th>\n",
       "      <th></th>\n",
       "      <th></th>\n",
       "      <th></th>\n",
       "      <th></th>\n",
       "      <th></th>\n",
       "      <th></th>\n",
       "    </tr>\n",
       "  </thead>\n",
       "  <tbody>\n",
       "    <tr>\n",
       "      <th>2017-04-21 04:21:17</th>\n",
       "      <td>2555</td>\n",
       "      <td>%2523montanamoment</td>\n",
       "      <td>8.550000e+17</td>\n",
       "      <td>35:57.3</td>\n",
       "      <td>0</td>\n",
       "      <td>en</td>\n",
       "      <td>0.0</td>\n",
       "      <td>NaN</td>\n",
       "      <td>NaN</td>\n",
       "      <td>21:17.0</td>\n",
       "      <td>The night sky is a fascinating place especiall...</td>\n",
       "      <td>LeonKauffman</td>\n",
       "      <td>425125748.0</td>\n",
       "      <td>673</td>\n",
       "      <td>152</td>\n",
       "      <td>39</td>\n",
       "      <td>1616</td>\n",
       "      <td>Hydrologist, photographer, fan of Drexel baske...</td>\n",
       "      <td>Condon, Montana, USA</td>\n",
       "      <td>Wed Nov 30 15:58:25 +0000 2011</td>\n",
       "      <td>4</td>\n",
       "      <td>NaN</td>\n",
       "      <td>0</td>\n",
       "      <td>MontanaMoment</td>\n",
       "      <td>1</td>\n",
       "      <td>NaN</td>\n",
       "      <td>0</td>\n",
       "      <td>NaN</td>\n",
       "      <td>NaN</td>\n",
       "      <td>&lt;a href=\"https://about.twitter.com/products/tw...</td>\n",
       "      <td>NaN</td>\n",
       "      <td>{u'contributors': None, u'truncated': False, u...</td>\n",
       "      <td>1.0</td>\n",
       "      <td>https://twitter.com/LeonKauffman/status/855275...</td>\n",
       "      <td>http://pbs.twimg.com/media/C96LaxcUQAEMOQl.jpg</td>\n",
       "      <td>photo</td>\n",
       "      <td>0</td>\n",
       "      <td>0</td>\n",
       "      <td>0</td>\n",
       "    </tr>\n",
       "  </tbody>\n",
       "</table>\n",
       "</div>"
      ],
      "text/plain": [
       "                       id         hash_select      tweet_id inserted_date  \\\n",
       "created_at_text                                                             \n",
       "2017-04-21 04:21:17  2555  %2523montanamoment  8.550000e+17       35:57.3   \n",
       "\n",
       "                     truncated language  possibly_sensitive coordinates  \\\n",
       "created_at_text                                                           \n",
       "2017-04-21 04:21:17          0       en                 0.0         NaN   \n",
       "\n",
       "                    retweeted_status created_at  \\\n",
       "created_at_text                                   \n",
       "2017-04-21 04:21:17              NaN    21:17.0   \n",
       "\n",
       "                                                               content  \\\n",
       "created_at_text                                                          \n",
       "2017-04-21 04:21:17  The night sky is a fascinating place especiall...   \n",
       "\n",
       "                    from_user_screen_name  from_user_id  \\\n",
       "created_at_text                                           \n",
       "2017-04-21 04:21:17          LeonKauffman   425125748.0   \n",
       "\n",
       "                     from_user_followers_count  from_user_friends_count  \\\n",
       "created_at_text                                                           \n",
       "2017-04-21 04:21:17                        673                      152   \n",
       "\n",
       "                     from_user_listed_count  from_user_statuses_count  \\\n",
       "created_at_text                                                         \n",
       "2017-04-21 04:21:17                      39                      1616   \n",
       "\n",
       "                                                 from_user_description  \\\n",
       "created_at_text                                                          \n",
       "2017-04-21 04:21:17  Hydrologist, photographer, fan of Drexel baske...   \n",
       "\n",
       "                       from_user_location            from_user_created_at  \\\n",
       "created_at_text                                                             \n",
       "2017-04-21 04:21:17  Condon, Montana, USA  Wed Nov 30 15:58:25 +0000 2011   \n",
       "\n",
       "                     retweet_count entities_urls  entities_urls_count  \\\n",
       "created_at_text                                                         \n",
       "2017-04-21 04:21:17              4           NaN                    0   \n",
       "\n",
       "                    entities_hashtags  entities_hashtags_count  \\\n",
       "created_at_text                                                  \n",
       "2017-04-21 04:21:17     MontanaMoment                        1   \n",
       "\n",
       "                    entities_mentions  entities_mentions_count  \\\n",
       "created_at_text                                                  \n",
       "2017-04-21 04:21:17               NaN                        0   \n",
       "\n",
       "                    in_reply_to_screen_name  in_reply_to_status_id  \\\n",
       "created_at_text                                                      \n",
       "2017-04-21 04:21:17                     NaN                    NaN   \n",
       "\n",
       "                                                                source  \\\n",
       "created_at_text                                                          \n",
       "2017-04-21 04:21:17  <a href=\"https://about.twitter.com/products/tw...   \n",
       "\n",
       "                    entities_expanded_urls  \\\n",
       "created_at_text                              \n",
       "2017-04-21 04:21:17                    NaN   \n",
       "\n",
       "                                                           json_output  \\\n",
       "created_at_text                                                          \n",
       "2017-04-21 04:21:17  {u'contributors': None, u'truncated': False, u...   \n",
       "\n",
       "                     entities_media_count  \\\n",
       "created_at_text                             \n",
       "2017-04-21 04:21:17                   1.0   \n",
       "\n",
       "                                                    media_expanded_url  \\\n",
       "created_at_text                                                          \n",
       "2017-04-21 04:21:17  https://twitter.com/LeonKauffman/status/855275...   \n",
       "\n",
       "                                                          media_url  \\\n",
       "created_at_text                                                       \n",
       "2017-04-21 04:21:17  http://pbs.twimg.com/media/C96LaxcUQAEMOQl.jpg   \n",
       "\n",
       "                    media_type  video_link  photo_link  twitpic  \n",
       "created_at_text                                                  \n",
       "2017-04-21 04:21:17      photo           0           0        0  "
      ]
     },
     "execution_count": 16,
     "metadata": {},
     "output_type": "execute_result"
    }
   ],
   "source": [
    "df.head(1)"
   ]
  },
  {
   "cell_type": "code",
   "execution_count": 17,
   "metadata": {
    "collapsed": true
   },
   "outputs": [],
   "source": [
    "# a function to apply to the groupby command below. f(x) counts the number of tweets based on the content variable\n",
    "# when added to groupby, it aggregates tweets based on the time variable\n",
    "def f(x):\n",
    "    return Series(dict(num_tweets = x['content'].count(),\n",
    "                      ))"
   ]
  },
  {
   "cell_type": "code",
   "execution_count": 18,
   "metadata": {
    "collapsed": true
   },
   "outputs": [],
   "source": [
    "day_cnt = df.groupby(df.index.date).apply(f)"
   ]
  },
  {
   "cell_type": "code",
   "execution_count": 19,
   "metadata": {
    "collapsed": false
   },
   "outputs": [
    {
     "name": "stdout",
     "output_type": "stream",
     "text": [
      "table 1\n",
      "105\n"
     ]
    },
    {
     "data": {
      "text/html": [
       "<div>\n",
       "<table border=\"1\" class=\"dataframe\">\n",
       "  <thead>\n",
       "    <tr style=\"text-align: right;\">\n",
       "      <th></th>\n",
       "      <th>num_tweets</th>\n",
       "    </tr>\n",
       "  </thead>\n",
       "  <tbody>\n",
       "    <tr>\n",
       "      <th>2016-12-24</th>\n",
       "      <td>17</td>\n",
       "    </tr>\n",
       "    <tr>\n",
       "      <th>2016-12-25</th>\n",
       "      <td>11</td>\n",
       "    </tr>\n",
       "    <tr>\n",
       "      <th>2016-12-26</th>\n",
       "      <td>23</td>\n",
       "    </tr>\n",
       "    <tr>\n",
       "      <th>2016-12-27</th>\n",
       "      <td>23</td>\n",
       "    </tr>\n",
       "    <tr>\n",
       "      <th>2016-12-28</th>\n",
       "      <td>16</td>\n",
       "    </tr>\n",
       "  </tbody>\n",
       "</table>\n",
       "</div>"
      ],
      "text/plain": [
       "            num_tweets\n",
       "2016-12-24          17\n",
       "2016-12-25          11\n",
       "2016-12-26          23\n",
       "2016-12-27          23\n",
       "2016-12-28          16"
      ]
     },
     "execution_count": 19,
     "metadata": {},
     "output_type": "execute_result"
    }
   ],
   "source": [
    "# the HT data contains tweets containing the hashtag 'montanaMoment' (not case sensitive) from 12/24/16 ( table 1)\n",
    "# to 04/17/17 ( table 2)\n",
    "\n",
    "print 'table 1'\n",
    "print len(day_cnt)\n",
    "day_cnt.head()"
   ]
  },
  {
   "cell_type": "code",
   "execution_count": 20,
   "metadata": {
    "collapsed": true
   },
   "outputs": [],
   "source": [
    "day_cnt.index.name = 'date'"
   ]
  },
  {
   "cell_type": "code",
   "execution_count": 21,
   "metadata": {
    "collapsed": false
   },
   "outputs": [
    {
     "name": "stdout",
     "output_type": "stream",
     "text": [
      "table 2\n"
     ]
    },
    {
     "data": {
      "text/html": [
       "<div>\n",
       "<table border=\"1\" class=\"dataframe\">\n",
       "  <thead>\n",
       "    <tr style=\"text-align: right;\">\n",
       "      <th></th>\n",
       "      <th>num_tweets</th>\n",
       "    </tr>\n",
       "    <tr>\n",
       "      <th>date</th>\n",
       "      <th></th>\n",
       "    </tr>\n",
       "  </thead>\n",
       "  <tbody>\n",
       "    <tr>\n",
       "      <th>2017-04-17</th>\n",
       "      <td>16</td>\n",
       "    </tr>\n",
       "    <tr>\n",
       "      <th>2017-04-18</th>\n",
       "      <td>21</td>\n",
       "    </tr>\n",
       "    <tr>\n",
       "      <th>2017-04-19</th>\n",
       "      <td>14</td>\n",
       "    </tr>\n",
       "    <tr>\n",
       "      <th>2017-04-20</th>\n",
       "      <td>23</td>\n",
       "    </tr>\n",
       "    <tr>\n",
       "      <th>2017-04-21</th>\n",
       "      <td>3</td>\n",
       "    </tr>\n",
       "  </tbody>\n",
       "</table>\n",
       "</div>"
      ],
      "text/plain": [
       "            num_tweets\n",
       "date                  \n",
       "2017-04-17          16\n",
       "2017-04-18          21\n",
       "2017-04-19          14\n",
       "2017-04-20          23\n",
       "2017-04-21           3"
      ]
     },
     "execution_count": 21,
     "metadata": {},
     "output_type": "execute_result"
    }
   ],
   "source": [
    "print 'table 2'\n",
    "day_cnt.tail()"
   ]
  },
  {
   "cell_type": "markdown",
   "metadata": {},
   "source": [
    ">## Original Tweets by Day"
   ]
  },
  {
   "cell_type": "code",
   "execution_count": 22,
   "metadata": {
    "collapsed": false
   },
   "outputs": [
    {
     "data": {
      "image/png": "[encoded data removed]",
      "text/plain": [
       "<matplotlib.figure.Figure at 0xc3bfa58>"
      ]
     },
     "metadata": {},
     "output_type": "display_data"
    }
   ],
   "source": [
    "day_plot = day_cnt['num_tweets'].plot(kind='line', lw=2, alpha=0.75, legend=True, x_compat=True)\n",
    "\n",
    "day_plot.set_xlabel('Day', weight='bold', labelpad=20, fontsize=17)\n",
    "day_plot.set_ylabel('Number of Original Tweets', weight='bold', labelpad=20, fontsize=17)\n",
    "\n",
    "xticks(fontsize = 12, rotation = -30, ha =\"left\")\n",
    "yticks(fontsize = 12)                              \n",
    "\n",
    "\n",
    "day_plot.legend_ = None\n",
    "day_plot.tick_params(axis='x', pad=5)\n",
    "\n",
    "\n",
    "savefig('graph_HT_time_NOREtweets_day.png', bbox_inches='tight', dpi=300, format='png')"
   ]
  },
  {
   "cell_type": "code",
   "execution_count": 23,
   "metadata": {
    "collapsed": true
   },
   "outputs": [],
   "source": [
    "# day_cnt.to_csv('HT_num_tweets_time_day.csv')"
   ]
  },
  {
   "cell_type": "markdown",
   "metadata": {},
   "source": [
    ">## Original Tweets by Week"
   ]
  },
  {
   "cell_type": "code",
   "execution_count": 24,
   "metadata": {
    "collapsed": true
   },
   "outputs": [],
   "source": [
    "# use the f(x) we wrote earlier to aggregate tweets based on the day of the week they were sent\n",
    "wk_cnt = df.groupby(df.index.weekday).apply(f)"
   ]
  },
  {
   "cell_type": "code",
   "execution_count": 25,
   "metadata": {
    "collapsed": false
   },
   "outputs": [
    {
     "name": "stdout",
     "output_type": "stream",
     "text": [
      "7\n"
     ]
    },
    {
     "data": {
      "text/html": [
       "<div>\n",
       "<table border=\"1\" class=\"dataframe\">\n",
       "  <thead>\n",
       "    <tr style=\"text-align: right;\">\n",
       "      <th></th>\n",
       "      <th>num_tweets</th>\n",
       "    </tr>\n",
       "  </thead>\n",
       "  <tbody>\n",
       "    <tr>\n",
       "      <th>0</th>\n",
       "      <td>294</td>\n",
       "    </tr>\n",
       "    <tr>\n",
       "      <th>1</th>\n",
       "      <td>274</td>\n",
       "    </tr>\n",
       "    <tr>\n",
       "      <th>2</th>\n",
       "      <td>315</td>\n",
       "    </tr>\n",
       "    <tr>\n",
       "      <th>3</th>\n",
       "      <td>334</td>\n",
       "    </tr>\n",
       "    <tr>\n",
       "      <th>4</th>\n",
       "      <td>328</td>\n",
       "    </tr>\n",
       "    <tr>\n",
       "      <th>5</th>\n",
       "      <td>323</td>\n",
       "    </tr>\n",
       "    <tr>\n",
       "      <th>6</th>\n",
       "      <td>319</td>\n",
       "    </tr>\n",
       "  </tbody>\n",
       "</table>\n",
       "</div>"
      ],
      "text/plain": [
       "   num_tweets\n",
       "0         294\n",
       "1         274\n",
       "2         315\n",
       "3         334\n",
       "4         328\n",
       "5         323\n",
       "6         319"
      ]
     },
     "execution_count": 25,
     "metadata": {},
     "output_type": "execute_result"
    }
   ],
   "source": [
    "# 0 = Mon, 6 = sunday\n",
    "\n",
    "print len(wk_cnt)\n",
    "wk_cnt"
   ]
  },
  {
   "cell_type": "code",
   "execution_count": 26,
   "metadata": {
    "collapsed": false
   },
   "outputs": [],
   "source": [
    "# create list of days, assign it to new 'days' variable\n",
    "days = ['Monday', 'Tuesday', 'Wednesday', 'Thursday', 'Friday', 'Saturday', 'Sunday']\n",
    "wk_cnt['days'] = days"
   ]
  },
  {
   "cell_type": "code",
   "execution_count": 27,
   "metadata": {
    "collapsed": false
   },
   "outputs": [
    {
     "data": {
      "image/png": "[encoded data removed]",
      "text/plain": [
       "<matplotlib.figure.Figure at 0x68d9be0>"
      ]
     },
     "metadata": {},
     "output_type": "display_data"
    }
   ],
   "source": [
    "wk_plot = wk_cnt['num_tweets'].plot(kind='bar', alpha=0.75, legend=True)\n",
    "xticks(np.arange(7), wk_cnt['days'], fontsize = 12, rotation = 0)\n",
    "wk_plot.set_xlabel('Day of the week', weight='bold', labelpad=20, fontsize=17)\n",
    "\n",
    "wk_plot.set_ylabel('Number of Original Tweets', weight='bold', labelpad=20, fontsize=17)\n",
    "\n",
    "\n",
    "yticks(fontsize = 12)                              \n",
    "\n",
    "\n",
    "wk_plot.legend_ = None\n",
    "wk_plot.tick_params(axis='x', pad=5)\n",
    "\n",
    "# savefig('graph_HT_time_NOREtweets_week_bar.png', bbox_inches='tight', dpi=300, format='png')"
   ]
  },
  {
   "cell_type": "markdown",
   "metadata": {},
   "source": [
    ">## Original Tweets by Hour"
   ]
  },
  {
   "cell_type": "code",
   "execution_count": 28,
   "metadata": {
    "collapsed": false
   },
   "outputs": [
    {
     "name": "stdout",
     "output_type": "stream",
     "text": [
      "24\n"
     ]
    },
    {
     "data": {
      "text/html": [
       "<div>\n",
       "<table border=\"1\" class=\"dataframe\">\n",
       "  <thead>\n",
       "    <tr style=\"text-align: right;\">\n",
       "      <th></th>\n",
       "      <th>num_tweets</th>\n",
       "    </tr>\n",
       "  </thead>\n",
       "  <tbody>\n",
       "    <tr>\n",
       "      <th>0</th>\n",
       "      <td>98</td>\n",
       "    </tr>\n",
       "    <tr>\n",
       "      <th>1</th>\n",
       "      <td>124</td>\n",
       "    </tr>\n",
       "    <tr>\n",
       "      <th>2</th>\n",
       "      <td>127</td>\n",
       "    </tr>\n",
       "    <tr>\n",
       "      <th>3</th>\n",
       "      <td>143</td>\n",
       "    </tr>\n",
       "    <tr>\n",
       "      <th>4</th>\n",
       "      <td>103</td>\n",
       "    </tr>\n",
       "    <tr>\n",
       "      <th>5</th>\n",
       "      <td>77</td>\n",
       "    </tr>\n",
       "    <tr>\n",
       "      <th>6</th>\n",
       "      <td>47</td>\n",
       "    </tr>\n",
       "    <tr>\n",
       "      <th>7</th>\n",
       "      <td>29</td>\n",
       "    </tr>\n",
       "    <tr>\n",
       "      <th>8</th>\n",
       "      <td>39</td>\n",
       "    </tr>\n",
       "    <tr>\n",
       "      <th>9</th>\n",
       "      <td>21</td>\n",
       "    </tr>\n",
       "    <tr>\n",
       "      <th>10</th>\n",
       "      <td>33</td>\n",
       "    </tr>\n",
       "    <tr>\n",
       "      <th>11</th>\n",
       "      <td>42</td>\n",
       "    </tr>\n",
       "    <tr>\n",
       "      <th>12</th>\n",
       "      <td>46</td>\n",
       "    </tr>\n",
       "    <tr>\n",
       "      <th>13</th>\n",
       "      <td>99</td>\n",
       "    </tr>\n",
       "    <tr>\n",
       "      <th>14</th>\n",
       "      <td>115</td>\n",
       "    </tr>\n",
       "    <tr>\n",
       "      <th>15</th>\n",
       "      <td>126</td>\n",
       "    </tr>\n",
       "    <tr>\n",
       "      <th>16</th>\n",
       "      <td>133</td>\n",
       "    </tr>\n",
       "    <tr>\n",
       "      <th>17</th>\n",
       "      <td>123</td>\n",
       "    </tr>\n",
       "    <tr>\n",
       "      <th>18</th>\n",
       "      <td>146</td>\n",
       "    </tr>\n",
       "    <tr>\n",
       "      <th>19</th>\n",
       "      <td>103</td>\n",
       "    </tr>\n",
       "    <tr>\n",
       "      <th>20</th>\n",
       "      <td>98</td>\n",
       "    </tr>\n",
       "    <tr>\n",
       "      <th>21</th>\n",
       "      <td>93</td>\n",
       "    </tr>\n",
       "    <tr>\n",
       "      <th>22</th>\n",
       "      <td>105</td>\n",
       "    </tr>\n",
       "    <tr>\n",
       "      <th>23</th>\n",
       "      <td>117</td>\n",
       "    </tr>\n",
       "  </tbody>\n",
       "</table>\n",
       "</div>"
      ],
      "text/plain": [
       "    num_tweets\n",
       "0           98\n",
       "1          124\n",
       "2          127\n",
       "3          143\n",
       "4          103\n",
       "5           77\n",
       "6           47\n",
       "7           29\n",
       "8           39\n",
       "9           21\n",
       "10          33\n",
       "11          42\n",
       "12          46\n",
       "13          99\n",
       "14         115\n",
       "15         126\n",
       "16         133\n",
       "17         123\n",
       "18         146\n",
       "19         103\n",
       "20          98\n",
       "21          93\n",
       "22         105\n",
       "23         117"
      ]
     },
     "execution_count": 28,
     "metadata": {},
     "output_type": "execute_result"
    }
   ],
   "source": [
    "# group the df by hour a tweet is sent\n",
    "hr_cnt = df.groupby(df.index.hour).apply(f)\n",
    "print len(hr_cnt)\n",
    "hr_cnt"
   ]
  },
  {
   "cell_type": "code",
   "execution_count": 29,
   "metadata": {
    "collapsed": false
   },
   "outputs": [
    {
     "data": {
      "text/plain": [
       "2187"
      ]
     },
     "execution_count": 29,
     "metadata": {},
     "output_type": "execute_result"
    }
   ],
   "source": [
    "len(df)"
   ]
  },
  {
   "cell_type": "markdown",
   "metadata": {},
   "source": [
    "<br>\n",
    ">### Since the timestamp from the Twitter API is in UTC, we'll shift the labels on the graph to represent local Montana time (-6 hours)\n",
    "<br>"
   ]
  },
  {
   "cell_type": "code",
   "execution_count": 30,
   "metadata": {
    "collapsed": true
   },
   "outputs": [],
   "source": [
    "hours = ['18', '19', '20', '21', '22', '23', '0', '1', '2', '3', '4', '5', '6', '7', '8', '9', '10', '11', '12', '13', '14', '15', '16', '17']\n",
    "hr_cnt['hours'] = hours"
   ]
  },
  {
   "cell_type": "code",
   "execution_count": 31,
   "metadata": {
    "collapsed": false
   },
   "outputs": [
    {
     "data": {
      "image/png": "[encoded data removed]",
      "text/plain": [
       "<matplotlib.figure.Figure at 0xc7e97f0>"
      ]
     },
     "metadata": {},
     "output_type": "display_data"
    }
   ],
   "source": [
    "hr_plot = hr_cnt['num_tweets'].plot(kind='line')\n",
    "xticks(np.arange(24), hr_cnt['hours'], rotation = 0,fontsize = 9)\n",
    "\n",
    "hr_plot.set_xlabel('Hour of the Day', weight='bold', labelpad=20, fontsize=17) \n",
    "hr_plot.set_ylabel('Number of Original Tweets', weight='bold', labelpad=20, fontsize=17)\n",
    "\n",
    "xticks(fontsize = 12)                          \n",
    "yticks(fontsize = 12) \n",
    "\n",
    "day_plot.tick_params(axis='x', pad=5)   \n",
    "day_plot.legend_ = None                           \n",
    "\n",
    "\n",
    "# savefig('graph_HT_time_NOREtweets_hour_line.png', bbox_inches='tight', dpi=300, format='png')"
   ]
  },
  {
   "cell_type": "markdown",
   "metadata": {},
   "source": [
    "<br>\n",
    "<br>\n",
    ">## Original Tweets by month\n",
    "\n",
    ">Since we don't have a full year to analyze, let's make sure there aren't any drastic volume changes from month to month.\n"
   ]
  },
  {
   "cell_type": "code",
   "execution_count": 32,
   "metadata": {
    "collapsed": true
   },
   "outputs": [],
   "source": [
    "# aggregates tweet count by month\n",
    "month_cnt = df.groupby(df.index.month).apply(f)"
   ]
  },
  {
   "cell_type": "code",
   "execution_count": 33,
   "metadata": {
    "collapsed": false
   },
   "outputs": [
    {
     "name": "stdout",
     "output_type": "stream",
     "text": [
      "5\n"
     ]
    },
    {
     "data": {
      "text/html": [
       "<div>\n",
       "<table border=\"1\" class=\"dataframe\">\n",
       "  <thead>\n",
       "    <tr style=\"text-align: right;\">\n",
       "      <th></th>\n",
       "      <th>num_tweets</th>\n",
       "    </tr>\n",
       "  </thead>\n",
       "  <tbody>\n",
       "    <tr>\n",
       "      <th>1</th>\n",
       "      <td>441</td>\n",
       "    </tr>\n",
       "    <tr>\n",
       "      <th>2</th>\n",
       "      <td>595</td>\n",
       "    </tr>\n",
       "    <tr>\n",
       "      <th>3</th>\n",
       "      <td>594</td>\n",
       "    </tr>\n",
       "    <tr>\n",
       "      <th>4</th>\n",
       "      <td>427</td>\n",
       "    </tr>\n",
       "    <tr>\n",
       "      <th>12</th>\n",
       "      <td>130</td>\n",
       "    </tr>\n",
       "  </tbody>\n",
       "</table>\n",
       "</div>"
      ],
      "text/plain": [
       "    num_tweets\n",
       "1          441\n",
       "2          595\n",
       "3          594\n",
       "4          427\n",
       "12         130"
      ]
     },
     "execution_count": 33,
     "metadata": {},
     "output_type": "execute_result"
    }
   ],
   "source": [
    "# as expected, the incomplete months have much less, particularly Dec, which only has 8 days\n",
    "\n",
    "print len(month_cnt)\n",
    "month_cnt"
   ]
  },
  {
   "cell_type": "code",
   "execution_count": 34,
   "metadata": {
    "collapsed": false
   },
   "outputs": [
    {
     "data": {
      "text/html": [
       "<div>\n",
       "<table border=\"1\" class=\"dataframe\">\n",
       "  <thead>\n",
       "    <tr style=\"text-align: right;\">\n",
       "      <th></th>\n",
       "      <th>num_tweets</th>\n",
       "    </tr>\n",
       "  </thead>\n",
       "  <tbody>\n",
       "    <tr>\n",
       "      <th>12</th>\n",
       "      <td>130</td>\n",
       "    </tr>\n",
       "    <tr>\n",
       "      <th>1</th>\n",
       "      <td>441</td>\n",
       "    </tr>\n",
       "    <tr>\n",
       "      <th>2</th>\n",
       "      <td>595</td>\n",
       "    </tr>\n",
       "    <tr>\n",
       "      <th>3</th>\n",
       "      <td>594</td>\n",
       "    </tr>\n",
       "    <tr>\n",
       "      <th>4</th>\n",
       "      <td>427</td>\n",
       "    </tr>\n",
       "  </tbody>\n",
       "</table>\n",
       "</div>"
      ],
      "text/plain": [
       "    num_tweets\n",
       "12         130\n",
       "1          441\n",
       "2          595\n",
       "3          594\n",
       "4          427"
      ]
     },
     "execution_count": 34,
     "metadata": {},
     "output_type": "execute_result"
    }
   ],
   "source": [
    "# manually reindex the month_cnt DataFrame to graph in chronological order\n",
    "month_cnt2 = month_cnt.reindex([12,1,2,3,4])\n",
    "month_cnt2"
   ]
  },
  {
   "cell_type": "code",
   "execution_count": 35,
   "metadata": {
    "collapsed": false
   },
   "outputs": [
    {
     "data": {
      "image/png": "[encoded data removed]",
      "text/plain": [
       "<matplotlib.figure.Figure at 0xea549e8>"
      ]
     },
     "metadata": {},
     "output_type": "display_data"
    }
   ],
   "source": [
    "month_plot = month_cnt2['num_tweets'].plot(kind='bar', alpha=0.75)\n",
    "months = ['December', 'January', 'February', 'March', 'April']\n",
    "xticks(np.arange(5), months, rotation = 0,fontsize = 9)\n",
    "\n",
    "month_plot.set_xlabel('Month', weight='bold', labelpad=20, fontsize=17) \n",
    "month_plot.set_ylabel('Number of Original Tweets', weight='bold', labelpad=20, fontsize=17)\n",
    "\n",
    "xticks(fontsize = 12)                          \n",
    "yticks(fontsize = 12) \n",
    "\n",
    "month_plot.tick_params(axis='x', pad=5)   \n",
    "month_plot.legend_ = None                           \n",
    "\n",
    "#savefig('graph_HT_time_NOREtweets_month_bar.png', bbox_inches='tight', dpi=300, format='png')"
   ]
  },
  {
   "cell_type": "markdown",
   "metadata": {
    "collapsed": true
   },
   "source": [
    "<br>\n",
    "<br>\n",
    "<br>\n",
    "<br>\n",
    "<br>\n",
    "---\n",
    "## Now, we'll do the same thing, but for retweets. \n",
    "><p style='font-size: large'>This part isn't necessary, since this can be achieved by changing the dataframe at the top of this script to a retweets-only version. However, to make the analysis more accessible, the retweets portion is replicated below</p>"
   ]
  },
  {
   "cell_type": "markdown",
   "metadata": {},
   "source": [
    "### We already have the packages we need, so let's just change our df variable to a retweets-only version & modify the timestamp"
   ]
  },
  {
   "cell_type": "code",
   "execution_count": 36,
   "metadata": {
    "collapsed": false
   },
   "outputs": [
    {
     "name": "stdout",
     "output_type": "stream",
     "text": [
      "5482 retweets\n"
     ]
    },
    {
     "data": {
      "text/html": [
       "<div>\n",
       "<table border=\"1\" class=\"dataframe\">\n",
       "  <thead>\n",
       "    <tr style=\"text-align: right;\">\n",
       "      <th></th>\n",
       "      <th>id</th>\n",
       "      <th>hash_select</th>\n",
       "      <th>tweet_id</th>\n",
       "      <th>inserted_date</th>\n",
       "      <th>truncated</th>\n",
       "      <th>language</th>\n",
       "      <th>possibly_sensitive</th>\n",
       "      <th>coordinates</th>\n",
       "      <th>retweeted_status</th>\n",
       "      <th>created_at_text</th>\n",
       "      <th>created_at</th>\n",
       "      <th>content</th>\n",
       "      <th>from_user_screen_name</th>\n",
       "      <th>from_user_id</th>\n",
       "      <th>from_user_followers_count</th>\n",
       "      <th>from_user_friends_count</th>\n",
       "      <th>from_user_listed_count</th>\n",
       "      <th>from_user_statuses_count</th>\n",
       "      <th>from_user_description</th>\n",
       "      <th>from_user_location</th>\n",
       "      <th>from_user_created_at</th>\n",
       "      <th>retweet_count</th>\n",
       "      <th>entities_urls</th>\n",
       "      <th>entities_urls_count</th>\n",
       "      <th>entities_hashtags</th>\n",
       "      <th>entities_hashtags_count</th>\n",
       "      <th>entities_mentions</th>\n",
       "      <th>entities_mentions_count</th>\n",
       "      <th>in_reply_to_screen_name</th>\n",
       "      <th>in_reply_to_status_id</th>\n",
       "      <th>source</th>\n",
       "      <th>entities_expanded_urls</th>\n",
       "      <th>json_output</th>\n",
       "      <th>entities_media_count</th>\n",
       "      <th>media_expanded_url</th>\n",
       "      <th>media_url</th>\n",
       "      <th>media_type</th>\n",
       "      <th>video_link</th>\n",
       "      <th>photo_link</th>\n",
       "      <th>twitpic</th>\n",
       "    </tr>\n",
       "  </thead>\n",
       "  <tbody>\n",
       "    <tr>\n",
       "      <th>0</th>\n",
       "      <td>2546</td>\n",
       "      <td>%2523montanamoment</td>\n",
       "      <td>8.550000e+17</td>\n",
       "      <td>35:55.8</td>\n",
       "      <td>0</td>\n",
       "      <td>en</td>\n",
       "      <td>NaN</td>\n",
       "      <td>NaN</td>\n",
       "      <td>THIS IS A RETWEET --&gt; DOUBLE-CHECK JSON</td>\n",
       "      <td>Fri Apr 21 05:32:02 +0000 2017</td>\n",
       "      <td>D</td>\n",
       "      <td>RT @LeonKauffman: The night sky is a fascinati...</td>\n",
       "      <td>J_M1812</td>\n",
       "      <td>245570167.0</td>\n",
       "      <td>261</td>\n",
       "      <td>691</td>\n",
       "      <td>10</td>\n",
       "      <td>2061</td>\n",
       "      <td>Writer, editor, aspiring photographer. Native ...</td>\n",
       "      <td>Montana</td>\n",
       "      <td>Tue Feb 01 00:22:51 +0000 2011</td>\n",
       "      <td>4</td>\n",
       "      <td>NaN</td>\n",
       "      <td>0</td>\n",
       "      <td>MontanaMoment</td>\n",
       "      <td>1</td>\n",
       "      <td>LeonKauffman</td>\n",
       "      <td>1</td>\n",
       "      <td>NaN</td>\n",
       "      <td>NaN</td>\n",
       "      <td>&lt;a href=\"http://twitter.com/download/iphone\" r...</td>\n",
       "      <td>NaN</td>\n",
       "      <td>{u'contributors': None, u'truncated': False, u...</td>\n",
       "      <td>NaN</td>\n",
       "      <td>NaN</td>\n",
       "      <td>NaN</td>\n",
       "      <td>NaN</td>\n",
       "      <td>0</td>\n",
       "      <td>0</td>\n",
       "      <td>0</td>\n",
       "    </tr>\n",
       "  </tbody>\n",
       "</table>\n",
       "</div>"
      ],
      "text/plain": [
       "     id         hash_select      tweet_id inserted_date  truncated language  \\\n",
       "0  2546  %2523montanamoment  8.550000e+17       35:55.8          0       en   \n",
       "\n",
       "   possibly_sensitive coordinates                         retweeted_status  \\\n",
       "0                 NaN         NaN  THIS IS A RETWEET --> DOUBLE-CHECK JSON   \n",
       "\n",
       "                  created_at_text created_at  \\\n",
       "0  Fri Apr 21 05:32:02 +0000 2017          D   \n",
       "\n",
       "                                             content from_user_screen_name  \\\n",
       "0  RT @LeonKauffman: The night sky is a fascinati...               J_M1812   \n",
       "\n",
       "   from_user_id  from_user_followers_count  from_user_friends_count  \\\n",
       "0   245570167.0                        261                      691   \n",
       "\n",
       "   from_user_listed_count  from_user_statuses_count  \\\n",
       "0                      10                      2061   \n",
       "\n",
       "                               from_user_description from_user_location  \\\n",
       "0  Writer, editor, aspiring photographer. Native ...            Montana   \n",
       "\n",
       "             from_user_created_at  retweet_count entities_urls  \\\n",
       "0  Tue Feb 01 00:22:51 +0000 2011              4           NaN   \n",
       "\n",
       "   entities_urls_count entities_hashtags  entities_hashtags_count  \\\n",
       "0                    0     MontanaMoment                        1   \n",
       "\n",
       "  entities_mentions  entities_mentions_count in_reply_to_screen_name  \\\n",
       "0      LeonKauffman                        1                     NaN   \n",
       "\n",
       "   in_reply_to_status_id                                             source  \\\n",
       "0                    NaN  <a href=\"http://twitter.com/download/iphone\" r...   \n",
       "\n",
       "  entities_expanded_urls                                        json_output  \\\n",
       "0                    NaN  {u'contributors': None, u'truncated': False, u...   \n",
       "\n",
       "   entities_media_count media_expanded_url media_url media_type  video_link  \\\n",
       "0                   NaN                NaN       NaN        NaN           0   \n",
       "\n",
       "   photo_link  twitpic  \n",
       "0           0        0  "
      ]
     },
     "execution_count": 36,
     "metadata": {},
     "output_type": "execute_result"
    }
   ],
   "source": [
    "df = pd.read_pickle('./data/a_HT_retweetsONLY.pkl')\n",
    "print len(df), 'retweets'\n",
    "df.head(1)"
   ]
  },
  {
   "cell_type": "code",
   "execution_count": 37,
   "metadata": {
    "collapsed": false
   },
   "outputs": [
    {
     "data": {
      "text/plain": [
       "created_at_text    object\n",
       "created_at         object\n",
       "dtype: object"
      ]
     },
     "execution_count": 37,
     "metadata": {},
     "output_type": "execute_result"
    }
   ],
   "source": [
    "df.dtypes[9:11]"
   ]
  },
  {
   "cell_type": "code",
   "execution_count": 38,
   "metadata": {
    "collapsed": true
   },
   "outputs": [],
   "source": [
    "# change the time variable from text to a usable format\n",
    "df['created_at_text'] = pd.to_datetime(df['created_at_text'])"
   ]
  },
  {
   "cell_type": "code",
   "execution_count": 39,
   "metadata": {
    "collapsed": false
   },
   "outputs": [
    {
     "data": {
      "text/plain": [
       "created_at_text    datetime64[ns]\n",
       "created_at                 object\n",
       "dtype: object"
      ]
     },
     "execution_count": 39,
     "metadata": {},
     "output_type": "execute_result"
    }
   ],
   "source": [
    "#confirmed: now python's datetime format\n",
    "df.dtypes[9:11]"
   ]
  },
  {
   "cell_type": "markdown",
   "metadata": {},
   "source": [
    "<br>\n",
    ">### Now, let's set the index to the day a retweet was created and plot it"
   ]
  },
  {
   "cell_type": "code",
   "execution_count": 40,
   "metadata": {
    "collapsed": true
   },
   "outputs": [],
   "source": [
    "# index the df to the time variable\n",
    "df = df.set_index(['created_at_text'])"
   ]
  },
  {
   "cell_type": "code",
   "execution_count": 41,
   "metadata": {
    "collapsed": false
   },
   "outputs": [
    {
     "data": {
      "text/html": [
       "<div>\n",
       "<table border=\"1\" class=\"dataframe\">\n",
       "  <thead>\n",
       "    <tr style=\"text-align: right;\">\n",
       "      <th></th>\n",
       "      <th>id</th>\n",
       "      <th>hash_select</th>\n",
       "      <th>tweet_id</th>\n",
       "      <th>inserted_date</th>\n",
       "      <th>truncated</th>\n",
       "      <th>language</th>\n",
       "      <th>possibly_sensitive</th>\n",
       "      <th>coordinates</th>\n",
       "      <th>retweeted_status</th>\n",
       "      <th>created_at</th>\n",
       "      <th>content</th>\n",
       "      <th>from_user_screen_name</th>\n",
       "      <th>from_user_id</th>\n",
       "      <th>from_user_followers_count</th>\n",
       "      <th>from_user_friends_count</th>\n",
       "      <th>from_user_listed_count</th>\n",
       "      <th>from_user_statuses_count</th>\n",
       "      <th>from_user_description</th>\n",
       "      <th>from_user_location</th>\n",
       "      <th>from_user_created_at</th>\n",
       "      <th>retweet_count</th>\n",
       "      <th>entities_urls</th>\n",
       "      <th>entities_urls_count</th>\n",
       "      <th>entities_hashtags</th>\n",
       "      <th>entities_hashtags_count</th>\n",
       "      <th>entities_mentions</th>\n",
       "      <th>entities_mentions_count</th>\n",
       "      <th>in_reply_to_screen_name</th>\n",
       "      <th>in_reply_to_status_id</th>\n",
       "      <th>source</th>\n",
       "      <th>entities_expanded_urls</th>\n",
       "      <th>json_output</th>\n",
       "      <th>entities_media_count</th>\n",
       "      <th>media_expanded_url</th>\n",
       "      <th>media_url</th>\n",
       "      <th>media_type</th>\n",
       "      <th>video_link</th>\n",
       "      <th>photo_link</th>\n",
       "      <th>twitpic</th>\n",
       "    </tr>\n",
       "    <tr>\n",
       "      <th>created_at_text</th>\n",
       "      <th></th>\n",
       "      <th></th>\n",
       "      <th></th>\n",
       "      <th></th>\n",
       "      <th></th>\n",
       "      <th></th>\n",
       "      <th></th>\n",
       "      <th></th>\n",
       "      <th></th>\n",
       "      <th></th>\n",
       "      <th></th>\n",
       "      <th></th>\n",
       "      <th></th>\n",
       "      <th></th>\n",
       "      <th></th>\n",
       "      <th></th>\n",
       "      <th></th>\n",
       "      <th></th>\n",
       "      <th></th>\n",
       "      <th></th>\n",
       "      <th></th>\n",
       "      <th></th>\n",
       "      <th></th>\n",
       "      <th></th>\n",
       "      <th></th>\n",
       "      <th></th>\n",
       "      <th></th>\n",
       "      <th></th>\n",
       "      <th></th>\n",
       "      <th></th>\n",
       "      <th></th>\n",
       "      <th></th>\n",
       "      <th></th>\n",
       "      <th></th>\n",
       "      <th></th>\n",
       "      <th></th>\n",
       "      <th></th>\n",
       "      <th></th>\n",
       "      <th></th>\n",
       "    </tr>\n",
       "  </thead>\n",
       "  <tbody>\n",
       "    <tr>\n",
       "      <th>2017-04-21 05:32:02</th>\n",
       "      <td>2546</td>\n",
       "      <td>%2523montanamoment</td>\n",
       "      <td>8.550000e+17</td>\n",
       "      <td>35:55.8</td>\n",
       "      <td>0</td>\n",
       "      <td>en</td>\n",
       "      <td>NaN</td>\n",
       "      <td>NaN</td>\n",
       "      <td>THIS IS A RETWEET --&gt; DOUBLE-CHECK JSON</td>\n",
       "      <td>D</td>\n",
       "      <td>RT @LeonKauffman: The night sky is a fascinati...</td>\n",
       "      <td>J_M1812</td>\n",
       "      <td>245570167.0</td>\n",
       "      <td>261</td>\n",
       "      <td>691</td>\n",
       "      <td>10</td>\n",
       "      <td>2061</td>\n",
       "      <td>Writer, editor, aspiring photographer. Native ...</td>\n",
       "      <td>Montana</td>\n",
       "      <td>Tue Feb 01 00:22:51 +0000 2011</td>\n",
       "      <td>4</td>\n",
       "      <td>NaN</td>\n",
       "      <td>0</td>\n",
       "      <td>MontanaMoment</td>\n",
       "      <td>1</td>\n",
       "      <td>LeonKauffman</td>\n",
       "      <td>1</td>\n",
       "      <td>NaN</td>\n",
       "      <td>NaN</td>\n",
       "      <td>&lt;a href=\"http://twitter.com/download/iphone\" r...</td>\n",
       "      <td>NaN</td>\n",
       "      <td>{u'contributors': None, u'truncated': False, u...</td>\n",
       "      <td>NaN</td>\n",
       "      <td>NaN</td>\n",
       "      <td>NaN</td>\n",
       "      <td>NaN</td>\n",
       "      <td>0</td>\n",
       "      <td>0</td>\n",
       "      <td>0</td>\n",
       "    </tr>\n",
       "  </tbody>\n",
       "</table>\n",
       "</div>"
      ],
      "text/plain": [
       "                       id         hash_select      tweet_id inserted_date  \\\n",
       "created_at_text                                                             \n",
       "2017-04-21 05:32:02  2546  %2523montanamoment  8.550000e+17       35:55.8   \n",
       "\n",
       "                     truncated language  possibly_sensitive coordinates  \\\n",
       "created_at_text                                                           \n",
       "2017-04-21 05:32:02          0       en                 NaN         NaN   \n",
       "\n",
       "                                            retweeted_status created_at  \\\n",
       "created_at_text                                                           \n",
       "2017-04-21 05:32:02  THIS IS A RETWEET --> DOUBLE-CHECK JSON          D   \n",
       "\n",
       "                                                               content  \\\n",
       "created_at_text                                                          \n",
       "2017-04-21 05:32:02  RT @LeonKauffman: The night sky is a fascinati...   \n",
       "\n",
       "                    from_user_screen_name  from_user_id  \\\n",
       "created_at_text                                           \n",
       "2017-04-21 05:32:02               J_M1812   245570167.0   \n",
       "\n",
       "                     from_user_followers_count  from_user_friends_count  \\\n",
       "created_at_text                                                           \n",
       "2017-04-21 05:32:02                        261                      691   \n",
       "\n",
       "                     from_user_listed_count  from_user_statuses_count  \\\n",
       "created_at_text                                                         \n",
       "2017-04-21 05:32:02                      10                      2061   \n",
       "\n",
       "                                                 from_user_description  \\\n",
       "created_at_text                                                          \n",
       "2017-04-21 05:32:02  Writer, editor, aspiring photographer. Native ...   \n",
       "\n",
       "                    from_user_location            from_user_created_at  \\\n",
       "created_at_text                                                          \n",
       "2017-04-21 05:32:02            Montana  Tue Feb 01 00:22:51 +0000 2011   \n",
       "\n",
       "                     retweet_count entities_urls  entities_urls_count  \\\n",
       "created_at_text                                                         \n",
       "2017-04-21 05:32:02              4           NaN                    0   \n",
       "\n",
       "                    entities_hashtags  entities_hashtags_count  \\\n",
       "created_at_text                                                  \n",
       "2017-04-21 05:32:02     MontanaMoment                        1   \n",
       "\n",
       "                    entities_mentions  entities_mentions_count  \\\n",
       "created_at_text                                                  \n",
       "2017-04-21 05:32:02      LeonKauffman                        1   \n",
       "\n",
       "                    in_reply_to_screen_name  in_reply_to_status_id  \\\n",
       "created_at_text                                                      \n",
       "2017-04-21 05:32:02                     NaN                    NaN   \n",
       "\n",
       "                                                                source  \\\n",
       "created_at_text                                                          \n",
       "2017-04-21 05:32:02  <a href=\"http://twitter.com/download/iphone\" r...   \n",
       "\n",
       "                    entities_expanded_urls  \\\n",
       "created_at_text                              \n",
       "2017-04-21 05:32:02                    NaN   \n",
       "\n",
       "                                                           json_output  \\\n",
       "created_at_text                                                          \n",
       "2017-04-21 05:32:02  {u'contributors': None, u'truncated': False, u...   \n",
       "\n",
       "                     entities_media_count media_expanded_url media_url  \\\n",
       "created_at_text                                                          \n",
       "2017-04-21 05:32:02                   NaN                NaN       NaN   \n",
       "\n",
       "                    media_type  video_link  photo_link  twitpic  \n",
       "created_at_text                                                  \n",
       "2017-04-21 05:32:02        NaN           0           0        0  "
      ]
     },
     "execution_count": 41,
     "metadata": {},
     "output_type": "execute_result"
    }
   ],
   "source": [
    "df.head(1)"
   ]
  },
  {
   "cell_type": "code",
   "execution_count": 42,
   "metadata": {
    "collapsed": true
   },
   "outputs": [],
   "source": [
    "# a function to apply to the groupby command below. f(x) counts the number of tweets based on the content variable\n",
    "# when added to groupby, it aggregates tweets based on the time variable\n",
    "def f(x):\n",
    "    return Series(dict(num_tweets = x['content'].count(),\n",
    "                      ))"
   ]
  },
  {
   "cell_type": "code",
   "execution_count": 43,
   "metadata": {
    "collapsed": true
   },
   "outputs": [],
   "source": [
    "day_cnt = df.groupby(df.index.date).apply(f)"
   ]
  },
  {
   "cell_type": "code",
   "execution_count": 44,
   "metadata": {
    "collapsed": true
   },
   "outputs": [],
   "source": [
    "day_cnt.index.name = 'date'"
   ]
  },
  {
   "cell_type": "code",
   "execution_count": 45,
   "metadata": {
    "collapsed": false
   },
   "outputs": [
    {
     "name": "stdout",
     "output_type": "stream",
     "text": [
      "105 days\n"
     ]
    },
    {
     "data": {
      "text/html": [
       "<div>\n",
       "<table border=\"1\" class=\"dataframe\">\n",
       "  <thead>\n",
       "    <tr style=\"text-align: right;\">\n",
       "      <th></th>\n",
       "      <th>num_tweets</th>\n",
       "    </tr>\n",
       "    <tr>\n",
       "      <th>date</th>\n",
       "      <th></th>\n",
       "    </tr>\n",
       "  </thead>\n",
       "  <tbody>\n",
       "    <tr>\n",
       "      <th>2016-12-24</th>\n",
       "      <td>22</td>\n",
       "    </tr>\n",
       "    <tr>\n",
       "      <th>2016-12-25</th>\n",
       "      <td>25</td>\n",
       "    </tr>\n",
       "    <tr>\n",
       "      <th>2016-12-26</th>\n",
       "      <td>76</td>\n",
       "    </tr>\n",
       "    <tr>\n",
       "      <th>2016-12-27</th>\n",
       "      <td>36</td>\n",
       "    </tr>\n",
       "    <tr>\n",
       "      <th>2016-12-28</th>\n",
       "      <td>94</td>\n",
       "    </tr>\n",
       "  </tbody>\n",
       "</table>\n",
       "</div>"
      ],
      "text/plain": [
       "            num_tweets\n",
       "date                  \n",
       "2016-12-24          22\n",
       "2016-12-25          25\n",
       "2016-12-26          76\n",
       "2016-12-27          36\n",
       "2016-12-28          94"
      ]
     },
     "execution_count": 45,
     "metadata": {},
     "output_type": "execute_result"
    }
   ],
   "source": [
    "# the HT data contains tweets containing the hashtag 'montanaMoment' (not case sensitive) from 12/24/16 to 04/17/17\n",
    "print len(day_cnt), 'days'\n",
    "day_cnt.head()"
   ]
  },
  {
   "cell_type": "code",
   "execution_count": 46,
   "metadata": {
    "collapsed": false
   },
   "outputs": [
    {
     "data": {
      "text/html": [
       "<div>\n",
       "<table border=\"1\" class=\"dataframe\">\n",
       "  <thead>\n",
       "    <tr style=\"text-align: right;\">\n",
       "      <th></th>\n",
       "      <th>num_tweets</th>\n",
       "    </tr>\n",
       "    <tr>\n",
       "      <th>date</th>\n",
       "      <th></th>\n",
       "    </tr>\n",
       "  </thead>\n",
       "  <tbody>\n",
       "    <tr>\n",
       "      <th>2017-04-17</th>\n",
       "      <td>43</td>\n",
       "    </tr>\n",
       "    <tr>\n",
       "      <th>2017-04-18</th>\n",
       "      <td>53</td>\n",
       "    </tr>\n",
       "    <tr>\n",
       "      <th>2017-04-19</th>\n",
       "      <td>38</td>\n",
       "    </tr>\n",
       "    <tr>\n",
       "      <th>2017-04-20</th>\n",
       "      <td>49</td>\n",
       "    </tr>\n",
       "    <tr>\n",
       "      <th>2017-04-21</th>\n",
       "      <td>18</td>\n",
       "    </tr>\n",
       "  </tbody>\n",
       "</table>\n",
       "</div>"
      ],
      "text/plain": [
       "            num_tweets\n",
       "date                  \n",
       "2017-04-17          43\n",
       "2017-04-18          53\n",
       "2017-04-19          38\n",
       "2017-04-20          49\n",
       "2017-04-21          18"
      ]
     },
     "execution_count": 46,
     "metadata": {},
     "output_type": "execute_result"
    }
   ],
   "source": [
    "day_cnt.tail()"
   ]
  },
  {
   "cell_type": "code",
   "execution_count": 47,
   "metadata": {
    "collapsed": false
   },
   "outputs": [
    {
     "data": {
      "image/png": "[encoded data removed]",
      "text/plain": [
       "<matplotlib.figure.Figure at 0xf4d2f60>"
      ]
     },
     "metadata": {},
     "output_type": "display_data"
    }
   ],
   "source": [
    "day_plot = day_cnt['num_tweets'].plot(kind='line', lw=2, alpha=0.75, legend=True, x_compat=True)\n",
    "\n",
    "day_plot.set_xlabel('Day', weight='bold', labelpad=20, fontsize=17)\n",
    "day_plot.set_ylabel('Number of Retweets', weight='bold', labelpad=20, fontsize=17)\n",
    "\n",
    "xticks(fontsize = 12, rotation = -30, ha =\"left\")\n",
    "yticks(fontsize = 12)                              \n",
    "\n",
    "\n",
    "day_plot.legend_ = None\n",
    "day_plot.tick_params(axis='x', pad=5)\n",
    "\n",
    "\n",
    "#savefig('graph_HT_time_RETweets_day.png', bbox_inches='tight', dpi=300, format='png')"
   ]
  },
  {
   "cell_type": "code",
   "execution_count": 48,
   "metadata": {
    "collapsed": true
   },
   "outputs": [],
   "source": [
    "# day_cnt.to_csv('HT_num_tweets_time_day.csv')"
   ]
  },
  {
   "cell_type": "markdown",
   "metadata": {},
   "source": [
    "<br>\n",
    "<br>\n",
    ">## Retweets by (day-of-) week"
   ]
  },
  {
   "cell_type": "code",
   "execution_count": 49,
   "metadata": {
    "collapsed": true
   },
   "outputs": [],
   "source": [
    "# use the f(x) we wrote earlier to aggregate tweets based on the day of the week they were sent\n",
    "wk_cnt = df.groupby(df.index.weekday).apply(f)"
   ]
  },
  {
   "cell_type": "code",
   "execution_count": 50,
   "metadata": {
    "collapsed": false
   },
   "outputs": [
    {
     "name": "stdout",
     "output_type": "stream",
     "text": [
      "7\n"
     ]
    },
    {
     "data": {
      "text/html": [
       "<div>\n",
       "<table border=\"1\" class=\"dataframe\">\n",
       "  <thead>\n",
       "    <tr style=\"text-align: right;\">\n",
       "      <th></th>\n",
       "      <th>num_tweets</th>\n",
       "    </tr>\n",
       "  </thead>\n",
       "  <tbody>\n",
       "    <tr>\n",
       "      <th>0</th>\n",
       "      <td>671</td>\n",
       "    </tr>\n",
       "    <tr>\n",
       "      <th>1</th>\n",
       "      <td>821</td>\n",
       "    </tr>\n",
       "    <tr>\n",
       "      <th>2</th>\n",
       "      <td>822</td>\n",
       "    </tr>\n",
       "    <tr>\n",
       "      <th>3</th>\n",
       "      <td>800</td>\n",
       "    </tr>\n",
       "    <tr>\n",
       "      <th>4</th>\n",
       "      <td>757</td>\n",
       "    </tr>\n",
       "    <tr>\n",
       "      <th>5</th>\n",
       "      <td>820</td>\n",
       "    </tr>\n",
       "    <tr>\n",
       "      <th>6</th>\n",
       "      <td>791</td>\n",
       "    </tr>\n",
       "  </tbody>\n",
       "</table>\n",
       "</div>"
      ],
      "text/plain": [
       "   num_tweets\n",
       "0         671\n",
       "1         821\n",
       "2         822\n",
       "3         800\n",
       "4         757\n",
       "5         820\n",
       "6         791"
      ]
     },
     "execution_count": 50,
     "metadata": {},
     "output_type": "execute_result"
    }
   ],
   "source": [
    "# 0 = Mon, 6 = sunday\n",
    "\n",
    "print len(wk_cnt)\n",
    "wk_cnt"
   ]
  },
  {
   "cell_type": "code",
   "execution_count": 51,
   "metadata": {
    "collapsed": true
   },
   "outputs": [],
   "source": [
    "# create list of days, assign it to new 'days' variable\n",
    "days = ['Monday', 'Tuesday', 'Wednesday', 'Thursday', 'Friday', 'Saturday', 'Sunday']\n",
    "wk_cnt['days'] = days"
   ]
  },
  {
   "cell_type": "code",
   "execution_count": 52,
   "metadata": {
    "collapsed": false
   },
   "outputs": [
    {
     "data": {
      "image/png": "[encoded data removed]",
      "text/plain": [
       "<matplotlib.figure.Figure at 0xead3898>"
      ]
     },
     "metadata": {},
     "output_type": "display_data"
    }
   ],
   "source": [
    "wk_plot = wk_cnt['num_tweets'].plot(kind='bar', alpha=0.75, legend=True)\n",
    "xticks(np.arange(7), wk_cnt['days'], fontsize = 12, rotation = 0)\n",
    "wk_plot.set_xlabel('Day of the week', weight='bold', labelpad=20, fontsize=17)\n",
    "\n",
    "wk_plot.set_ylabel('Number of Retweets', weight='bold', labelpad=20, fontsize=17)\n",
    "\n",
    "\n",
    "yticks(fontsize = 12)                              \n",
    "\n",
    "\n",
    "wk_plot.legend_ = None\n",
    "wk_plot.tick_params(axis='x', pad=5)\n",
    "\n",
    "#savefig('graph_HT_time_REtweetsONLY_week_bar.png', bbox_inches='tight', dpi=300, format='png')"
   ]
  },
  {
   "cell_type": "markdown",
   "metadata": {},
   "source": [
    "<br>\n",
    "<br>\n",
    ">## Retweets by hour"
   ]
  },
  {
   "cell_type": "code",
   "execution_count": 53,
   "metadata": {
    "collapsed": false
   },
   "outputs": [
    {
     "name": "stdout",
     "output_type": "stream",
     "text": [
      "24\n"
     ]
    },
    {
     "data": {
      "text/html": [
       "<div>\n",
       "<table border=\"1\" class=\"dataframe\">\n",
       "  <thead>\n",
       "    <tr style=\"text-align: right;\">\n",
       "      <th></th>\n",
       "      <th>num_tweets</th>\n",
       "    </tr>\n",
       "  </thead>\n",
       "  <tbody>\n",
       "    <tr>\n",
       "      <th>0</th>\n",
       "      <td>219</td>\n",
       "    </tr>\n",
       "    <tr>\n",
       "      <th>1</th>\n",
       "      <td>264</td>\n",
       "    </tr>\n",
       "    <tr>\n",
       "      <th>2</th>\n",
       "      <td>234</td>\n",
       "    </tr>\n",
       "    <tr>\n",
       "      <th>3</th>\n",
       "      <td>273</td>\n",
       "    </tr>\n",
       "    <tr>\n",
       "      <th>4</th>\n",
       "      <td>306</td>\n",
       "    </tr>\n",
       "    <tr>\n",
       "      <th>5</th>\n",
       "      <td>226</td>\n",
       "    </tr>\n",
       "    <tr>\n",
       "      <th>6</th>\n",
       "      <td>135</td>\n",
       "    </tr>\n",
       "    <tr>\n",
       "      <th>7</th>\n",
       "      <td>106</td>\n",
       "    </tr>\n",
       "    <tr>\n",
       "      <th>8</th>\n",
       "      <td>75</td>\n",
       "    </tr>\n",
       "    <tr>\n",
       "      <th>9</th>\n",
       "      <td>53</td>\n",
       "    </tr>\n",
       "    <tr>\n",
       "      <th>10</th>\n",
       "      <td>66</td>\n",
       "    </tr>\n",
       "    <tr>\n",
       "      <th>11</th>\n",
       "      <td>106</td>\n",
       "    </tr>\n",
       "    <tr>\n",
       "      <th>12</th>\n",
       "      <td>96</td>\n",
       "    </tr>\n",
       "    <tr>\n",
       "      <th>13</th>\n",
       "      <td>154</td>\n",
       "    </tr>\n",
       "    <tr>\n",
       "      <th>14</th>\n",
       "      <td>165</td>\n",
       "    </tr>\n",
       "    <tr>\n",
       "      <th>15</th>\n",
       "      <td>198</td>\n",
       "    </tr>\n",
       "    <tr>\n",
       "      <th>16</th>\n",
       "      <td>220</td>\n",
       "    </tr>\n",
       "    <tr>\n",
       "      <th>17</th>\n",
       "      <td>288</td>\n",
       "    </tr>\n",
       "    <tr>\n",
       "      <th>18</th>\n",
       "      <td>546</td>\n",
       "    </tr>\n",
       "    <tr>\n",
       "      <th>19</th>\n",
       "      <td>457</td>\n",
       "    </tr>\n",
       "    <tr>\n",
       "      <th>20</th>\n",
       "      <td>341</td>\n",
       "    </tr>\n",
       "    <tr>\n",
       "      <th>21</th>\n",
       "      <td>367</td>\n",
       "    </tr>\n",
       "    <tr>\n",
       "      <th>22</th>\n",
       "      <td>311</td>\n",
       "    </tr>\n",
       "    <tr>\n",
       "      <th>23</th>\n",
       "      <td>276</td>\n",
       "    </tr>\n",
       "  </tbody>\n",
       "</table>\n",
       "</div>"
      ],
      "text/plain": [
       "    num_tweets\n",
       "0          219\n",
       "1          264\n",
       "2          234\n",
       "3          273\n",
       "4          306\n",
       "5          226\n",
       "6          135\n",
       "7          106\n",
       "8           75\n",
       "9           53\n",
       "10          66\n",
       "11         106\n",
       "12          96\n",
       "13         154\n",
       "14         165\n",
       "15         198\n",
       "16         220\n",
       "17         288\n",
       "18         546\n",
       "19         457\n",
       "20         341\n",
       "21         367\n",
       "22         311\n",
       "23         276"
      ]
     },
     "execution_count": 53,
     "metadata": {},
     "output_type": "execute_result"
    }
   ],
   "source": [
    "# group the df by hour a tweet is sent\n",
    "hr_cnt = df.groupby(df.index.hour).apply(f)\n",
    "print len(hr_cnt)\n",
    "hr_cnt"
   ]
  },
  {
   "cell_type": "code",
   "execution_count": 54,
   "metadata": {
    "collapsed": true
   },
   "outputs": [],
   "source": [
    "hours = ['18', '19', '20', '21', '22', '23', '0', '1', '2', '3', '4', '5', '6', '7', '8', '9', '10', '11', '12', '13', '14', '15', '16', '17']\n",
    "hr_cnt['hours'] = hours"
   ]
  },
  {
   "cell_type": "code",
   "execution_count": 55,
   "metadata": {
    "collapsed": false
   },
   "outputs": [
    {
     "data": {
      "image/png": "[encoded data removed]",
      "text/plain": [
       "<matplotlib.figure.Figure at 0x12274390>"
      ]
     },
     "metadata": {},
     "output_type": "display_data"
    }
   ],
   "source": [
    "hr_plot = hr_cnt['num_tweets'].plot(kind='line')\n",
    "xticks(np.arange(24), hr_cnt['hours'], rotation = 0,fontsize = 9)\n",
    "\n",
    "hr_plot.set_xlabel('Hour of the Day', weight='bold', labelpad=20, fontsize=17) \n",
    "hr_plot.set_ylabel('Number of Retweets', weight='bold', labelpad=20, fontsize=17)\n",
    "\n",
    "xticks(fontsize = 12)                          \n",
    "yticks(fontsize = 12) \n",
    "\n",
    "day_plot.tick_params(axis='x', pad=5)   \n",
    "day_plot.legend_ = None                           \n",
    "\n",
    "#savefig('graph_HT_time_tweets_hour_line_RETWEETSonly.png', bbox_inches='tight', dpi=300, format='png')"
   ]
  },
  {
   "cell_type": "markdown",
   "metadata": {},
   "source": []
  },
  {
   "cell_type": "markdown",
   "metadata": {},
   "source": [
    "<br>\n",
    "<br>\n",
    ">## Retweets by Month"
   ]
  },
  {
   "cell_type": "code",
   "execution_count": 56,
   "metadata": {
    "collapsed": true
   },
   "outputs": [],
   "source": [
    "# aggregates tweet count by month\n",
    "month_cnt = df.groupby(df.index.month).apply(f)"
   ]
  },
  {
   "cell_type": "code",
   "execution_count": 57,
   "metadata": {
    "collapsed": false
   },
   "outputs": [
    {
     "name": "stdout",
     "output_type": "stream",
     "text": [
      "5\n"
     ]
    },
    {
     "data": {
      "text/html": [
       "<div>\n",
       "<table border=\"1\" class=\"dataframe\">\n",
       "  <thead>\n",
       "    <tr style=\"text-align: right;\">\n",
       "      <th></th>\n",
       "      <th>num_tweets</th>\n",
       "    </tr>\n",
       "  </thead>\n",
       "  <tbody>\n",
       "    <tr>\n",
       "      <th>1</th>\n",
       "      <td>1106</td>\n",
       "    </tr>\n",
       "    <tr>\n",
       "      <th>2</th>\n",
       "      <td>1580</td>\n",
       "    </tr>\n",
       "    <tr>\n",
       "      <th>3</th>\n",
       "      <td>1457</td>\n",
       "    </tr>\n",
       "    <tr>\n",
       "      <th>4</th>\n",
       "      <td>948</td>\n",
       "    </tr>\n",
       "    <tr>\n",
       "      <th>12</th>\n",
       "      <td>391</td>\n",
       "    </tr>\n",
       "  </tbody>\n",
       "</table>\n",
       "</div>"
      ],
      "text/plain": [
       "    num_tweets\n",
       "1         1106\n",
       "2         1580\n",
       "3         1457\n",
       "4          948\n",
       "12         391"
      ]
     },
     "execution_count": 57,
     "metadata": {},
     "output_type": "execute_result"
    }
   ],
   "source": [
    "print len(month_cnt)\n",
    "month_cnt"
   ]
  },
  {
   "cell_type": "code",
   "execution_count": 58,
   "metadata": {
    "collapsed": false
   },
   "outputs": [
    {
     "data": {
      "text/html": [
       "<div>\n",
       "<table border=\"1\" class=\"dataframe\">\n",
       "  <thead>\n",
       "    <tr style=\"text-align: right;\">\n",
       "      <th></th>\n",
       "      <th>num_tweets</th>\n",
       "    </tr>\n",
       "  </thead>\n",
       "  <tbody>\n",
       "    <tr>\n",
       "      <th>12</th>\n",
       "      <td>391</td>\n",
       "    </tr>\n",
       "    <tr>\n",
       "      <th>1</th>\n",
       "      <td>1106</td>\n",
       "    </tr>\n",
       "    <tr>\n",
       "      <th>2</th>\n",
       "      <td>1580</td>\n",
       "    </tr>\n",
       "    <tr>\n",
       "      <th>3</th>\n",
       "      <td>1457</td>\n",
       "    </tr>\n",
       "    <tr>\n",
       "      <th>4</th>\n",
       "      <td>948</td>\n",
       "    </tr>\n",
       "  </tbody>\n",
       "</table>\n",
       "</div>"
      ],
      "text/plain": [
       "    num_tweets\n",
       "12         391\n",
       "1         1106\n",
       "2         1580\n",
       "3         1457\n",
       "4          948"
      ]
     },
     "execution_count": 58,
     "metadata": {},
     "output_type": "execute_result"
    }
   ],
   "source": [
    "# manually reindex the month_cnt DataFrame to graph in chronological order\n",
    "month_cnt2 = month_cnt.reindex([12,1,2,3,4])\n",
    "month_cnt2"
   ]
  },
  {
   "cell_type": "code",
   "execution_count": 59,
   "metadata": {
    "collapsed": false
   },
   "outputs": [
    {
     "data": {
      "image/png": "[encoded data removed]",
      "text/plain": [
       "<matplotlib.figure.Figure at 0xf4d2f28>"
      ]
     },
     "metadata": {},
     "output_type": "display_data"
    }
   ],
   "source": [
    "month_plot = month_cnt2['num_tweets'].plot(kind='bar', alpha=0.75)\n",
    "months = ['December', 'January', 'February', 'March', 'April']\n",
    "xticks(np.arange(5), months, rotation = 0,fontsize = 9)\n",
    "\n",
    "month_plot.set_xlabel('Month', weight='bold', labelpad=20, fontsize=17) \n",
    "month_plot.set_ylabel('Number of Retweets', weight='bold', labelpad=20, fontsize=17)\n",
    "\n",
    "xticks(fontsize = 12)                          \n",
    "yticks(fontsize = 12) \n",
    "\n",
    "month_plot.tick_params(axis='x', pad=5)   \n",
    "month_plot.legend_ = None                           \n",
    "\n",
    "# savefig('graph_HT_time_RETweets_month_bar.png', bbox_inches='tight', dpi=300, format='png')"
   ]
  },
  {
   "cell_type": "markdown",
   "metadata": {},
   "source": [
    "---\n",
    "<br>\n",
    "## That's all for now. Next, we'll create the variables we'll use in the regression analyses\n",
    "<br>\n",
    "<br>"
   ]
  }
 ],
 "metadata": {
  "anaconda-cloud": {},
  "kernelspec": {
   "display_name": "Python [default]",
   "language": "python",
   "name": "python2"
  },
  "language_info": {
   "codemirror_mode": {
    "name": "ipython",
    "version": 2
   },
   "file_extension": ".py",
   "mimetype": "text/x-python",
   "name": "python",
   "nbconvert_exporter": "python",
   "pygments_lexer": "ipython2",
   "version": "2.7.12"
  }
 },
 "nbformat": 4,
 "nbformat_minor": 1
}
