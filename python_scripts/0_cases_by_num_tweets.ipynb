{
 "cells": [
  {
   "cell_type": "markdown",
   "metadata": {},
   "source": [
    "# Aggregating & Describing the Hashtag Data by Unique Users\n",
    "------\n",
    "<br>\n",
    "\n",
    "><p style='font-size: medium; font-style: Garramond;'>After importing the packages we'll use & setting display preferences, we'll take a look at some of the stats surrounding the accounts represented in the dataset. Even though we have a tweet-level dataset, we can aggregate the data by the unique accounts in order to get a sense of how represented some accounts are in relation to others. To help understand this relationship better & inform the creation of the account-type variables to be used in the study, we will also visualize some of these relationships using the pandas and numpy packages for Python.</p>\n",
    "</br>"
   ]
  },
  {
   "cell_type": "code",
   "execution_count": 1,
   "metadata": {
    "collapsed": true
   },
   "outputs": [],
   "source": [
    "import numpy as np\n",
    "import pandas as pd\n",
    "from pandas import DataFrame\n",
    "from pandas import Series"
   ]
  },
  {
   "cell_type": "code",
   "execution_count": 2,
   "metadata": {
    "collapsed": true
   },
   "outputs": [],
   "source": [
    "pd.set_option('display.max_columns', None)"
   ]
  },
  {
   "cell_type": "code",
   "execution_count": 3,
   "metadata": {
    "collapsed": true
   },
   "outputs": [],
   "source": [
    "import matplotlib as plt"
   ]
  },
  {
   "cell_type": "code",
   "execution_count": 4,
   "metadata": {
    "collapsed": true
   },
   "outputs": [],
   "source": [
    "from pylab import *"
   ]
  },
  {
   "cell_type": "code",
   "execution_count": 5,
   "metadata": {
    "collapsed": false
   },
   "outputs": [],
   "source": [
    "%matplotlib inline"
   ]
  },
  {
   "cell_type": "code",
   "execution_count": 7,
   "metadata": {
    "collapsed": true
   },
   "outputs": [],
   "source": [
    "plt.rcParams['figure.figsize'] = (20, 10)"
   ]
  },
  {
   "cell_type": "code",
   "execution_count": 8,
   "metadata": {
    "collapsed": true
   },
   "outputs": [],
   "source": [
    "import seaborn as sns"
   ]
  },
  {
   "cell_type": "code",
   "execution_count": 9,
   "metadata": {
    "collapsed": false,
    "scrolled": true
   },
   "outputs": [
    {
     "name": "stdout",
     "output_type": "stream",
     "text": [
      "2187\n"
     ]
    },
    {
     "data": {
      "text/html": [
       "<div>\n",
       "<table border=\"1\" class=\"dataframe\">\n",
       "  <thead>\n",
       "    <tr style=\"text-align: right;\">\n",
       "      <th></th>\n",
       "      <th>id</th>\n",
       "      <th>hash_select</th>\n",
       "      <th>tweet_id</th>\n",
       "      <th>inserted_date</th>\n",
       "      <th>truncated</th>\n",
       "      <th>language</th>\n",
       "      <th>possibly_sensitive</th>\n",
       "      <th>coordinates</th>\n",
       "      <th>retweeted_status</th>\n",
       "      <th>created_at_text</th>\n",
       "      <th>created_at</th>\n",
       "      <th>content</th>\n",
       "      <th>from_user_screen_name</th>\n",
       "      <th>from_user_id</th>\n",
       "      <th>from_user_followers_count</th>\n",
       "      <th>from_user_friends_count</th>\n",
       "      <th>from_user_listed_count</th>\n",
       "      <th>from_user_statuses_count</th>\n",
       "      <th>from_user_description</th>\n",
       "      <th>from_user_location</th>\n",
       "      <th>from_user_created_at</th>\n",
       "      <th>retweet_count</th>\n",
       "      <th>entities_urls</th>\n",
       "      <th>entities_urls_count</th>\n",
       "      <th>entities_hashtags</th>\n",
       "      <th>entities_hashtags_count</th>\n",
       "      <th>entities_mentions</th>\n",
       "      <th>entities_mentions_count</th>\n",
       "      <th>in_reply_to_screen_name</th>\n",
       "      <th>in_reply_to_status_id</th>\n",
       "      <th>source</th>\n",
       "      <th>entities_expanded_urls</th>\n",
       "      <th>json_output</th>\n",
       "      <th>entities_media_count</th>\n",
       "      <th>media_expanded_url</th>\n",
       "      <th>media_url</th>\n",
       "      <th>media_type</th>\n",
       "      <th>video_link</th>\n",
       "      <th>photo_link</th>\n",
       "      <th>twitpic</th>\n",
       "    </tr>\n",
       "  </thead>\n",
       "  <tbody>\n",
       "    <tr>\n",
       "      <th>9</th>\n",
       "      <td>2555</td>\n",
       "      <td>%2523montanamoment</td>\n",
       "      <td>8.550000e+17</td>\n",
       "      <td>35:57.3</td>\n",
       "      <td>0</td>\n",
       "      <td>en</td>\n",
       "      <td>0.0</td>\n",
       "      <td>NaN</td>\n",
       "      <td>NaN</td>\n",
       "      <td>Fri Apr 21 04:21:17 +0000 2017</td>\n",
       "      <td>21:17.0</td>\n",
       "      <td>The night sky is a fascinating place especiall...</td>\n",
       "      <td>LeonKauffman</td>\n",
       "      <td>4.251257e+08</td>\n",
       "      <td>673</td>\n",
       "      <td>152</td>\n",
       "      <td>39</td>\n",
       "      <td>1616</td>\n",
       "      <td>Hydrologist, photographer, fan of Drexel baske...</td>\n",
       "      <td>Condon, Montana, USA</td>\n",
       "      <td>Wed Nov 30 15:58:25 +0000 2011</td>\n",
       "      <td>4</td>\n",
       "      <td>NaN</td>\n",
       "      <td>0</td>\n",
       "      <td>MontanaMoment</td>\n",
       "      <td>1</td>\n",
       "      <td>NaN</td>\n",
       "      <td>0</td>\n",
       "      <td>NaN</td>\n",
       "      <td>NaN</td>\n",
       "      <td>&lt;a href=\"https://about.twitter.com/products/tw...</td>\n",
       "      <td>NaN</td>\n",
       "      <td>{u'contributors': None, u'truncated': False, u...</td>\n",
       "      <td>1.0</td>\n",
       "      <td>https://twitter.com/LeonKauffman/status/855275...</td>\n",
       "      <td>http://pbs.twimg.com/media/C96LaxcUQAEMOQl.jpg</td>\n",
       "      <td>photo</td>\n",
       "      <td>0</td>\n",
       "      <td>0</td>\n",
       "      <td>0</td>\n",
       "    </tr>\n",
       "    <tr>\n",
       "      <th>10</th>\n",
       "      <td>2556</td>\n",
       "      <td>%2523montanamoment</td>\n",
       "      <td>8.550000e+17</td>\n",
       "      <td>35:57.7</td>\n",
       "      <td>0</td>\n",
       "      <td>en</td>\n",
       "      <td>0.0</td>\n",
       "      <td>NaN</td>\n",
       "      <td>NaN</td>\n",
       "      <td>Fri Apr 21 03:15:27 +0000 2017</td>\n",
       "      <td>15:27.0</td>\n",
       "      <td>Nick's view of the #sunset from Sunset Bench i...</td>\n",
       "      <td>ErinWx</td>\n",
       "      <td>1.636606e+08</td>\n",
       "      <td>632</td>\n",
       "      <td>243</td>\n",
       "      <td>47</td>\n",
       "      <td>10327</td>\n",
       "      <td>Chief Meteorologist for CBS affiliate KPAX-TV ...</td>\n",
       "      <td>Missoula, MT</td>\n",
       "      <td>Wed Jul 07 00:05:20 +0000 2010</td>\n",
       "      <td>0</td>\n",
       "      <td>NaN</td>\n",
       "      <td>0</td>\n",
       "      <td>sunset, Bitterroot, mtwx, Montana, MontanaMoment</td>\n",
       "      <td>5</td>\n",
       "      <td>NaN</td>\n",
       "      <td>0</td>\n",
       "      <td>NaN</td>\n",
       "      <td>NaN</td>\n",
       "      <td>&lt;a href=\"http://www.socialnewsdesk.com\" rel=\"n...</td>\n",
       "      <td>NaN</td>\n",
       "      <td>{u'contributors': None, u'truncated': False, u...</td>\n",
       "      <td>1.0</td>\n",
       "      <td>https://twitter.com/ErinWx/status/855258652323...</td>\n",
       "      <td>http://pbs.twimg.com/media/C959NaAXcAAuGyH.jpg</td>\n",
       "      <td>photo</td>\n",
       "      <td>0</td>\n",
       "      <td>0</td>\n",
       "      <td>0</td>\n",
       "    </tr>\n",
       "    <tr>\n",
       "      <th>11</th>\n",
       "      <td>2557</td>\n",
       "      <td>%2523montanamoment</td>\n",
       "      <td>8.550000e+17</td>\n",
       "      <td>35:58.0</td>\n",
       "      <td>0</td>\n",
       "      <td>en</td>\n",
       "      <td>0.0</td>\n",
       "      <td>NaN</td>\n",
       "      <td>NaN</td>\n",
       "      <td>Fri Apr 21 03:15:25 +0000 2017</td>\n",
       "      <td>15:25.0</td>\n",
       "      <td>Nick's view of the #sunset from Sunset Bench i...</td>\n",
       "      <td>wxmissoula</td>\n",
       "      <td>2.208096e+07</td>\n",
       "      <td>1550</td>\n",
       "      <td>6</td>\n",
       "      <td>55</td>\n",
       "      <td>10450</td>\n",
       "      <td>Stormtracker Weather</td>\n",
       "      <td>Missoula, MT</td>\n",
       "      <td>Thu Feb 26 23:47:21 +0000 2009</td>\n",
       "      <td>0</td>\n",
       "      <td>NaN</td>\n",
       "      <td>0</td>\n",
       "      <td>sunset, Bitterroot, mtwx, Montana, MontanaMoment</td>\n",
       "      <td>5</td>\n",
       "      <td>NaN</td>\n",
       "      <td>0</td>\n",
       "      <td>NaN</td>\n",
       "      <td>NaN</td>\n",
       "      <td>&lt;a href=\"http://www.socialnewsdesk.com\" rel=\"n...</td>\n",
       "      <td>NaN</td>\n",
       "      <td>{u'contributors': None, u'truncated': False, u...</td>\n",
       "      <td>1.0</td>\n",
       "      <td>https://twitter.com/wxmissoula/status/85525864...</td>\n",
       "      <td>http://pbs.twimg.com/media/C959M38XoAA1tIY.jpg</td>\n",
       "      <td>photo</td>\n",
       "      <td>0</td>\n",
       "      <td>0</td>\n",
       "      <td>0</td>\n",
       "    </tr>\n",
       "    <tr>\n",
       "      <th>22</th>\n",
       "      <td>2568</td>\n",
       "      <td>%2523montanamoment</td>\n",
       "      <td>8.550000e+17</td>\n",
       "      <td>36:00.0</td>\n",
       "      <td>0</td>\n",
       "      <td>en</td>\n",
       "      <td>0.0</td>\n",
       "      <td>NaN</td>\n",
       "      <td>NaN</td>\n",
       "      <td>Thu Apr 20 23:42:12 +0000 2017</td>\n",
       "      <td>42:12.0</td>\n",
       "      <td>Some more \"wallpaper\" from our family's homest...</td>\n",
       "      <td>lastbestbox</td>\n",
       "      <td>8.190000e+17</td>\n",
       "      <td>186</td>\n",
       "      <td>741</td>\n",
       "      <td>4</td>\n",
       "      <td>284</td>\n",
       "      <td>Now Open! A new Montana based subscription box...</td>\n",
       "      <td>Missoula, MT</td>\n",
       "      <td>Wed Jan 11 21:01:50 +0000 2017</td>\n",
       "      <td>0</td>\n",
       "      <td>https://t.co/QeMPO1wuW8</td>\n",
       "      <td>1</td>\n",
       "      <td>montanamoment, lastbestbox, montana, montanahi...</td>\n",
       "      <td>4</td>\n",
       "      <td>NaN</td>\n",
       "      <td>0</td>\n",
       "      <td>NaN</td>\n",
       "      <td>NaN</td>\n",
       "      <td>&lt;a href=\"http://www.facebook.com/twitter\" rel=...</td>\n",
       "      <td>http://fb.me/7qwPMbA3m</td>\n",
       "      <td>{u'contributors': None, u'truncated': False, u...</td>\n",
       "      <td>NaN</td>\n",
       "      <td>NaN</td>\n",
       "      <td>NaN</td>\n",
       "      <td>NaN</td>\n",
       "      <td>0</td>\n",
       "      <td>0</td>\n",
       "      <td>0</td>\n",
       "    </tr>\n",
       "    <tr>\n",
       "      <th>24</th>\n",
       "      <td>2570</td>\n",
       "      <td>%2523montanamoment</td>\n",
       "      <td>8.550000e+17</td>\n",
       "      <td>36:00.0</td>\n",
       "      <td>0</td>\n",
       "      <td>en</td>\n",
       "      <td>0.0</td>\n",
       "      <td>NaN</td>\n",
       "      <td>NaN</td>\n",
       "      <td>Thu Apr 20 23:26:55 +0000 2017</td>\n",
       "      <td>26:55.0</td>\n",
       "      <td>Spotted 2 moose in the Big Sky meadow! @explor...</td>\n",
       "      <td>ShannonAMay</td>\n",
       "      <td>7.018525e+07</td>\n",
       "      <td>1128</td>\n",
       "      <td>766</td>\n",
       "      <td>80</td>\n",
       "      <td>11938</td>\n",
       "      <td>Freelance Marketing Consultant. Iced Coffee Dr...</td>\n",
       "      <td>Big Sky, Montana</td>\n",
       "      <td>Sun Aug 30 18:51:26 +0000 2009</td>\n",
       "      <td>0</td>\n",
       "      <td>NaN</td>\n",
       "      <td>0</td>\n",
       "      <td>MontanaMoment</td>\n",
       "      <td>1</td>\n",
       "      <td>explorebigsky</td>\n",
       "      <td>1</td>\n",
       "      <td>NaN</td>\n",
       "      <td>NaN</td>\n",
       "      <td>&lt;a href=\"http://twitter.com\" rel=\"nofollow\"&gt;Tw...</td>\n",
       "      <td>NaN</td>\n",
       "      <td>{u'contributors': None, u'truncated': False, u...</td>\n",
       "      <td>1.0</td>\n",
       "      <td>https://twitter.com/ShannonAMay/status/8552011...</td>\n",
       "      <td>http://pbs.twimg.com/media/C95IpAEUwAE_5ge.jpg</td>\n",
       "      <td>photo</td>\n",
       "      <td>0</td>\n",
       "      <td>0</td>\n",
       "      <td>0</td>\n",
       "    </tr>\n",
       "  </tbody>\n",
       "</table>\n",
       "</div>"
      ],
      "text/plain": [
       "      id         hash_select      tweet_id inserted_date  truncated language  \\\n",
       "9   2555  %2523montanamoment  8.550000e+17       35:57.3          0       en   \n",
       "10  2556  %2523montanamoment  8.550000e+17       35:57.7          0       en   \n",
       "11  2557  %2523montanamoment  8.550000e+17       35:58.0          0       en   \n",
       "22  2568  %2523montanamoment  8.550000e+17       36:00.0          0       en   \n",
       "24  2570  %2523montanamoment  8.550000e+17       36:00.0          0       en   \n",
       "\n",
       "    possibly_sensitive coordinates retweeted_status  \\\n",
       "9                  0.0         NaN              NaN   \n",
       "10                 0.0         NaN              NaN   \n",
       "11                 0.0         NaN              NaN   \n",
       "22                 0.0         NaN              NaN   \n",
       "24                 0.0         NaN              NaN   \n",
       "\n",
       "                   created_at_text created_at  \\\n",
       "9   Fri Apr 21 04:21:17 +0000 2017    21:17.0   \n",
       "10  Fri Apr 21 03:15:27 +0000 2017    15:27.0   \n",
       "11  Fri Apr 21 03:15:25 +0000 2017    15:25.0   \n",
       "22  Thu Apr 20 23:42:12 +0000 2017    42:12.0   \n",
       "24  Thu Apr 20 23:26:55 +0000 2017    26:55.0   \n",
       "\n",
       "                                              content from_user_screen_name  \\\n",
       "9   The night sky is a fascinating place especiall...          LeonKauffman   \n",
       "10  Nick's view of the #sunset from Sunset Bench i...                ErinWx   \n",
       "11  Nick's view of the #sunset from Sunset Bench i...            wxmissoula   \n",
       "22  Some more \"wallpaper\" from our family's homest...           lastbestbox   \n",
       "24  Spotted 2 moose in the Big Sky meadow! @explor...           ShannonAMay   \n",
       "\n",
       "    from_user_id  from_user_followers_count  from_user_friends_count  \\\n",
       "9   4.251257e+08                        673                      152   \n",
       "10  1.636606e+08                        632                      243   \n",
       "11  2.208096e+07                       1550                        6   \n",
       "22  8.190000e+17                        186                      741   \n",
       "24  7.018525e+07                       1128                      766   \n",
       "\n",
       "    from_user_listed_count  from_user_statuses_count  \\\n",
       "9                       39                      1616   \n",
       "10                      47                     10327   \n",
       "11                      55                     10450   \n",
       "22                       4                       284   \n",
       "24                      80                     11938   \n",
       "\n",
       "                                from_user_description    from_user_location  \\\n",
       "9   Hydrologist, photographer, fan of Drexel baske...  Condon, Montana, USA   \n",
       "10  Chief Meteorologist for CBS affiliate KPAX-TV ...          Missoula, MT   \n",
       "11                               Stormtracker Weather          Missoula, MT   \n",
       "22  Now Open! A new Montana based subscription box...          Missoula, MT   \n",
       "24  Freelance Marketing Consultant. Iced Coffee Dr...      Big Sky, Montana   \n",
       "\n",
       "              from_user_created_at  retweet_count            entities_urls  \\\n",
       "9   Wed Nov 30 15:58:25 +0000 2011              4                      NaN   \n",
       "10  Wed Jul 07 00:05:20 +0000 2010              0                      NaN   \n",
       "11  Thu Feb 26 23:47:21 +0000 2009              0                      NaN   \n",
       "22  Wed Jan 11 21:01:50 +0000 2017              0  https://t.co/QeMPO1wuW8   \n",
       "24  Sun Aug 30 18:51:26 +0000 2009              0                      NaN   \n",
       "\n",
       "    entities_urls_count                                  entities_hashtags  \\\n",
       "9                     0                                      MontanaMoment   \n",
       "10                    0   sunset, Bitterroot, mtwx, Montana, MontanaMoment   \n",
       "11                    0   sunset, Bitterroot, mtwx, Montana, MontanaMoment   \n",
       "22                    1  montanamoment, lastbestbox, montana, montanahi...   \n",
       "24                    0                                      MontanaMoment   \n",
       "\n",
       "    entities_hashtags_count entities_mentions  entities_mentions_count  \\\n",
       "9                         1               NaN                        0   \n",
       "10                        5               NaN                        0   \n",
       "11                        5               NaN                        0   \n",
       "22                        4               NaN                        0   \n",
       "24                        1     explorebigsky                        1   \n",
       "\n",
       "   in_reply_to_screen_name  in_reply_to_status_id  \\\n",
       "9                      NaN                    NaN   \n",
       "10                     NaN                    NaN   \n",
       "11                     NaN                    NaN   \n",
       "22                     NaN                    NaN   \n",
       "24                     NaN                    NaN   \n",
       "\n",
       "                                               source  entities_expanded_urls  \\\n",
       "9   <a href=\"https://about.twitter.com/products/tw...                     NaN   \n",
       "10  <a href=\"http://www.socialnewsdesk.com\" rel=\"n...                     NaN   \n",
       "11  <a href=\"http://www.socialnewsdesk.com\" rel=\"n...                     NaN   \n",
       "22  <a href=\"http://www.facebook.com/twitter\" rel=...  http://fb.me/7qwPMbA3m   \n",
       "24  <a href=\"http://twitter.com\" rel=\"nofollow\">Tw...                     NaN   \n",
       "\n",
       "                                          json_output  entities_media_count  \\\n",
       "9   {u'contributors': None, u'truncated': False, u...                   1.0   \n",
       "10  {u'contributors': None, u'truncated': False, u...                   1.0   \n",
       "11  {u'contributors': None, u'truncated': False, u...                   1.0   \n",
       "22  {u'contributors': None, u'truncated': False, u...                   NaN   \n",
       "24  {u'contributors': None, u'truncated': False, u...                   1.0   \n",
       "\n",
       "                                   media_expanded_url  \\\n",
       "9   https://twitter.com/LeonKauffman/status/855275...   \n",
       "10  https://twitter.com/ErinWx/status/855258652323...   \n",
       "11  https://twitter.com/wxmissoula/status/85525864...   \n",
       "22                                                NaN   \n",
       "24  https://twitter.com/ShannonAMay/status/8552011...   \n",
       "\n",
       "                                         media_url media_type  video_link  \\\n",
       "9   http://pbs.twimg.com/media/C96LaxcUQAEMOQl.jpg      photo           0   \n",
       "10  http://pbs.twimg.com/media/C959NaAXcAAuGyH.jpg      photo           0   \n",
       "11  http://pbs.twimg.com/media/C959M38XoAA1tIY.jpg      photo           0   \n",
       "22                                             NaN        NaN           0   \n",
       "24  http://pbs.twimg.com/media/C95IpAEUwAE_5ge.jpg      photo           0   \n",
       "\n",
       "    photo_link  twitpic  \n",
       "9            0        0  \n",
       "10           0        0  \n",
       "11           0        0  \n",
       "22           0        0  \n",
       "24           0        0  "
      ]
     },
     "execution_count": 9,
     "metadata": {},
     "output_type": "execute_result"
    }
   ],
   "source": [
    "df = pd.read_pickle('a_HT_no_retweets.pkl')\n",
    "print len(df)\n",
    "df.head()"
   ]
  },
  {
   "cell_type": "code",
   "execution_count": 10,
   "metadata": {
    "collapsed": false
   },
   "outputs": [
    {
     "data": {
      "text/plain": [
       "2187"
      ]
     },
     "execution_count": 10,
     "metadata": {},
     "output_type": "execute_result"
    }
   ],
   "source": [
    "len(df)"
   ]
  },
  {
   "cell_type": "code",
   "execution_count": 11,
   "metadata": {
    "collapsed": false
   },
   "outputs": [],
   "source": [
    "# a function to apply to the df aggregation below. This counts the # of tweets from each user.\n",
    "def f(x):\n",
    "    return Series(dict(num_tweets = x['content'].count(),\n",
    "                       ))"
   ]
  },
  {
   "cell_type": "code",
   "execution_count": 12,
   "metadata": {
    "collapsed": false
   },
   "outputs": [
    {
     "name": "stdout",
     "output_type": "stream",
     "text": [
      "546\n"
     ]
    }
   ],
   "source": [
    "# aggregate the df to the user-level to count num of tweets by user\n",
    "user_data = df.groupby('from_user_screen_name').apply(f)\n",
    "print len(user_data)"
   ]
  },
  {
   "cell_type": "code",
   "execution_count": 13,
   "metadata": {
    "collapsed": false
   },
   "outputs": [
    {
     "data": {
      "text/plain": [
       "True"
      ]
     },
     "execution_count": 13,
     "metadata": {},
     "output_type": "execute_result"
    }
   ],
   "source": [
    "# user_data aggregated properly. It's length is equal to the # of unique user names (3100)\n",
    "len(pd.unique(df.from_user_screen_name.ravel())) == len(user_data)"
   ]
  },
  {
   "cell_type": "code",
   "execution_count": 14,
   "metadata": {
    "collapsed": false
   },
   "outputs": [
    {
     "data": {
      "text/html": [
       "<div>\n",
       "<table border=\"1\" class=\"dataframe\">\n",
       "  <thead>\n",
       "    <tr style=\"text-align: right;\">\n",
       "      <th></th>\n",
       "      <th>num_tweets</th>\n",
       "    </tr>\n",
       "    <tr>\n",
       "      <th>from_user_screen_name</th>\n",
       "      <th></th>\n",
       "    </tr>\n",
       "  </thead>\n",
       "  <tbody>\n",
       "    <tr>\n",
       "      <th>1Blonde_Amy</th>\n",
       "      <td>8</td>\n",
       "    </tr>\n",
       "    <tr>\n",
       "      <th>22Lupfer</th>\n",
       "      <td>18</td>\n",
       "    </tr>\n",
       "    <tr>\n",
       "      <th>3footedcat</th>\n",
       "      <td>3</td>\n",
       "    </tr>\n",
       "    <tr>\n",
       "      <th>406DMF</th>\n",
       "      <td>1</td>\n",
       "    </tr>\n",
       "    <tr>\n",
       "      <th>406Productions_</th>\n",
       "      <td>1</td>\n",
       "    </tr>\n",
       "  </tbody>\n",
       "</table>\n",
       "</div>"
      ],
      "text/plain": [
       "                       num_tweets\n",
       "from_user_screen_name            \n",
       "1Blonde_Amy                     8\n",
       "22Lupfer                       18\n",
       "3footedcat                      3\n",
       "406DMF                          1\n",
       "406Productions_                 1"
      ]
     },
     "execution_count": 14,
     "metadata": {},
     "output_type": "execute_result"
    }
   ],
   "source": [
    "# the output looks good, let's dig deeper\n",
    "user_data.head()"
   ]
  },
  {
   "cell_type": "code",
   "execution_count": 15,
   "metadata": {
    "collapsed": false
   },
   "outputs": [
    {
     "data": {
      "text/plain": [
       "30"
      ]
     },
     "execution_count": 15,
     "metadata": {},
     "output_type": "execute_result"
    }
   ],
   "source": [
    "# this shows the how many unique values the num_tweets variable has. It is likely, for example, that many of the 546 users \n",
    "# have only one case in the dataset.\n",
    "len(pd.unique(user_data.num_tweets.ravel()))"
   ]
  },
  {
   "cell_type": "code",
   "execution_count": 16,
   "metadata": {
    "collapsed": false
   },
   "outputs": [
    {
     "data": {
      "text/plain": [
       "num_tweets    318\n",
       "dtype: int64"
      ]
     },
     "execution_count": 16,
     "metadata": {},
     "output_type": "execute_result"
    }
   ],
   "source": [
    "# the highest # tweets from single user = 318\n",
    "user_data.max()"
   ]
  },
  {
   "cell_type": "code",
   "execution_count": 17,
   "metadata": {
    "collapsed": false
   },
   "outputs": [
    {
     "data": {
      "text/plain": [
       "num_tweets    1\n",
       "dtype: int64"
      ]
     },
     "execution_count": 17,
     "metadata": {},
     "output_type": "execute_result"
    }
   ],
   "source": [
    "# as displayed in chart above, min value = 1 tweet sent (which makes sense; otherwise, they wouldn't be in the dataset)\n",
    "user_data.min()"
   ]
  },
  {
   "cell_type": "code",
   "execution_count": 19,
   "metadata": {
    "collapsed": false
   },
   "outputs": [
    {
     "data": {
      "text/plain": [
       "True"
      ]
     },
     "execution_count": 19,
     "metadata": {},
     "output_type": "execute_result"
    }
   ],
   "source": [
    "# check that total num of tweets in user_data correctly matches the total in the orginal df (i.e., none were dropped)\n",
    "len(df) == user_data.num_tweets.sum()"
   ]
  },
  {
   "cell_type": "code",
   "execution_count": 20,
   "metadata": {
    "collapsed": false
   },
   "outputs": [
    {
     "name": "stdout",
     "output_type": "stream",
     "text": [
      "range of number of tweets: 1 to 318\n",
      "average number of tweets: 4.01\n"
     ]
    }
   ],
   "source": [
    "# this means we can take the average tweet by dividing all tweets by users\n",
    "\n",
    "avg = str(round(len(df)/float(len(user_data)), 2))\n",
    "print \"range of number of tweets: 1 to 318\"\n",
    "print \"average number of tweets: \" + avg"
   ]
  },
  {
   "cell_type": "code",
   "execution_count": 33,
   "metadata": {
    "collapsed": false
   },
   "outputs": [],
   "source": [
    "# looks like the data has some outliers\n",
    "\n",
    "user_data.to_csv('HT_num_tweets_by_userNRETWEETS.csv')"
   ]
  },
  {
   "cell_type": "markdown",
   "metadata": {},
   "source": [
    "<br>\n",
    "## Identifiying users by number of cases in the dataset\n",
    "------\n",
    "><p style='font-size: large'>To determine how to best categorize the account-types, it will be important to estimate the spreadness of the data. To start, we'll see if any users are overrepresented in the dataset by sorting the dataset by the number of tweets (cases) each tweet has in the dataset</p>\n",
    "<br>"
   ]
  },
  {
   "cell_type": "code",
   "execution_count": 22,
   "metadata": {
    "collapsed": false
   },
   "outputs": [],
   "source": [
    "# sort user-level df by # of tweets\n",
    "user_data = user_data.sort_values(by='num_tweets', ascending=False)"
   ]
  },
  {
   "cell_type": "code",
   "execution_count": 23,
   "metadata": {
    "collapsed": false
   },
   "outputs": [
    {
     "data": {
      "text/html": [
       "<div>\n",
       "<table border=\"1\" class=\"dataframe\">\n",
       "  <thead>\n",
       "    <tr style=\"text-align: right;\">\n",
       "      <th></th>\n",
       "      <th>num_tweets</th>\n",
       "    </tr>\n",
       "    <tr>\n",
       "      <th>from_user_screen_name</th>\n",
       "      <th></th>\n",
       "    </tr>\n",
       "  </thead>\n",
       "  <tbody>\n",
       "    <tr>\n",
       "      <th>TheExceptionMag</th>\n",
       "      <td>318</td>\n",
       "    </tr>\n",
       "    <tr>\n",
       "      <th>visitmontana</th>\n",
       "      <td>108</td>\n",
       "    </tr>\n",
       "    <tr>\n",
       "      <th>LeonKauffman</th>\n",
       "      <td>101</td>\n",
       "    </tr>\n",
       "    <tr>\n",
       "      <th>montanalori</th>\n",
       "      <td>77</td>\n",
       "    </tr>\n",
       "    <tr>\n",
       "      <th>Improve_HomesMT</th>\n",
       "      <td>73</td>\n",
       "    </tr>\n",
       "    <tr>\n",
       "      <th>WildReflections</th>\n",
       "      <td>47</td>\n",
       "    </tr>\n",
       "    <tr>\n",
       "      <th>RadleyIce</th>\n",
       "      <td>32</td>\n",
       "    </tr>\n",
       "    <tr>\n",
       "      <th>KLeaguePhoto</th>\n",
       "      <td>30</td>\n",
       "    </tr>\n",
       "    <tr>\n",
       "      <th>ShannonAMay</th>\n",
       "      <td>27</td>\n",
       "    </tr>\n",
       "    <tr>\n",
       "      <th>MichaelBHodges</th>\n",
       "      <td>27</td>\n",
       "    </tr>\n",
       "    <tr>\n",
       "      <th>ErinWx</th>\n",
       "      <td>26</td>\n",
       "    </tr>\n",
       "    <tr>\n",
       "      <th>wxmissoula</th>\n",
       "      <td>26</td>\n",
       "    </tr>\n",
       "    <tr>\n",
       "      <th>grdnrmt</th>\n",
       "      <td>21</td>\n",
       "    </tr>\n",
       "    <tr>\n",
       "      <th>EmilieRSaunders</th>\n",
       "      <td>21</td>\n",
       "    </tr>\n",
       "    <tr>\n",
       "      <th>jemgrigg</th>\n",
       "      <td>19</td>\n",
       "    </tr>\n",
       "    <tr>\n",
       "      <th>lastbestbox</th>\n",
       "      <td>19</td>\n",
       "    </tr>\n",
       "    <tr>\n",
       "      <th>22Lupfer</th>\n",
       "      <td>18</td>\n",
       "    </tr>\n",
       "    <tr>\n",
       "      <th>nprofilm</th>\n",
       "      <td>17</td>\n",
       "    </tr>\n",
       "    <tr>\n",
       "      <th>DancingAspens</th>\n",
       "      <td>17</td>\n",
       "    </tr>\n",
       "    <tr>\n",
       "      <th>earthXplorer</th>\n",
       "      <td>16</td>\n",
       "    </tr>\n",
       "    <tr>\n",
       "      <th>jvossphoto</th>\n",
       "      <td>15</td>\n",
       "    </tr>\n",
       "    <tr>\n",
       "      <th>Pointsandtravel</th>\n",
       "      <td>15</td>\n",
       "    </tr>\n",
       "    <tr>\n",
       "      <th>jesse__wurm</th>\n",
       "      <td>14</td>\n",
       "    </tr>\n",
       "    <tr>\n",
       "      <th>Amy_Savannah</th>\n",
       "      <td>13</td>\n",
       "    </tr>\n",
       "    <tr>\n",
       "      <th>HazerLive</th>\n",
       "      <td>12</td>\n",
       "    </tr>\n",
       "    <tr>\n",
       "      <th>Paws_Up</th>\n",
       "      <td>12</td>\n",
       "    </tr>\n",
       "    <tr>\n",
       "      <th>MerevinTweets</th>\n",
       "      <td>12</td>\n",
       "    </tr>\n",
       "    <tr>\n",
       "      <th>ttaylorpix</th>\n",
       "      <td>12</td>\n",
       "    </tr>\n",
       "    <tr>\n",
       "      <th>eyoung406</th>\n",
       "      <td>12</td>\n",
       "    </tr>\n",
       "    <tr>\n",
       "      <th>terriwilkey</th>\n",
       "      <td>12</td>\n",
       "    </tr>\n",
       "    <tr>\n",
       "      <th>...</th>\n",
       "      <td>...</td>\n",
       "    </tr>\n",
       "    <tr>\n",
       "      <th>MontanaTraveler</th>\n",
       "      <td>1</td>\n",
       "    </tr>\n",
       "    <tr>\n",
       "      <th>MontanaOhmy</th>\n",
       "      <td>1</td>\n",
       "    </tr>\n",
       "    <tr>\n",
       "      <th>MontanaNBCMT</th>\n",
       "      <td>1</td>\n",
       "    </tr>\n",
       "    <tr>\n",
       "      <th>PollTournament</th>\n",
       "      <td>1</td>\n",
       "    </tr>\n",
       "    <tr>\n",
       "      <th>Poppinoff406</th>\n",
       "      <td>1</td>\n",
       "    </tr>\n",
       "    <tr>\n",
       "      <th>SkiZerQuest</th>\n",
       "      <td>1</td>\n",
       "    </tr>\n",
       "    <tr>\n",
       "      <th>RockyTopSkiBum</th>\n",
       "      <td>1</td>\n",
       "    </tr>\n",
       "    <tr>\n",
       "      <th>SibyllaMatilde</th>\n",
       "      <td>1</td>\n",
       "    </tr>\n",
       "    <tr>\n",
       "      <th>ScottMathson</th>\n",
       "      <td>1</td>\n",
       "    </tr>\n",
       "    <tr>\n",
       "      <th>ScottGager</th>\n",
       "      <td>1</td>\n",
       "    </tr>\n",
       "    <tr>\n",
       "      <th>STC21BigSky</th>\n",
       "      <td>1</td>\n",
       "    </tr>\n",
       "    <tr>\n",
       "      <th>SOAR12steps</th>\n",
       "      <td>1</td>\n",
       "    </tr>\n",
       "    <tr>\n",
       "      <th>RyanTurnerPhoto</th>\n",
       "      <td>1</td>\n",
       "    </tr>\n",
       "    <tr>\n",
       "      <th>RyanSennPT</th>\n",
       "      <td>1</td>\n",
       "    </tr>\n",
       "    <tr>\n",
       "      <th>RyanDLeaf</th>\n",
       "      <td>1</td>\n",
       "    </tr>\n",
       "    <tr>\n",
       "      <th>RonjaAbel</th>\n",
       "      <td>1</td>\n",
       "    </tr>\n",
       "    <tr>\n",
       "      <th>RogueMahmaBear</th>\n",
       "      <td>1</td>\n",
       "    </tr>\n",
       "    <tr>\n",
       "      <th>Rockiesmt</th>\n",
       "      <td>1</td>\n",
       "    </tr>\n",
       "    <tr>\n",
       "      <th>RSRandall</th>\n",
       "      <td>1</td>\n",
       "    </tr>\n",
       "    <tr>\n",
       "      <th>Rickmayphotos</th>\n",
       "      <td>1</td>\n",
       "    </tr>\n",
       "    <tr>\n",
       "      <th>ResourceTravel</th>\n",
       "      <td>1</td>\n",
       "    </tr>\n",
       "    <tr>\n",
       "      <th>ReeVarcoe</th>\n",
       "      <td>1</td>\n",
       "    </tr>\n",
       "    <tr>\n",
       "      <th>RedLodgeMntn</th>\n",
       "      <td>1</td>\n",
       "    </tr>\n",
       "    <tr>\n",
       "      <th>Realty_AnnHall</th>\n",
       "      <td>1</td>\n",
       "    </tr>\n",
       "    <tr>\n",
       "      <th>RealJamesET</th>\n",
       "      <td>1</td>\n",
       "    </tr>\n",
       "    <tr>\n",
       "      <th>RealAmerica_USA</th>\n",
       "      <td>1</td>\n",
       "    </tr>\n",
       "    <tr>\n",
       "      <th>RealAmericaNL</th>\n",
       "      <td>1</td>\n",
       "    </tr>\n",
       "    <tr>\n",
       "      <th>RaniSapra</th>\n",
       "      <td>1</td>\n",
       "    </tr>\n",
       "    <tr>\n",
       "      <th>RandyWhite64</th>\n",
       "      <td>1</td>\n",
       "    </tr>\n",
       "    <tr>\n",
       "      <th>zach_w84it_nell</th>\n",
       "      <td>1</td>\n",
       "    </tr>\n",
       "  </tbody>\n",
       "</table>\n",
       "<p>546 rows × 1 columns</p>\n",
       "</div>"
      ],
      "text/plain": [
       "                       num_tweets\n",
       "from_user_screen_name            \n",
       "TheExceptionMag               318\n",
       "visitmontana                  108\n",
       "LeonKauffman                  101\n",
       "montanalori                    77\n",
       "Improve_HomesMT                73\n",
       "WildReflections                47\n",
       "RadleyIce                      32\n",
       "KLeaguePhoto                   30\n",
       "ShannonAMay                    27\n",
       "MichaelBHodges                 27\n",
       "ErinWx                         26\n",
       "wxmissoula                     26\n",
       "grdnrmt                        21\n",
       "EmilieRSaunders                21\n",
       "jemgrigg                       19\n",
       "lastbestbox                    19\n",
       "22Lupfer                       18\n",
       "nprofilm                       17\n",
       "DancingAspens                  17\n",
       "earthXplorer                   16\n",
       "jvossphoto                     15\n",
       "Pointsandtravel                15\n",
       "jesse__wurm                    14\n",
       "Amy_Savannah                   13\n",
       "HazerLive                      12\n",
       "Paws_Up                        12\n",
       "MerevinTweets                  12\n",
       "ttaylorpix                     12\n",
       "eyoung406                      12\n",
       "terriwilkey                    12\n",
       "...                           ...\n",
       "MontanaTraveler                 1\n",
       "MontanaOhmy                     1\n",
       "MontanaNBCMT                    1\n",
       "PollTournament                  1\n",
       "Poppinoff406                    1\n",
       "SkiZerQuest                     1\n",
       "RockyTopSkiBum                  1\n",
       "SibyllaMatilde                  1\n",
       "ScottMathson                    1\n",
       "ScottGager                      1\n",
       "STC21BigSky                     1\n",
       "SOAR12steps                     1\n",
       "RyanTurnerPhoto                 1\n",
       "RyanSennPT                      1\n",
       "RyanDLeaf                       1\n",
       "RonjaAbel                       1\n",
       "RogueMahmaBear                  1\n",
       "Rockiesmt                       1\n",
       "RSRandall                       1\n",
       "Rickmayphotos                   1\n",
       "ResourceTravel                  1\n",
       "ReeVarcoe                       1\n",
       "RedLodgeMntn                    1\n",
       "Realty_AnnHall                  1\n",
       "RealJamesET                     1\n",
       "RealAmerica_USA                 1\n",
       "RealAmericaNL                   1\n",
       "RaniSapra                       1\n",
       "RandyWhite64                    1\n",
       "zach_w84it_nell                 1\n",
       "\n",
       "[546 rows x 1 columns]"
      ]
     },
     "execution_count": 23,
     "metadata": {},
     "output_type": "execute_result"
    }
   ],
   "source": [
    "# the top tweeter (Exception Mag) is a Portland based media company apparently unrelated\n",
    "# the official mt destination marketing org is 2nd\n",
    "# 3rd is Leon Kauffman, a freelance photographer based in MT - \n",
    "\n",
    "user_data"
   ]
  },
  {
   "cell_type": "code",
   "execution_count": 24,
   "metadata": {
    "collapsed": false
   },
   "outputs": [
    {
     "data": {
      "text/plain": [
       "2187"
      ]
     },
     "execution_count": 24,
     "metadata": {},
     "output_type": "execute_result"
    }
   ],
   "source": [
    "len(df)"
   ]
  },
  {
   "cell_type": "code",
   "execution_count": 25,
   "metadata": {
    "collapsed": false
   },
   "outputs": [
    {
     "name": "stdout",
     "output_type": "stream",
     "text": [
      "The top 5 users tweeted 32.9% of the tweets.\n"
     ]
    }
   ],
   "source": [
    "# it appears use of the 'montanaMoment' hashtag is distributed across many users, rather than a select few.\n",
    "\n",
    "print \"The top 5 users tweeted \" + str(round((318 + 108 + 103 +  101 + 90) / float(len(df)) * 100, 1)) + \"% of the tweets.\""
   ]
  },
  {
   "cell_type": "code",
   "execution_count": 26,
   "metadata": {
    "collapsed": false
   },
   "outputs": [
    {
     "data": {
      "image/png": "[encoded data removed]",
      "text/plain": [
       "<matplotlib.figure.Figure at 0x9969748>"
      ]
     },
     "metadata": {},
     "output_type": "display_data"
    }
   ],
   "source": [
    "# let's put the tweet data to a graph\n",
    "# One of the interesting questions is who is driving the traffic of tweets (to be analyzed later). First, let's get a \n",
    "# closer look at the top segment\n",
    "user_data['num_tweets'].plot()\n",
    "plt.tick_params(\n",
    "    axis='x',          # changes apply to the x-axis\n",
    "    which='both',      # both major and minor ticks are affected\n",
    "    bottom='off',      # ticks along the bottom edge are off\n",
    "    top='off',         # ticks along the top edge are off\n",
    "    labelbottom='off') # labels along the bottom edge are off\n",
    "# savefig('graph_HT_users_tweets_all.png', bbox_inches='tight', dpi=300, format='png')"
   ]
  },
  {
   "cell_type": "code",
   "execution_count": 27,
   "metadata": {
    "collapsed": false
   },
   "outputs": [
    {
     "name": "stdout",
     "output_type": "stream",
     "text": [
      "The number of unique users who have tweeted 'montanamoment' is 546\n",
      "Of those users, 336 have only tweeted once\n",
      "That leaves 210 who have tweeted more than once\n"
     ]
    }
   ],
   "source": [
    "\n",
    "print(\"The number of unique users who have tweeted 'montanamoment' is \" + str(len(user_data)))\n",
    "print(\"Of those users, \" + str((len(user_data[user_data['num_tweets'] == 1]))) + \" have only tweeted once\")\n",
    "print(\"That leaves \" + str((len(user_data) - (len(user_data[user_data['num_tweets'] == 1])))) +\" who have tweeted more than once\")"
   ]
  },
  {
   "cell_type": "code",
   "execution_count": 28,
   "metadata": {
    "collapsed": false
   },
   "outputs": [
    {
     "name": "stdout",
     "output_type": "stream",
     "text": [
      "The number of unique users who have tweeted 'montanamoment' is 546\n",
      "Of those users, 468 have tweeted 'montanaMoment' less than 5 times\n",
      "Lets graph the 60 who have tweeted more than 5 times\n"
     ]
    }
   ],
   "source": [
    "print(\"The number of unique users who have tweeted 'montanamoment' is \" + str(len(user_data)))\n",
    "print(\"Of those users, \" + str((len(user_data[user_data['num_tweets'] < 5]))) + \" have tweeted 'montanaMoment' less than 5 times\")\n",
    "print(\"Lets graph the \" + str((len(user_data) - (len(user_data[user_data['num_tweets'] <= 5])))) +\" who have tweeted more than 5 times\")"
   ]
  },
  {
   "cell_type": "code",
   "execution_count": 29,
   "metadata": {
    "collapsed": false
   },
   "outputs": [
    {
     "data": {
      "text/plain": [
       "60"
      ]
     },
     "execution_count": 29,
     "metadata": {},
     "output_type": "execute_result"
    }
   ],
   "source": [
    "# math check\n",
    "len(user_data[user_data['num_tweets'] > 5])"
   ]
  },
  {
   "cell_type": "code",
   "execution_count": 30,
   "metadata": {
    "collapsed": false
   },
   "outputs": [
    {
     "data": {
      "image/png": "[encoded data removed]",
      "text/plain": [
       "<matplotlib.figure.Figure at 0x8d18cf8>"
      ]
     },
     "metadata": {},
     "output_type": "display_data"
    }
   ],
   "source": [
    "user_data[user_data['num_tweets'] > 5].plot()\n",
    "plt.tick_params(\n",
    "    axis='x',          # changes apply to the x-axis\n",
    "    which='both',      # both major and minor ticks are affected\n",
    "    bottom='off',      # ticks along the bottom edge are off\n",
    "    top='off',         # ticks along the top edge are off\n",
    "    labelbottom='off') # labels along the bottom edge are off\n",
    "savefig('graph_HT_users_tweets_5&above.png', bbox_inches='tight', dpi=300, format='png')"
   ]
  },
  {
   "cell_type": "code",
   "execution_count": 31,
   "metadata": {
    "collapsed": false
   },
   "outputs": [
    {
     "data": {
      "text/html": [
       "<div>\n",
       "<table border=\"1\" class=\"dataframe\">\n",
       "  <thead>\n",
       "    <tr style=\"text-align: right;\">\n",
       "      <th></th>\n",
       "      <th>num_tweets</th>\n",
       "    </tr>\n",
       "    <tr>\n",
       "      <th>from_user_screen_name</th>\n",
       "      <th></th>\n",
       "    </tr>\n",
       "  </thead>\n",
       "  <tbody>\n",
       "    <tr>\n",
       "      <th>TheExceptionMag</th>\n",
       "      <td>318</td>\n",
       "    </tr>\n",
       "    <tr>\n",
       "      <th>visitmontana</th>\n",
       "      <td>108</td>\n",
       "    </tr>\n",
       "    <tr>\n",
       "      <th>LeonKauffman</th>\n",
       "      <td>101</td>\n",
       "    </tr>\n",
       "    <tr>\n",
       "      <th>montanalori</th>\n",
       "      <td>77</td>\n",
       "    </tr>\n",
       "    <tr>\n",
       "      <th>Improve_HomesMT</th>\n",
       "      <td>73</td>\n",
       "    </tr>\n",
       "  </tbody>\n",
       "</table>\n",
       "</div>"
      ],
      "text/plain": [
       "                       num_tweets\n",
       "from_user_screen_name            \n",
       "TheExceptionMag               318\n",
       "visitmontana                  108\n",
       "LeonKauffman                  101\n",
       "montanalori                    77\n",
       "Improve_HomesMT                73"
      ]
     },
     "execution_count": 31,
     "metadata": {},
     "output_type": "execute_result"
    }
   ],
   "source": [
    "##################   It looks like the bulk of these 5+ tweeters have tweeted less than 100 times, we \n",
    "## see only 4 people have tweeted more than 100 times.\n",
    "user_data.head(5)"
   ]
  },
  {
   "cell_type": "code",
   "execution_count": 32,
   "metadata": {
    "collapsed": false,
    "scrolled": true
   },
   "outputs": [
    {
     "data": {
      "image/png": "[encoded data removed]",
      "text/plain": [
       "<matplotlib.figure.Figure at 0xcad6358>"
      ]
     },
     "metadata": {},
     "output_type": "display_data"
    }
   ],
   "source": [
    "## This is clearer when we graph only those users who have tweeted 'montanaMoment more than 30 times\n",
    "\n",
    "user_data[user_data['num_tweets'] > 30].plot()\n",
    "plt.tick_params(\n",
    "    axis='x',          # changes apply to the x-axis\n",
    "    which='both',      # both major and minor ticks are affected\n",
    "    bottom='off',      # ticks along the bottom edge are off\n",
    "    top='off',         # ticks along the top edge are off\n",
    "    labelbottom='off') # labels along the bottom edge are off\n",
    "# savefig('graph_HT_users_tweets_30&above.png', bbox_inches='tight', dpi=300, format='png')"
   ]
  }
 ],
 "metadata": {
  "anaconda-cloud": {},
  "kernelspec": {
   "display_name": "Python [default]",
   "language": "python",
   "name": "python2"
  },
  "language_info": {
   "codemirror_mode": {
    "name": "ipython",
    "version": 2
   },
   "file_extension": ".py",
   "mimetype": "text/x-python",
   "name": "python",
   "nbconvert_exporter": "python",
   "pygments_lexer": "ipython2",
   "version": "2.7.12"
  }
 },
 "nbformat": 4,
 "nbformat_minor": 1
}
